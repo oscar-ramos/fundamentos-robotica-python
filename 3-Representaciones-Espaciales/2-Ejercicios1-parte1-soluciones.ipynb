{
 "cells": [
  {
   "cell_type": "markdown",
   "metadata": {
    "colab_type": "text",
    "id": "G9sLmAEN7-Rs"
   },
   "source": [
    "# Ejercicios 1: Representaciones Espaciales I (soluciones)\n",
    "\n",
    "[![Open In Colab](https://colab.research.google.com/assets/colab-badge.svg)](https://colab.research.google.com/github/oscar-ramos/fundamentos-robotica-python/blob/main/3-Representaciones-Espaciales/2-ejercicios-parte1-soluciones.ipynb)\n",
    "\n",
    "Oscar E. Ramos Ponce, Universidad de Ingeniería y Tecnología - UTEC\n",
    "Fundamentos de Robótica\n",
    "\n",
    "Este archivo contiene las soluciones del conjunto de Ejercicios: Representaciones Espaciales (I)"
   ]
  },
  {
   "cell_type": "code",
   "execution_count": 1,
   "metadata": {},
   "outputs": [],
   "source": [
    "# Se utilizará sympy para el cálculo simbólico\n",
    "import sympy as sp\n",
    "\n",
    "# Se utilizará numpy para el cálculo numérico\n",
    "import numpy as np"
   ]
  },
  {
   "cell_type": "markdown",
   "metadata": {},
   "source": [
    "### Pregunta 1"
   ]
  },
  {
   "cell_type": "code",
   "execution_count": 2,
   "metadata": {
    "colab": {
     "base_uri": "https://localhost:8080/",
     "height": 85
    },
    "colab_type": "code",
    "id": "v3Rm-bZzLJil",
    "outputId": "1ec91c08-f4e5-4967-f97d-53bb690786f3"
   },
   "outputs": [],
   "source": [
    "# Alias para el seno y coseno simbólicos (de sympy)\n",
    "cos = sp.cos\n",
    "sin = sp.sin\n",
    "\n",
    "# Definición de las matrices de rotación en y, z usando sympy\n",
    "def sroty(ang):\n",
    "    Ry = sp.Matrix([[cos(ang), 0, sin(ang)],\n",
    "                    [0, 1, 0],\n",
    "                    [-sin(ang), 0, cos(ang)]])\n",
    "    return Ry\n",
    "\n",
    "def srotz(ang):\n",
    "    Rz = sp.Matrix([[cos(ang), -sin(ang), 0],\n",
    "                   [sin(ang), cos(ang), 0],\n",
    "                   [0,0,1]])\n",
    "    return Rz"
   ]
  },
  {
   "cell_type": "code",
   "execution_count": 3,
   "metadata": {},
   "outputs": [
    {
     "data": {
      "text/latex": [
       "$\\displaystyle \\left[\\begin{matrix}\\cos{\\left(p \\right)} \\cos{\\left(t \\right)} & - \\sin{\\left(t \\right)} & \\sin{\\left(p \\right)} \\cos{\\left(t \\right)}\\\\\\sin{\\left(t \\right)} \\cos{\\left(p \\right)} & \\cos{\\left(t \\right)} & \\sin{\\left(p \\right)} \\sin{\\left(t \\right)}\\\\- \\sin{\\left(p \\right)} & 0 & \\cos{\\left(p \\right)}\\end{matrix}\\right]$"
      ],
      "text/plain": [
       "Matrix([\n",
       "[cos(p)*cos(t), -sin(t), sin(p)*cos(t)],\n",
       "[sin(t)*cos(p),  cos(t), sin(p)*sin(t)],\n",
       "[      -sin(p),       0,        cos(p)]])"
      ]
     },
     "execution_count": 3,
     "metadata": {},
     "output_type": "execute_result"
    }
   ],
   "source": [
    "# Generación de variables simbólicas\n",
    "t, p = sp.symbols(\"t p\")\n",
    "\n",
    "# a) Rotación deseada\n",
    "R = srotz(t)*sroty(p)\n",
    "#    Para mostrar el resultado en sympy solamente escribir el nombre de la variable (sin print)\n",
    "R  "
   ]
  },
  {
   "cell_type": "code",
   "execution_count": 4,
   "metadata": {
    "colab": {
     "base_uri": "https://localhost:8080/",
     "height": 85
    },
    "colab_type": "code",
    "id": "4Win4IzXfjAo",
    "outputId": "11c32024-448d-463a-d987-ff10581ac1ac"
   },
   "outputs": [
    {
     "data": {
      "text/latex": [
       "$\\displaystyle \\left[\\begin{matrix}\\cos{\\left(p \\right)} \\cos{\\left(t \\right)} & \\sin{\\left(t \\right)} \\cos{\\left(p \\right)} & - \\sin{\\left(p \\right)}\\\\- \\sin{\\left(t \\right)} & \\cos{\\left(t \\right)} & 0\\\\\\sin{\\left(p \\right)} \\cos{\\left(t \\right)} & \\sin{\\left(p \\right)} \\sin{\\left(t \\right)} & \\cos{\\left(p \\right)}\\end{matrix}\\right]$"
      ],
      "text/plain": [
       "Matrix([\n",
       "[cos(p)*cos(t), sin(t)*cos(p), -sin(p)],\n",
       "[      -sin(t),        cos(t),       0],\n",
       "[sin(p)*cos(t), sin(p)*sin(t),  cos(p)]])"
      ]
     },
     "execution_count": 4,
     "metadata": {},
     "output_type": "execute_result"
    }
   ],
   "source": [
    "# b) Transpuesta\n",
    "R.T"
   ]
  },
  {
   "cell_type": "markdown",
   "metadata": {
    "colab_type": "text",
    "id": "e8q86H-RY1sx"
   },
   "source": [
    "### Pregunta 2"
   ]
  },
  {
   "cell_type": "code",
   "execution_count": 5,
   "metadata": {
    "colab": {},
    "colab_type": "code",
    "id": "iS3_-RH8M71H"
   },
   "outputs": [],
   "source": [
    "# Alias para el seno y coseno numéricos (de NumPy)\n",
    "cos = np.cos\n",
    "sin = np.sin\n",
    "pi = np.pi\n",
    "\n",
    "def roty(ang):\n",
    "    Ry = np.array([[cos(ang), 0, sin(ang)],\n",
    "                   [0, 1, 0],\n",
    "                   [-sin(ang), 0, cos(ang)]])\n",
    "    return Ry\n",
    "\n",
    "def rotz(ang):\n",
    "    Rz = np.array([[cos(ang), -sin(ang), 0],\n",
    "                   [sin(ang), cos(ang), 0],\n",
    "                   [0,0,1]])\n",
    "    return Rz\n",
    "\n",
    "def rotx(ang):\n",
    "    Rx = np.array([[1, 0, 0],\n",
    "                   [0, cos(ang), -sin(ang)],\n",
    "                   [0, sin(ang), cos(ang)]])\n",
    "    return Rx"
   ]
  },
  {
   "cell_type": "code",
   "execution_count": 6,
   "metadata": {
    "colab": {
     "base_uri": "https://localhost:8080/",
     "height": 68
    },
    "colab_type": "code",
    "id": "N8mgnDT1OiDG",
    "outputId": "ff67a6d6-f643-46d7-99f3-81287cba0ad6"
   },
   "outputs": [
    {
     "name": "stdout",
     "output_type": "stream",
     "text": [
      "[[ 0.    -0.     1.   ]\n",
      " [ 0.707  0.707  0.   ]\n",
      " [-0.707  0.707  0.   ]]\n"
     ]
    }
   ],
   "source": [
    "# Punto en el sistema I\n",
    "pI = np.array([[1],[1],[1]])\n",
    "\n",
    "# Matriz de rotación del sistema F con respecto al sistema I\n",
    "R_IF= roty(pi/2) @ rotz(pi/4)\n",
    "print(np.round(R_IF, 3))"
   ]
  },
  {
   "cell_type": "code",
   "execution_count": 7,
   "metadata": {},
   "outputs": [
    {
     "name": "stdout",
     "output_type": "stream",
     "text": [
      "[[0.   ]\n",
      " [1.414]\n",
      " [1.   ]]\n"
     ]
    }
   ],
   "source": [
    "# Punto en el sistema F\n",
    "pF = R_IF.T @ pI\n",
    "print(np.round(pF,3))"
   ]
  },
  {
   "cell_type": "markdown",
   "metadata": {
    "colab_type": "text",
    "id": "q1RpTEX5ZTEa"
   },
   "source": [
    "### Pregunta 3"
   ]
  },
  {
   "cell_type": "code",
   "execution_count": 8,
   "metadata": {
    "colab": {
     "base_uri": "https://localhost:8080/",
     "height": 153
    },
    "colab_type": "code",
    "id": "fMkDOoC9O306",
    "outputId": "9900976b-9e96-4eb9-9a9c-c974b795fd9f"
   },
   "outputs": [
    {
     "name": "stdout",
     "output_type": "stream",
     "text": [
      "Punto en el sistema A:\n",
      "[[ 2. ]\n",
      " [-1.6]\n",
      " [ 6.2]]\n",
      "Punto en el sistema B:\n",
      "[[2.]\n",
      " [4.]\n",
      " [5.]]\n"
     ]
    }
   ],
   "source": [
    "# Matriz de rotación del sistema A con respecto al sistema B\n",
    "R_BA = np.array([[1, 0, 0],\n",
    "                 [0, 0.6, 0.8],\n",
    "                 [0, -0.8, 0.6]])\n",
    "# Punto expresado con respecto al sistema B\n",
    "p_B = np.array([[2, 4, 5]]).T\n",
    "\n",
    "# Parte a) Punto con respecto al sistema A\n",
    "p_A = R_BA.T @ p_B\n",
    "print(\"Punto en el sistema A:\"); print(p_A)\n",
    "\n",
    "# Parte b) Punto con respecto al sistema B\n",
    "p_B1 = R_BA @ p_A\n",
    "print(\"Punto en el sistema B:\"); print(p_B1)"
   ]
  },
  {
   "cell_type": "markdown",
   "metadata": {},
   "source": [
    "### Pregunta 4"
   ]
  },
  {
   "cell_type": "code",
   "execution_count": 9,
   "metadata": {},
   "outputs": [
    {
     "data": {
      "text/plain": [
       "array([[ 0.       ,  0.       , -1.       ],\n",
       "       [ 0.8660254,  0.5      ,  0.       ],\n",
       "       [ 0.5      , -0.8660254,  0.       ]])"
      ]
     },
     "execution_count": 9,
     "metadata": {},
     "output_type": "execute_result"
    }
   ],
   "source": [
    "RAB = np.array([[1, 0, 0],\n",
    "                [0, 1/2, -np.sqrt(3)/2],\n",
    "                [0, np.sqrt(3)/2, 1/2]])\n",
    "RAC = np.array([[0, 0, -1],\n",
    "                [0, 1, 0],\n",
    "                [1, 0, 0]])\n",
    "\n",
    "# RBC = RBA RAC = RAB^T RAC\n",
    "RBC = RAB.T @ RAC\n",
    "RBC"
   ]
  },
  {
   "cell_type": "markdown",
   "metadata": {
    "colab_type": "text",
    "id": "NuF2xO6aZ-ze"
   },
   "source": [
    "### Pregunta 5"
   ]
  },
  {
   "cell_type": "code",
   "execution_count": 10,
   "metadata": {
    "colab": {
     "base_uri": "https://localhost:8080/",
     "height": 119
    },
    "colab_type": "code",
    "id": "5hyUMixsQslO",
    "outputId": "25953019-32d0-4fc7-b75a-dbf246e9c475"
   },
   "outputs": [
    {
     "name": "stdout",
     "output_type": "stream",
     "text": [
      "M^T M:\n",
      "[[ 1. -0. -0.]\n",
      " [-0.  1. -0.]\n",
      " [-0. -0.  1.]]\n",
      "det(M):\n",
      "1.00005332514\n"
     ]
    }
   ],
   "source": [
    "# Matriz\n",
    "M = np.array([[0.3536, -0.6124, 0.7071],\n",
    "              [0.9268, 0.1268, -0.3536],\n",
    "              [0.1268, 0.7803, 0.6124]])\n",
    "\n",
    "# Verificación parte 1: el producto de la matriz por su transpuesta es la identidad\n",
    "print(\"M^T M:\"); print( np.round( M.T @ M, 2) )\n",
    "\n",
    "# Verificación parte 2: Determinante de la matriz M\n",
    "print(\"det(M):\"); print(np.linalg.det(M))"
   ]
  },
  {
   "cell_type": "markdown",
   "metadata": {},
   "source": [
    "Sí es una matriz de rotación"
   ]
  },
  {
   "cell_type": "markdown",
   "metadata": {
    "colab_type": "text",
    "id": "oTDhE8SJaRXQ"
   },
   "source": [
    "### Pregunta 6"
   ]
  },
  {
   "cell_type": "code",
   "execution_count": 11,
   "metadata": {
    "colab": {
     "base_uri": "https://localhost:8080/",
     "height": 255
    },
    "colab_type": "code",
    "id": "jNsa7FgPSRQ2",
    "outputId": "10d19d0e-925a-4960-92ca-91fb8db20de2"
   },
   "outputs": [
    {
     "name": "stdout",
     "output_type": "stream",
     "text": [
      "Rz(-pi/2) Rx(pi/2):\n",
      "[[ 0.  0. -1.]\n",
      " [-1.  0. -0.]\n",
      " [ 0.  1.  0.]]\n",
      "\n",
      "Rx(pi/2) Ry(-pi/2):\n",
      "[[ 0.  0. -1.]\n",
      " [-1.  0. -0.]\n",
      " [ 0.  1.  0.]]\n",
      "\n",
      "Ry(-pi/2) Rz(-pi/2):\n",
      "[[ 0.  0. -1.]\n",
      " [-1.  0.  0.]\n",
      " [ 0.  1.  0.]]\n"
     ]
    }
   ],
   "source": [
    "# Parte b) 3 diferentes alternativas de solución (hay más posibles)\n",
    "R1 = rotz(-pi/2) @ rotx(pi/2)\n",
    "R2 = rotx(pi/2) @ roty(-pi/2)\n",
    "R3 = roty(-pi/2) @ rotz(-pi/2)\n",
    "\n",
    "print(\"Rz(-pi/2) Rx(pi/2):\"); print( np.round(R1) )\n",
    "print(\"\\nRx(pi/2) Ry(-pi/2):\"); print( np.round(R2) )\n",
    "print(\"\\nRy(-pi/2) Rz(-pi/2):\"); print( np.round(R3) )"
   ]
  },
  {
   "cell_type": "markdown",
   "metadata": {
    "colab_type": "text",
    "id": "6D44bp2Lbdwy"
   },
   "source": [
    "### Pregunta 7"
   ]
  },
  {
   "cell_type": "code",
   "execution_count": 12,
   "metadata": {
    "colab": {
     "base_uri": "https://localhost:8080/",
     "height": 187
    },
    "colab_type": "code",
    "id": "AdU_WeuuVjgi",
    "outputId": "bcdd2088-faa1-4cfb-d510-d8acb7e7e2a4"
   },
   "outputs": [
    {
     "name": "stdout",
     "output_type": "stream",
     "text": [
      "[[-0.5    0.866 -0.   ]\n",
      " [-0.866 -0.5    0.   ]\n",
      " [-0.     0.     1.   ]]\n"
     ]
    }
   ],
   "source": [
    "# Matriz de rotación resultante\n",
    "R = np.array([ [0, 0.866, -0.5],\n",
    "               [-1, 0, 0],\n",
    "               [0, 0.5, 0.866] ])\n",
    "\n",
    "# Rotación despejada (Rz)\n",
    "Rz = rotx(-pi/2).T @ R @ roty(pi/2).T\n",
    "print(np.round(Rz,4))"
   ]
  },
  {
   "cell_type": "code",
   "execution_count": 13,
   "metadata": {},
   "outputs": [
    {
     "name": "stdout",
     "output_type": "stream",
     "text": [
      "\n",
      "El valor de th es:-120.00072778082739\n",
      "\n",
      "Verificación:\n",
      "[[-0.500011    0.86601905  0.        ]\n",
      " [-0.86601905 -0.500011    0.        ]\n",
      " [ 0.          0.          1.        ]]\n"
     ]
    }
   ],
   "source": [
    "# Ángulo obtenido a partir de comparación con la matriz de rotación en z\n",
    "th = np.arctan2(-0.866, -0.5)\n",
    "print(\"\\nEl valor de th es:\" + str(np.rad2deg(th)))\n",
    "\n",
    "# Verificación del ángulo obtenido:\n",
    "print(\"\\nVerificación:\"); print(rotz(th))"
   ]
  },
  {
   "cell_type": "markdown",
   "metadata": {},
   "source": [
    "### Pregunta 8"
   ]
  },
  {
   "cell_type": "code",
   "execution_count": 14,
   "metadata": {},
   "outputs": [
    {
     "data": {
      "text/plain": [
       "array([[ 0.557, -0.5  ,  0.663],\n",
       "       [ 0.766,  0.   , -0.643],\n",
       "       [ 0.321,  0.866,  0.383]])"
      ]
     },
     "execution_count": 14,
     "metadata": {},
     "output_type": "execute_result"
    }
   ],
   "source": [
    "# a) R = Rotx(90)Rotz(30)Roty(50)  ... final respecto de inicial\n",
    "R = rotx(np.deg2rad(90)) @ rotz(np.deg2rad(30)) @ roty(np.deg2rad(50))\n",
    "np.round(R,3)"
   ]
  },
  {
   "cell_type": "code",
   "execution_count": 15,
   "metadata": {},
   "outputs": [
    {
     "data": {
      "text/plain": [
       "array([ 5.82162722, -0.6339746 , -0.84067398])"
      ]
     },
     "execution_count": 15,
     "metadata": {},
     "output_type": "execute_result"
    }
   ],
   "source": [
    "# b) \n",
    "p_i = np.array([3, 5, 1])\n",
    "p_f = R.T @ p_i\n",
    "p_f"
   ]
  }
 ],
 "metadata": {
  "colab": {
   "collapsed_sections": [],
   "name": "Ejercicios .ipynb",
   "provenance": []
  },
  "kernelspec": {
   "display_name": "Python 3.9.12 ('base')",
   "language": "python",
   "name": "python3"
  },
  "language_info": {
   "codemirror_mode": {
    "name": "ipython",
    "version": 3
   },
   "file_extension": ".py",
   "mimetype": "text/x-python",
   "name": "python",
   "nbconvert_exporter": "python",
   "pygments_lexer": "ipython3",
   "version": "3.9.12"
  },
  "vscode": {
   "interpreter": {
    "hash": "470260c6919e9ff48e1a573ae64d2f776c76ca8b99100eba78f1a4e3574395cd"
   }
  }
 },
 "nbformat": 4,
 "nbformat_minor": 1
}
