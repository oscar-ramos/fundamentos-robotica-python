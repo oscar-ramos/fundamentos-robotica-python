{
 "cells": [
  {
   "cell_type": "markdown",
   "metadata": {},
   "source": [
    "## Representaciones Espaciales - Parte 2\n",
    "[![Open In Colab](https://colab.research.google.com/assets/colab-badge.svg)](https://colab.research.google.com/github/oscar-ramos/fundamentos-robotica-python/blob/main/3-Representaciones-Espaciales/2-representaciones-espaciales-II.ipynb)\n",
    "\n",
    "Oscar E. Ramos Ponce, Universidad de Ingeniería y Tecnología - UTEC\n",
    "Fundamentos de Robótica\n",
    "\n",
    "Este archivo contiene algunos ejemplos de las diapositivas del curso"
   ]
  },
  {
   "cell_type": "code",
   "execution_count": 1,
   "metadata": {},
   "outputs": [],
   "source": [
    "import numpy as np\n",
    "import sympy as sp"
   ]
  },
  {
   "cell_type": "markdown",
   "metadata": {},
   "source": [
    "## 1.&nbsp;Transformaciones Homogéneas"
   ]
  },
  {
   "cell_type": "markdown",
   "metadata": {},
   "source": [
    "### Diap 6: Composición"
   ]
  },
  {
   "cell_type": "code",
   "execution_count": 2,
   "metadata": {},
   "outputs": [
    {
     "data": {
      "text/plain": [
       "array([[ 1.,  0.,  0.,  6.],\n",
       "       [ 0.,  0., -1., -2.],\n",
       "       [ 0.,  1.,  0., 10.],\n",
       "       [ 0.,  0.,  0.,  1.]])"
      ]
     },
     "execution_count": 2,
     "metadata": {},
     "output_type": "execute_result"
    }
   ],
   "source": [
    "def Trasl(x,y,z):\n",
    "    T = np.array([[1, 0, 0, x],\n",
    "                  [0, 1, 0, y], \n",
    "                  [0, 0, 1, z],\n",
    "                  [0, 0, 0, 1]])\n",
    "    return T\n",
    "\n",
    "def Trotx(ang):\n",
    "    Tx = np.array([[1, 0, 0, 0],\n",
    "                   [0, np.cos(ang), -np.sin(ang), 0],\n",
    "                   [0, np.sin(ang),  np.cos(ang), 0],\n",
    "                   [0, 0, 0, 1]])\n",
    "    return Tx\n",
    "\n",
    "T = Trasl(6, -2, 10) @ Trotx(np.pi/2)\n",
    "np.round(T, 3)"
   ]
  },
  {
   "cell_type": "markdown",
   "metadata": {},
   "source": [
    "### Diap 7: Composición"
   ]
  },
  {
   "cell_type": "code",
   "execution_count": 3,
   "metadata": {},
   "outputs": [],
   "source": [
    "def sTrasl(x,y,z):\n",
    "    T = sp.Matrix([[1, 0, 0, x],\n",
    "                   [0, 1, 0, y], \n",
    "                   [0, 0, 1, z],\n",
    "                   [0, 0, 0, 1]])\n",
    "    return T\n",
    "\n",
    "def sTrotx(ang):\n",
    "    Tx = sp.Matrix([[1, 0, 0, 0],\n",
    "                    [0, sp.cos(ang), -sp.sin(ang), 0],\n",
    "                    [0, sp.sin(ang),  sp.cos(ang), 0],\n",
    "                    [0, 0, 0, 1]])\n",
    "    return Tx\n",
    "\n",
    "def sTrotz(ang):\n",
    "    Tz = sp.Matrix([[sp.cos(ang), -sp.sin(ang), 0, 0],\n",
    "                    [sp.sin(ang),  sp.cos(ang), 0, 0],\n",
    "                    [0, 0, 1, 0],\n",
    "                    [0, 0, 0, 1]])\n",
    "    return Tz"
   ]
  },
  {
   "cell_type": "code",
   "execution_count": 4,
   "metadata": {},
   "outputs": [
    {
     "data": {
      "text/latex": [
       "$\\displaystyle \\left[\\begin{matrix}\\cos{\\left(t \\right)} & - \\sin{\\left(t \\right)} & 0 & b\\\\\\sin{\\left(t \\right)} \\cos{\\left(a \\right)} & \\cos{\\left(a \\right)} \\cos{\\left(t \\right)} & - \\sin{\\left(a \\right)} & - d \\sin{\\left(a \\right)}\\\\\\sin{\\left(a \\right)} \\sin{\\left(t \\right)} & \\sin{\\left(a \\right)} \\cos{\\left(t \\right)} & \\cos{\\left(a \\right)} & d \\cos{\\left(a \\right)}\\\\0 & 0 & 0 & 1\\end{matrix}\\right]$"
      ],
      "text/plain": [
       "Matrix([\n",
       "[       cos(t),       -sin(t),       0,         b],\n",
       "[sin(t)*cos(a), cos(a)*cos(t), -sin(a), -d*sin(a)],\n",
       "[sin(a)*sin(t), sin(a)*cos(t),  cos(a),  d*cos(a)],\n",
       "[            0,             0,       0,         1]])"
      ]
     },
     "execution_count": 4,
     "metadata": {},
     "output_type": "execute_result"
    }
   ],
   "source": [
    "# Variables simbólicas\n",
    "a, b, d, t = sp.symbols(\"a b d t\")\n",
    "R = sTrotx(a)*sTrasl(b,0,0)*sTrasl(0,0,d)*sTrotz(t)\n",
    "R"
   ]
  },
  {
   "cell_type": "markdown",
   "metadata": {},
   "source": [
    "### Diap 11: Ejemplo 1 "
   ]
  },
  {
   "cell_type": "code",
   "execution_count": 5,
   "metadata": {},
   "outputs": [
    {
     "data": {
      "text/plain": [
       "array([-4,  4,  1,  1])"
      ]
     },
     "execution_count": 5,
     "metadata": {},
     "output_type": "execute_result"
    }
   ],
   "source": [
    "T = np.array([[0, 1, 0, -4],\n",
    "              [-1, 0, 0, 6],\n",
    "              [0, 0, 1, 0],\n",
    "              [0, 0, 0, 1]])\n",
    "p = np.array([2, 0, 1, 1])\n",
    "\n",
    "T.dot(p)"
   ]
  },
  {
   "cell_type": "markdown",
   "metadata": {},
   "source": [
    "### Diap 12: Ejemplo 2"
   ]
  },
  {
   "cell_type": "code",
   "execution_count": 6,
   "metadata": {},
   "outputs": [
    {
     "data": {
      "text/plain": [
       "array([[ 1.,  0.,  0.,  6.],\n",
       "       [ 0.,  0., -1., -2.],\n",
       "       [ 0.,  1.,  0., 10.],\n",
       "       [ 0.,  0.,  0.,  1.]])"
      ]
     },
     "execution_count": 6,
     "metadata": {},
     "output_type": "execute_result"
    }
   ],
   "source": [
    "T = Trasl(6, -2, 10) @ Trotx(np.pi/2)\n",
    "np.round(T, 3)"
   ]
  },
  {
   "cell_type": "code",
   "execution_count": 7,
   "metadata": {},
   "outputs": [
    {
     "data": {
      "text/plain": [
       "array([ 1., 10., 12.,  1.])"
      ]
     },
     "execution_count": 7,
     "metadata": {},
     "output_type": "execute_result"
    }
   ],
   "source": [
    "p = np.array([-5, 2, -12, 1])\n",
    "\n",
    "T.dot(p)"
   ]
  },
  {
   "cell_type": "markdown",
   "metadata": {},
   "source": [
    "### Diap 13: Ejemplo 3"
   ]
  },
  {
   "cell_type": "code",
   "execution_count": 8,
   "metadata": {},
   "outputs": [
    {
     "data": {
      "text/plain": [
       "array([[  1.,   0.,   0.,   6.],\n",
       "       [  0.,   0.,  -1., -10.],\n",
       "       [  0.,   1.,   0.,  -2.],\n",
       "       [  0.,   0.,   0.,   1.]])"
      ]
     },
     "execution_count": 8,
     "metadata": {},
     "output_type": "execute_result"
    }
   ],
   "source": [
    "T = Trotx(np.pi/2) @ Trasl(6, -2, 10)\n",
    "np.round(T, 3)"
   ]
  },
  {
   "cell_type": "code",
   "execution_count": 9,
   "metadata": {},
   "outputs": [
    {
     "data": {
      "text/plain": [
       "array([1., 2., 0., 1.])"
      ]
     },
     "execution_count": 9,
     "metadata": {},
     "output_type": "execute_result"
    }
   ],
   "source": [
    "p = np.array([-5, 2, -12, 1])\n",
    "\n",
    "T.dot(p)"
   ]
  },
  {
   "cell_type": "markdown",
   "metadata": {},
   "source": [
    "### Diap 18: Ejemplo 2"
   ]
  },
  {
   "cell_type": "code",
   "execution_count": 10,
   "metadata": {},
   "outputs": [
    {
     "data": {
      "text/plain": [
       "array([[ 0.,  1.,  0.,  0.],\n",
       "       [ 1.,  0.,  0.,  0.],\n",
       "       [ 0.,  0., -1.,  2.],\n",
       "       [ 0.,  0.,  0.,  1.]])"
      ]
     },
     "execution_count": 10,
     "metadata": {},
     "output_type": "execute_result"
    }
   ],
   "source": [
    "# b)\n",
    "\n",
    "T01 = np.array([[1,0,0,0], [0,1,0,1], [0,0,1,1], [0,0,0,1]])\n",
    "T02 = np.array([[1,0,0,-0.5], [0,1,0,1.5], [0,0,1,1], [0,0,0,1]])\n",
    "T03 = np.array([[0,1,0,-0.5], [1,0,0,1.5], [0,0,-1,3], [0,0,0,1]])\n",
    "\n",
    "T32 = np.linalg.inv(T03) @ T02\n",
    "T32"
   ]
  },
  {
   "cell_type": "markdown",
   "metadata": {},
   "source": [
    "## 2.1.&nbsp;Ángulos de Euler ZYZ"
   ]
  },
  {
   "cell_type": "markdown",
   "metadata": {},
   "source": [
    "### Diap 23: Matriz de rotación equivalente"
   ]
  },
  {
   "cell_type": "code",
   "execution_count": 11,
   "metadata": {},
   "outputs": [],
   "source": [
    "# Definiciones de las matrices de rotación en y, z usando sympy\n",
    "def sroty(ang):\n",
    "    Ry = sp.Matrix([[sp.cos(ang), 0, sp.sin(ang)],\n",
    "                    [0, 1, 0],\n",
    "                    [-sp.sin(ang), 0, sp.cos(ang)]])\n",
    "    return Ry\n",
    "\n",
    "def srotz(ang):\n",
    "    Rz = sp.Matrix([[sp.cos(ang), -sp.sin(ang), 0],\n",
    "                   [sp.sin(ang), sp.cos(ang), 0],\n",
    "                   [0,0,1]])\n",
    "    return Rz\n",
    "\n",
    "def srotx(ang):\n",
    "    Rx = sp.Matrix([[1, 0, 0],\n",
    "                    [0, sp.cos(ang), -sp.sin(ang)],\n",
    "                    [0, sp.sin(ang), sp.cos(ang)]])\n",
    "    return Rx"
   ]
  },
  {
   "cell_type": "code",
   "execution_count": 12,
   "metadata": {},
   "outputs": [
    {
     "data": {
      "text/latex": [
       "$\\displaystyle \\left[\\begin{matrix}- \\sin{\\left(p_{1} \\right)} \\sin{\\left(p_{3} \\right)} + \\cos{\\left(p_{1} \\right)} \\cos{\\left(p_{2} \\right)} \\cos{\\left(p_{3} \\right)} & - \\sin{\\left(p_{1} \\right)} \\cos{\\left(p_{3} \\right)} - \\sin{\\left(p_{3} \\right)} \\cos{\\left(p_{1} \\right)} \\cos{\\left(p_{2} \\right)} & \\sin{\\left(p_{2} \\right)} \\cos{\\left(p_{1} \\right)}\\\\\\sin{\\left(p_{1} \\right)} \\cos{\\left(p_{2} \\right)} \\cos{\\left(p_{3} \\right)} + \\sin{\\left(p_{3} \\right)} \\cos{\\left(p_{1} \\right)} & - \\sin{\\left(p_{1} \\right)} \\sin{\\left(p_{3} \\right)} \\cos{\\left(p_{2} \\right)} + \\cos{\\left(p_{1} \\right)} \\cos{\\left(p_{3} \\right)} & \\sin{\\left(p_{1} \\right)} \\sin{\\left(p_{2} \\right)}\\\\- \\sin{\\left(p_{2} \\right)} \\cos{\\left(p_{3} \\right)} & \\sin{\\left(p_{2} \\right)} \\sin{\\left(p_{3} \\right)} & \\cos{\\left(p_{2} \\right)}\\end{matrix}\\right]$"
      ],
      "text/plain": [
       "Matrix([\n",
       "[-sin(p1)*sin(p3) + cos(p1)*cos(p2)*cos(p3), -sin(p1)*cos(p3) - sin(p3)*cos(p1)*cos(p2), sin(p2)*cos(p1)],\n",
       "[ sin(p1)*cos(p2)*cos(p3) + sin(p3)*cos(p1), -sin(p1)*sin(p3)*cos(p2) + cos(p1)*cos(p3), sin(p1)*sin(p2)],\n",
       "[                          -sin(p2)*cos(p3),                            sin(p2)*sin(p3),         cos(p2)]])"
      ]
     },
     "execution_count": 12,
     "metadata": {},
     "output_type": "execute_result"
    }
   ],
   "source": [
    "# Variables simbólicas\n",
    "p1, p2, p3 = sp.symbols(\"p1 p2 p3\")\n",
    "\n",
    "# Matriz de rotación equivalente\n",
    "R = srotz(p1)*sroty(p2)*srotz(p3)\n",
    "R"
   ]
  },
  {
   "cell_type": "markdown",
   "metadata": {},
   "source": [
    "### Diap 25: Singularidades de Euler ZYZ"
   ]
  },
  {
   "cell_type": "code",
   "execution_count": 13,
   "metadata": {},
   "outputs": [
    {
     "data": {
      "text/latex": [
       "$\\displaystyle \\left[\\begin{matrix}- \\sin{\\left(p_{1} \\right)} \\sin{\\left(p_{3} \\right)} + \\cos{\\left(p_{1} \\right)} \\cos{\\left(p_{3} \\right)} & - \\sin{\\left(p_{1} \\right)} \\cos{\\left(p_{3} \\right)} - \\sin{\\left(p_{3} \\right)} \\cos{\\left(p_{1} \\right)} & 0\\\\\\sin{\\left(p_{1} \\right)} \\cos{\\left(p_{3} \\right)} + \\sin{\\left(p_{3} \\right)} \\cos{\\left(p_{1} \\right)} & - \\sin{\\left(p_{1} \\right)} \\sin{\\left(p_{3} \\right)} + \\cos{\\left(p_{1} \\right)} \\cos{\\left(p_{3} \\right)} & 0\\\\0 & 0 & 1\\end{matrix}\\right]$"
      ],
      "text/plain": [
       "Matrix([\n",
       "[-sin(p1)*sin(p3) + cos(p1)*cos(p3), -sin(p1)*cos(p3) - sin(p3)*cos(p1), 0],\n",
       "[ sin(p1)*cos(p3) + sin(p3)*cos(p1), -sin(p1)*sin(p3) + cos(p1)*cos(p3), 0],\n",
       "[                                 0,                                  0, 1]])"
      ]
     },
     "execution_count": 13,
     "metadata": {},
     "output_type": "execute_result"
    }
   ],
   "source": [
    "# Cuando phi2 = 0:\n",
    "R = srotz(p1)*sroty(0)*srotz(p3)\n",
    "R"
   ]
  },
  {
   "cell_type": "code",
   "execution_count": 14,
   "metadata": {},
   "outputs": [
    {
     "data": {
      "text/latex": [
       "$\\displaystyle \\left[\\begin{matrix}\\cos{\\left(p_{1} + p_{3} \\right)} & - \\sin{\\left(p_{1} + p_{3} \\right)} & 0\\\\\\sin{\\left(p_{1} + p_{3} \\right)} & \\cos{\\left(p_{1} + p_{3} \\right)} & 0\\\\0 & 0 & 1\\end{matrix}\\right]$"
      ],
      "text/plain": [
       "Matrix([\n",
       "[cos(p1 + p3), -sin(p1 + p3), 0],\n",
       "[sin(p1 + p3),  cos(p1 + p3), 0],\n",
       "[           0,             0, 1]])"
      ]
     },
     "execution_count": 14,
     "metadata": {},
     "output_type": "execute_result"
    }
   ],
   "source": [
    "sp.simplify(R)"
   ]
  },
  {
   "cell_type": "code",
   "execution_count": 15,
   "metadata": {},
   "outputs": [
    {
     "data": {
      "text/latex": [
       "$\\displaystyle \\left[\\begin{matrix}- \\cos{\\left(p_{1} - p_{3} \\right)} & - \\sin{\\left(p_{1} - p_{3} \\right)} & 0\\\\- \\sin{\\left(p_{1} - p_{3} \\right)} & \\cos{\\left(p_{1} - p_{3} \\right)} & 0\\\\0 & 0 & -1\\end{matrix}\\right]$"
      ],
      "text/plain": [
       "Matrix([\n",
       "[-cos(p1 - p3), -sin(p1 - p3),  0],\n",
       "[-sin(p1 - p3),  cos(p1 - p3),  0],\n",
       "[            0,             0, -1]])"
      ]
     },
     "execution_count": 15,
     "metadata": {},
     "output_type": "execute_result"
    }
   ],
   "source": [
    "# Cuando phi2: 180\n",
    "R = srotz(p1)*sroty(sp.pi)*srotz(p3)\n",
    "\n",
    "sp.simplify(R)"
   ]
  },
  {
   "cell_type": "markdown",
   "metadata": {},
   "source": [
    "### Diap 26: Ejemplo"
   ]
  },
  {
   "cell_type": "code",
   "execution_count": 16,
   "metadata": {},
   "outputs": [],
   "source": [
    "# Definiciones de las matrices de rotación en y, z usando numpy\n",
    "def rotx(ang):\n",
    "    Rx = np.array([[1, 0, 0],\n",
    "                   [0, np.cos(ang), -np.sin(ang)],\n",
    "                   [0, np.sin(ang),  np.cos(ang)]])\n",
    "    return Rx\n",
    "\n",
    "def roty(ang):\n",
    "    Ry = np.array([[np.cos(ang), 0, np.sin(ang)],\n",
    "                   [0, 1, 0],\n",
    "                   [-np.sin(ang), 0, np.cos(ang)]])\n",
    "    return Ry\n",
    "\n",
    "def rotz(ang):\n",
    "    Rz = np.array([[np.cos(ang), -np.sin(ang), 0],\n",
    "                   [np.sin(ang), np.cos(ang), 0],\n",
    "                   [0,0,1]])\n",
    "    return Rz"
   ]
  },
  {
   "cell_type": "code",
   "execution_count": 17,
   "metadata": {},
   "outputs": [
    {
     "data": {
      "text/plain": [
       "array([[-0.5  , -0.557,  0.663],\n",
       "       [ 0.866, -0.321,  0.383],\n",
       "       [-0.   ,  0.766,  0.643]])"
      ]
     },
     "execution_count": 17,
     "metadata": {},
     "output_type": "execute_result"
    }
   ],
   "source": [
    "# a) \n",
    "R = rotz(np.deg2rad(30)) @ roty(np.deg2rad(50)) @ rotz(np.deg2rad(90))\n",
    "np.round(R, 3)"
   ]
  },
  {
   "cell_type": "code",
   "execution_count": 18,
   "metadata": {},
   "outputs": [
    {
     "data": {
      "text/plain": [
       "array([[-0.5  , -0.557,  0.663],\n",
       "       [ 0.866, -0.321,  0.383],\n",
       "       [ 0.   ,  0.766,  0.643]])"
      ]
     },
     "execution_count": 18,
     "metadata": {},
     "output_type": "execute_result"
    }
   ],
   "source": [
    "# b) \n",
    "R = rotz(np.deg2rad(-150)) @ roty(np.deg2rad(-50)) @ rotz(np.deg2rad(-90))\n",
    "np.round(R, 3)"
   ]
  },
  {
   "cell_type": "code",
   "execution_count": 19,
   "metadata": {},
   "outputs": [
    {
     "name": "stdout",
     "output_type": "stream",
     "text": [
      "ZYZ en radianes: [0.524 0.873 1.571]\n",
      "ZYZ en grados: [30. 50. 90.]\n"
     ]
    }
   ],
   "source": [
    "# c) \n",
    "# Primera solución (con + en la raíz cuadrada de phi2)\n",
    "r11 = R[0,0]; r12 = R[0,1]; r13 = R[0,2]\n",
    "r21 = R[1,0]; r22 = R[1,1]; r23 = R[1,2]\n",
    "r31 = R[2,0]; r32 = R[2,1]; r33 = R[2,2]\n",
    "\n",
    "phi2 = np.arctan2(np.sqrt(r13**2+r23**2), r33)\n",
    "s2 = np.sin(phi2)\n",
    "phi1 = np.arctan2(r23/s2, r13/s2)\n",
    "phi3 = np.arctan2(r32/s2, -r31/s2)\n",
    "\n",
    "angulos = np.array([phi1, phi2, phi3])\n",
    "print(\"ZYZ en radianes:\", np.round(angulos,3))\n",
    "print(\"ZYZ en grados:\", np.rad2deg(angulos))"
   ]
  },
  {
   "cell_type": "code",
   "execution_count": 20,
   "metadata": {},
   "outputs": [
    {
     "name": "stdout",
     "output_type": "stream",
     "text": [
      "ZYZ en radianes: [-2.618 -0.873 -1.571]\n",
      "ZYZ en grados: [-150.  -50.  -90.]\n"
     ]
    }
   ],
   "source": [
    "# Segunda solución (con - en la raíz cuadrada de phi2)\n",
    "phi2 = np.arctan2(-np.sqrt(r13**2+r23**2), r33)\n",
    "s2 = np.sin(phi2)\n",
    "phi1 = np.arctan2(r23/s2, r13/s2)\n",
    "phi3 = np.arctan2(r32/s2, -r31/s2)\n",
    "\n",
    "angulos = np.array([phi1, phi2, phi3])\n",
    "print(\"ZYZ en radianes:\", np.round(angulos,3))\n",
    "print(\"ZYZ en grados:\", np.rad2deg(angulos))"
   ]
  },
  {
   "cell_type": "markdown",
   "metadata": {},
   "source": [
    "## 2.2.&nbsp;Ángulos Roll, Pitch, Yaw"
   ]
  },
  {
   "cell_type": "markdown",
   "metadata": {},
   "source": [
    "### Diap 28: Matriz de rotación equivalente"
   ]
  },
  {
   "cell_type": "code",
   "execution_count": 21,
   "metadata": {},
   "outputs": [
    {
     "data": {
      "text/latex": [
       "$\\displaystyle \\left[\\begin{matrix}\\cos{\\left(p \\right)} \\cos{\\left(r \\right)} & \\sin{\\left(p \\right)} \\sin{\\left(y \\right)} \\cos{\\left(r \\right)} - \\sin{\\left(r \\right)} \\cos{\\left(y \\right)} & \\sin{\\left(p \\right)} \\cos{\\left(r \\right)} \\cos{\\left(y \\right)} + \\sin{\\left(r \\right)} \\sin{\\left(y \\right)}\\\\\\sin{\\left(r \\right)} \\cos{\\left(p \\right)} & \\sin{\\left(p \\right)} \\sin{\\left(r \\right)} \\sin{\\left(y \\right)} + \\cos{\\left(r \\right)} \\cos{\\left(y \\right)} & \\sin{\\left(p \\right)} \\sin{\\left(r \\right)} \\cos{\\left(y \\right)} - \\sin{\\left(y \\right)} \\cos{\\left(r \\right)}\\\\- \\sin{\\left(p \\right)} & \\sin{\\left(y \\right)} \\cos{\\left(p \\right)} & \\cos{\\left(p \\right)} \\cos{\\left(y \\right)}\\end{matrix}\\right]$"
      ],
      "text/plain": [
       "Matrix([\n",
       "[cos(p)*cos(r), sin(p)*sin(y)*cos(r) - sin(r)*cos(y), sin(p)*cos(r)*cos(y) + sin(r)*sin(y)],\n",
       "[sin(r)*cos(p), sin(p)*sin(r)*sin(y) + cos(r)*cos(y), sin(p)*sin(r)*cos(y) - sin(y)*cos(r)],\n",
       "[      -sin(p),                        sin(y)*cos(p),                        cos(p)*cos(y)]])"
      ]
     },
     "execution_count": 21,
     "metadata": {},
     "output_type": "execute_result"
    }
   ],
   "source": [
    "# Variables simbólicas\n",
    "r, p, y = sp.symbols(\"r p y\")\n",
    "\n",
    "# Matriz de rotación equivalente\n",
    "R = srotz(r)*sroty(p)*srotx(y)\n",
    "R"
   ]
  },
  {
   "cell_type": "markdown",
   "metadata": {},
   "source": [
    "### Diap 30: Singularidades de RPY"
   ]
  },
  {
   "cell_type": "code",
   "execution_count": 22,
   "metadata": {},
   "outputs": [
    {
     "data": {
      "text/latex": [
       "$\\displaystyle \\left[\\begin{matrix}0 & - \\sin{\\left(r - y \\right)} & \\cos{\\left(r - y \\right)}\\\\0 & \\cos{\\left(r - y \\right)} & \\sin{\\left(r - y \\right)}\\\\-1 & 0 & 0\\end{matrix}\\right]$"
      ],
      "text/plain": [
       "Matrix([\n",
       "[ 0, -sin(r - y), cos(r - y)],\n",
       "[ 0,  cos(r - y), sin(r - y)],\n",
       "[-1,           0,          0]])"
      ]
     },
     "execution_count": 22,
     "metadata": {},
     "output_type": "execute_result"
    }
   ],
   "source": [
    "# Cuando pitch = 90\n",
    "R = srotz(r)*sroty(sp.pi/2)*srotx(y)\n",
    "\n",
    "sp.simplify(R)"
   ]
  },
  {
   "cell_type": "code",
   "execution_count": 23,
   "metadata": {},
   "outputs": [
    {
     "data": {
      "text/latex": [
       "$\\displaystyle \\left[\\begin{matrix}0 & - \\sin{\\left(r + y \\right)} & - \\cos{\\left(r + y \\right)}\\\\0 & \\cos{\\left(r + y \\right)} & - \\sin{\\left(r + y \\right)}\\\\1 & 0 & 0\\end{matrix}\\right]$"
      ],
      "text/plain": [
       "Matrix([\n",
       "[0, -sin(r + y), -cos(r + y)],\n",
       "[0,  cos(r + y), -sin(r + y)],\n",
       "[1,           0,           0]])"
      ]
     },
     "execution_count": 23,
     "metadata": {},
     "output_type": "execute_result"
    }
   ],
   "source": [
    "# Cuando pitch = -90\n",
    "R = srotz(r)*sroty(-sp.pi/2)*srotx(y)\n",
    "\n",
    "sp.simplify(R)"
   ]
  },
  {
   "cell_type": "markdown",
   "metadata": {},
   "source": [
    "### Diap 31: Ejemplo RPY"
   ]
  },
  {
   "cell_type": "code",
   "execution_count": 24,
   "metadata": {},
   "outputs": [
    {
     "data": {
      "text/plain": [
       "array([[-0.5  , -0.557,  0.663],\n",
       "       [ 0.866, -0.321,  0.383],\n",
       "       [ 0.   ,  0.766,  0.643]])"
      ]
     },
     "execution_count": 24,
     "metadata": {},
     "output_type": "execute_result"
    }
   ],
   "source": [
    "R = np.array([[-0.5, -0.557, 0.663], [0.866, -0.321, 0.383], [0, 0.766, 0.643]])\n",
    "R"
   ]
  },
  {
   "cell_type": "code",
   "execution_count": 25,
   "metadata": {},
   "outputs": [
    {
     "name": "stdout",
     "output_type": "stream",
     "text": [
      "RPY en radianes: [ 2.094 -0.     0.872]\n",
      "RPY en grados: [120.00072778  -0.          49.98904228]\n"
     ]
    }
   ],
   "source": [
    "# Primera solución (con + en la raíz cuadrada de pitch)\n",
    "r11 = R[0,0]; r12 = R[0,1]; r13 = R[0,2]\n",
    "r21 = R[1,0]; r22 = R[1,1]; r23 = R[1,2]\n",
    "r31 = R[2,0]; r32 = R[2,1]; r33 = R[2,2]\n",
    "\n",
    "p = np.arctan2(-r31, np.sqrt(r32**2+r33**2))\n",
    "cp = np.cos(p)\n",
    "r = np.arctan2(r21/cp, r11/cp)\n",
    "y = np.arctan2(r32/cp, r33/cp)\n",
    "\n",
    "angulos = np.array([r, p, y])\n",
    "print(\"RPY en radianes:\", np.round(angulos,3))\n",
    "print(\"RPY en grados:\", np.rad2deg(angulos))"
   ]
  },
  {
   "cell_type": "code",
   "execution_count": 26,
   "metadata": {},
   "outputs": [
    {
     "name": "stdout",
     "output_type": "stream",
     "text": [
      "RPY en radianes: [-1.047 -3.142 -2.269]\n",
      "RPY en grados: [ -59.99927222 -180.         -130.01095772]\n"
     ]
    }
   ],
   "source": [
    "# Segunda solución (con - en la raíz cuadrada de pitch)\n",
    "\n",
    "p = np.arctan2(-r31, -np.sqrt(r32**2+r33**2))\n",
    "cp = np.cos(p)\n",
    "r = np.arctan2(r21/cp, r11/cp)\n",
    "y = np.arctan2(r32/cp, r33/cp)\n",
    "\n",
    "angulos = np.array([r, p, y])\n",
    "print(\"RPY en radianes:\", np.round(angulos,3))\n",
    "print(\"RPY en grados:\", np.rad2deg(angulos))"
   ]
  },
  {
   "cell_type": "markdown",
   "metadata": {},
   "source": [
    "## 2.3.&nbsp;Eje/Ángulo"
   ]
  },
  {
   "cell_type": "markdown",
   "metadata": {},
   "source": [
    "### Diap 35: Fórmula de Rodrigues (forma exponencial)"
   ]
  },
  {
   "cell_type": "code",
   "execution_count": 27,
   "metadata": {},
   "outputs": [
    {
     "data": {
      "text/latex": [
       "$\\displaystyle \\left[\\begin{matrix}0 & - z & y\\\\z & 0 & - x\\\\- y & x & 0\\end{matrix}\\right]$"
      ],
      "text/plain": [
       "Matrix([\n",
       "[ 0, -z,  y],\n",
       "[ z,  0, -x],\n",
       "[-y,  x,  0]])"
      ]
     },
     "execution_count": 27,
     "metadata": {},
     "output_type": "execute_result"
    }
   ],
   "source": [
    "t, x, y, z = sp.symbols(\"t x y z\")\n",
    "\n",
    "# Por facilidad se llamará (x,y,z) a los elementos del vector u\n",
    "uhat = sp.Matrix([[   0, -z,  y],\n",
    "                  [  z,   0, -x],\n",
    "                  [ -y,  x,   0]])\n",
    "uhat                  "
   ]
  },
  {
   "cell_type": "code",
   "execution_count": 28,
   "metadata": {},
   "outputs": [
    {
     "data": {
      "text/latex": [
       "$\\displaystyle \\left[\\begin{matrix}\\left(1 - \\cos{\\left(t \\right)}\\right) \\left(- y^{2} - z^{2}\\right) + 1 & x y \\left(1 - \\cos{\\left(t \\right)}\\right) - z \\sin{\\left(t \\right)} & x z \\left(1 - \\cos{\\left(t \\right)}\\right) + y \\sin{\\left(t \\right)}\\\\x y \\left(1 - \\cos{\\left(t \\right)}\\right) + z \\sin{\\left(t \\right)} & \\left(1 - \\cos{\\left(t \\right)}\\right) \\left(- x^{2} - z^{2}\\right) + 1 & - x \\sin{\\left(t \\right)} + y z \\left(1 - \\cos{\\left(t \\right)}\\right)\\\\x z \\left(1 - \\cos{\\left(t \\right)}\\right) - y \\sin{\\left(t \\right)} & x \\sin{\\left(t \\right)} + y z \\left(1 - \\cos{\\left(t \\right)}\\right) & \\left(1 - \\cos{\\left(t \\right)}\\right) \\left(- x^{2} - y^{2}\\right) + 1\\end{matrix}\\right]$"
      ],
      "text/plain": [
       "Matrix([\n",
       "[(1 - cos(t))*(-y**2 - z**2) + 1,     x*y*(1 - cos(t)) - z*sin(t),     x*z*(1 - cos(t)) + y*sin(t)],\n",
       "[    x*y*(1 - cos(t)) + z*sin(t), (1 - cos(t))*(-x**2 - z**2) + 1,    -x*sin(t) + y*z*(1 - cos(t))],\n",
       "[    x*z*(1 - cos(t)) - y*sin(t),     x*sin(t) + y*z*(1 - cos(t)), (1 - cos(t))*(-x**2 - y**2) + 1]])"
      ]
     },
     "execution_count": 28,
     "metadata": {},
     "output_type": "execute_result"
    }
   ],
   "source": [
    "R = sp.eye(3) + uhat*sp.sin(t) + uhat*uhat*(1-sp.cos(t))\n",
    "\n",
    "# Forma explícita de la fórmula\n",
    "R"
   ]
  },
  {
   "cell_type": "markdown",
   "metadata": {},
   "source": [
    "### Diap 37: Singularidades"
   ]
  },
  {
   "cell_type": "code",
   "execution_count": 29,
   "metadata": {},
   "outputs": [
    {
     "data": {
      "text/latex": [
       "$\\displaystyle \\left[\\begin{matrix}1 & 0 & 0\\\\0 & 1 & 0\\\\0 & 0 & 1\\end{matrix}\\right]$"
      ],
      "text/plain": [
       "Matrix([\n",
       "[1, 0, 0],\n",
       "[0, 1, 0],\n",
       "[0, 0, 1]])"
      ]
     },
     "execution_count": 29,
     "metadata": {},
     "output_type": "execute_result"
    }
   ],
   "source": [
    "# Cuando el ángulo es 0\n",
    "t = 0\n",
    "R = sp.eye(3) + uhat*sp.sin(t) + uhat*uhat*(1-sp.cos(t))\n",
    "R"
   ]
  },
  {
   "cell_type": "code",
   "execution_count": 30,
   "metadata": {},
   "outputs": [
    {
     "data": {
      "text/latex": [
       "$\\displaystyle \\left[\\begin{matrix}- 2 y^{2} - 2 z^{2} + 1 & 2 x y & 2 x z\\\\2 x y & - 2 x^{2} - 2 z^{2} + 1 & 2 y z\\\\2 x z & 2 y z & - 2 x^{2} - 2 y^{2} + 1\\end{matrix}\\right]$"
      ],
      "text/plain": [
       "Matrix([\n",
       "[-2*y**2 - 2*z**2 + 1,                2*x*y,                2*x*z],\n",
       "[               2*x*y, -2*x**2 - 2*z**2 + 1,                2*y*z],\n",
       "[               2*x*z,                2*y*z, -2*x**2 - 2*y**2 + 1]])"
      ]
     },
     "execution_count": 30,
     "metadata": {},
     "output_type": "execute_result"
    }
   ],
   "source": [
    "# Cuando el ángulo es 180°\n",
    "t = sp.pi\n",
    "R = sp.eye(3) + uhat*sp.sin(t) + uhat*uhat*(1-sp.cos(t))\n",
    "R"
   ]
  },
  {
   "cell_type": "markdown",
   "metadata": {},
   "source": [
    "### Diap 39: Ejemplo 1"
   ]
  },
  {
   "cell_type": "code",
   "execution_count": 31,
   "metadata": {},
   "outputs": [
    {
     "data": {
      "text/plain": [
       "array([[ 0.926, -0.304,  0.226],\n",
       "       [ 0.363,  0.881, -0.304],\n",
       "       [-0.107,  0.363,  0.926]])"
      ]
     },
     "execution_count": 31,
     "metadata": {},
     "output_type": "execute_result"
    }
   ],
   "source": [
    "R = np.array([[0.926, -0.304, 0.226], [0.363, 0.881, -0.304], [-0.107, 0.363, 0.926]])\n",
    "R"
   ]
  },
  {
   "cell_type": "code",
   "execution_count": 32,
   "metadata": {},
   "outputs": [
    {
     "name": "stdout",
     "output_type": "stream",
     "text": [
      "Ángulo: 29.994679139602383\n",
      "Eje: [0.66710731 0.33305357 0.66710731]\n"
     ]
    }
   ],
   "source": [
    "r11 = R[0,0]; r12 = R[0,1]; r13 = R[0,2]\n",
    "r21 = R[1,0]; r22 = R[1,1]; r23 = R[1,2]\n",
    "r31 = R[2,0]; r32 = R[2,1]; r33 = R[2,2]\n",
    "\n",
    "# Usando la raíz positiva\n",
    "th = np.arctan2(np.sqrt((r21-r12)**2+(r31-r13)**2+(r32-r23)**2)/2, (np.trace(R)-1)/2)\n",
    "u = 1/(2*np.sin(th)) * np.array([r32-r23, r13-r31, r21-r12])\n",
    "\n",
    "print(\"Ángulo:\", np.rad2deg(th))\n",
    "print(\"Eje:\", u)"
   ]
  },
  {
   "cell_type": "code",
   "execution_count": 33,
   "metadata": {},
   "outputs": [
    {
     "name": "stdout",
     "output_type": "stream",
     "text": [
      "Ángulo: -29.994679139602383\n",
      "Eje: [-0.66710731 -0.33305357 -0.66710731]\n"
     ]
    }
   ],
   "source": [
    "# Usando la raíz negativa\n",
    "th = np.arctan2(-np.sqrt((r21-r12)**2+(r31-r13)**2+(r32-r23)**2)/2, (np.trace(R)-1)/2)\n",
    "u = 1/(2*np.sin(th)) * np.array([r32-r23, r13-r31, r21-r12])\n",
    "\n",
    "print(\"Ángulo:\", np.rad2deg(th))\n",
    "print(\"Eje:\", u)"
   ]
  },
  {
   "cell_type": "markdown",
   "metadata": {},
   "source": [
    "### Diap 40 y 41: Ejemplos 2 y 3"
   ]
  },
  {
   "cell_type": "code",
   "execution_count": 34,
   "metadata": {},
   "outputs": [
    {
     "data": {
      "text/latex": [
       "$\\displaystyle \\left[\\begin{matrix}1 & 0 & 0\\\\0 & \\cos{\\left(t \\right)} & - \\sin{\\left(t \\right)}\\\\0 & \\sin{\\left(t \\right)} & \\cos{\\left(t \\right)}\\end{matrix}\\right]$"
      ],
      "text/plain": [
       "Matrix([\n",
       "[1,      0,       0],\n",
       "[0, cos(t), -sin(t)],\n",
       "[0, sin(t),  cos(t)]])"
      ]
     },
     "execution_count": 34,
     "metadata": {},
     "output_type": "execute_result"
    }
   ],
   "source": [
    "# Ejemplo 2\n",
    "\n",
    "t = sp.symbols(\"t\")\n",
    "\n",
    "uhat = sp.Matrix([[  0, 0,  0],\n",
    "                  [  0, 0, -1],\n",
    "                  [  0, 1,  0]])\n",
    "R = sp.eye(3) + uhat*sp.sin(t) + uhat*uhat*(1-sp.cos(t))\n",
    "R"
   ]
  },
  {
   "cell_type": "code",
   "execution_count": 35,
   "metadata": {},
   "outputs": [
    {
     "data": {
      "text/plain": [
       "array([0.66666667, 0.33333333, 0.66666667])"
      ]
     },
     "execution_count": 35,
     "metadata": {},
     "output_type": "execute_result"
    }
   ],
   "source": [
    "# Ejemplo 3\n",
    "u = np.array([2, 1, 2])\n",
    "u = u/np.linalg.norm(u)\n",
    "u"
   ]
  },
  {
   "cell_type": "code",
   "execution_count": 36,
   "metadata": {},
   "outputs": [
    {
     "data": {
      "text/plain": [
       "array([[ 0.926, -0.304,  0.226],\n",
       "       [ 0.363,  0.881, -0.304],\n",
       "       [-0.107,  0.363,  0.926]])"
      ]
     },
     "execution_count": 36,
     "metadata": {},
     "output_type": "execute_result"
    }
   ],
   "source": [
    "t = np.deg2rad(30)\n",
    "uhat = np.array([[     0, -u[2],  u[1]],\n",
    "                 [  u[2],     0, -u[0]],\n",
    "                 [ -u[1],  u[0],    0]])\n",
    "R = np.eye(3) + uhat*np.sin(t) + uhat@uhat*(1-np.cos(t))\n",
    "\n",
    "np.round(R,3)"
   ]
  },
  {
   "cell_type": "code",
   "execution_count": 37,
   "metadata": {},
   "outputs": [
    {
     "name": "stdout",
     "output_type": "stream",
     "text": [
      "Determinante: 1.0\n",
      "R*R^T:\n",
      " [[ 1. -0. -0.]\n",
      " [-0.  1. -0.]\n",
      " [-0. -0.  1.]]\n"
     ]
    }
   ],
   "source": [
    "# Verificación:\n",
    "print(\"Determinante:\", np.linalg.det(R))\n",
    "print(\"R*R^T:\\n\", np.round(R@R.T, 3))"
   ]
  },
  {
   "cell_type": "markdown",
   "metadata": {},
   "source": [
    "## 2.4.&nbsp;Cuaterniones"
   ]
  },
  {
   "cell_type": "markdown",
   "metadata": {},
   "source": [
    "### Diap 43: Producto de cuaterniones"
   ]
  },
  {
   "cell_type": "code",
   "execution_count": 38,
   "metadata": {},
   "outputs": [],
   "source": [
    "x1, y1, z1, w1 = sp.symbols(\"x1 y1 z1 w1\")\n",
    "x2, y2, z2, w2 = sp.symbols(\"x2 y2 z2 w2\")\n",
    "\n",
    "# Parte vectorial del cuaterión 1\n",
    "e1 = sp.Matrix([x1, y1, z1])\n",
    "# Parte vectorial del cuaterión 2\n",
    "e2 = sp.Matrix([x2, y2, z2])"
   ]
  },
  {
   "cell_type": "code",
   "execution_count": 39,
   "metadata": {},
   "outputs": [
    {
     "name": "stdout",
     "output_type": "stream",
     "text": [
      "Parte escalar w1*w2 - x1*x2 - y1*y2 - z1*z2\n",
      "Parte vectorial:\n"
     ]
    },
    {
     "data": {
      "text/latex": [
       "$\\displaystyle \\left[\\begin{matrix}w_{1} x_{2} + w_{2} x_{1} + y_{1} z_{2} - y_{2} z_{1}\\\\w_{1} y_{2} + w_{2} y_{1} - x_{1} z_{2} + x_{2} z_{1}\\\\w_{1} z_{2} + w_{2} z_{1} + x_{1} y_{2} - x_{2} y_{1}\\end{matrix}\\right]$"
      ],
      "text/plain": [
       "Matrix([\n",
       "[w1*x2 + w2*x1 + y1*z2 - y2*z1],\n",
       "[w1*y2 + w2*y1 - x1*z2 + x2*z1],\n",
       "[w1*z2 + w2*z1 + x1*y2 - x2*y1]])"
      ]
     },
     "execution_count": 39,
     "metadata": {},
     "output_type": "execute_result"
    }
   ],
   "source": [
    "# Parte escalar del producto (se requiere el [0] ya que el resultad por defecto es un vector de 1 solo elemento, y se desea dicho elemento)\n",
    "w12 = w1*w2 - (e1.T *e2)[0]\n",
    "# Parte vectorial del producto\n",
    "e12 = w1*e2 + w2*e1 + e1.cross(e2)\n",
    "\n",
    "print(\"Parte escalar\", w12)\n",
    "print(\"Parte vectorial:\"); e12"
   ]
  },
  {
   "cell_type": "code",
   "execution_count": 40,
   "metadata": {},
   "outputs": [
    {
     "data": {
      "text/latex": [
       "$\\displaystyle \\left[\\begin{matrix}w_{1} w_{2} - x_{1} x_{2} - y_{1} y_{2} - z_{1} z_{2}\\\\w_{1} x_{2} + w_{2} x_{1} + y_{1} z_{2} - y_{2} z_{1}\\\\w_{1} y_{2} + w_{2} y_{1} - x_{1} z_{2} + x_{2} z_{1}\\\\w_{1} z_{2} + w_{2} z_{1} + x_{1} y_{2} - x_{2} y_{1}\\end{matrix}\\right]$"
      ],
      "text/plain": [
       "Matrix([\n",
       "[w1*w2 - x1*x2 - y1*y2 - z1*z2],\n",
       "[w1*x2 + w2*x1 + y1*z2 - y2*z1],\n",
       "[w1*y2 + w2*y1 - x1*z2 + x2*z1],\n",
       "[w1*z2 + w2*z1 + x1*y2 - x2*y1]])"
      ]
     },
     "execution_count": 40,
     "metadata": {},
     "output_type": "execute_result"
    }
   ],
   "source": [
    "# Usando la matriz equivalente para el primer cuaternión\n",
    "Q1hat = sp.Matrix([[ w1, -x1, -y1, -z1],\n",
    "                   [ x1,  w1, -z1,  y1],\n",
    "                   [ y1,  z1,  w1, -x1],\n",
    "                   [ z1, -y1,  x1,  w1]])\n",
    "\n",
    "# Segundo cuaternión \n",
    "Q2 = sp.Matrix([w2, x2, y2, z2])\n",
    "\n",
    "# Cuaternión producto de Q1 y Q2\n",
    "Q1hat * Q2"
   ]
  },
  {
   "cell_type": "markdown",
   "metadata": {},
   "source": [
    "### Diap 48: Ejemplo"
   ]
  },
  {
   "cell_type": "code",
   "execution_count": 41,
   "metadata": {},
   "outputs": [
    {
     "data": {
      "text/plain": [
       "array([[ 0.321, -0.117,  0.94 ],\n",
       "       [ 0.683,  0.716, -0.145],\n",
       "       [-0.656,  0.688,  0.31 ]])"
      ]
     },
     "execution_count": 41,
     "metadata": {},
     "output_type": "execute_result"
    }
   ],
   "source": [
    "R = np.array([[ 0.321, -0.117,  0.940],\n",
    "              [ 0.683,  0.716, -0.145],\n",
    "              [-0.656,  0.688,  0.310]])\n",
    "R"
   ]
  },
  {
   "cell_type": "code",
   "execution_count": 42,
   "metadata": {},
   "outputs": [
    {
     "data": {
      "text/plain": [
       "array([0.766, 0.272, 0.521, 0.261])"
      ]
     },
     "execution_count": 42,
     "metadata": {},
     "output_type": "execute_result"
    }
   ],
   "source": [
    "r11 = R[0,0]; r12 = R[0,1]; r13 = R[0,2]\n",
    "r21 = R[1,0]; r22 = R[1,1]; r23 = R[1,2]\n",
    "r31 = R[2,0]; r32 = R[2,1]; r33 = R[2,2]\n",
    "\n",
    "w = 0.5 * np.sqrt(1+r11+r22+r33)\n",
    "ex = 1/(4*w)*(r32-r23)\n",
    "ey = 1/(4*w)*(r13-r31)\n",
    "ez = 1/(4*w)*(r21-r12)\n",
    "\n",
    "Q = [w, ex, ey, ez]\n",
    "np.round(Q,3)"
   ]
  },
  {
   "cell_type": "code",
   "execution_count": 43,
   "metadata": {},
   "outputs": [
    {
     "data": {
      "text/plain": [
       "array([[ 0.321, -0.117,  0.94 ],\n",
       "       [ 0.683,  0.716, -0.144],\n",
       "       [-0.656,  0.689,  0.31 ]])"
      ]
     },
     "execution_count": 43,
     "metadata": {},
     "output_type": "execute_result"
    }
   ],
   "source": [
    "# Matriz de rotación equivalente\n",
    "R = np.array([[2*(w**2+ex**2)-1,   2*(ex*ey-w*ez),   2*(ex*ez+w*ey)],\n",
    "              [  2*(ex*ey+w*ez), 2*(w**2+ey**2)-1,   2*(ey*ez-w*ex)],\n",
    "              [  2*(ex*ez-w*ey),   2*(ey*ez+w*ex), 2*(w**2+ez**2)-1]])\n",
    "\n",
    "np.round(R, 3)"
   ]
  },
  {
   "cell_type": "markdown",
   "metadata": {},
   "source": [
    "## 3.&nbsp;Rotación de Vectores usando Parametrizaciones"
   ]
  },
  {
   "cell_type": "markdown",
   "metadata": {},
   "source": [
    "### Diap 51: Ejemplo usando eje/águlo"
   ]
  },
  {
   "cell_type": "code",
   "execution_count": 44,
   "metadata": {},
   "outputs": [
    {
     "data": {
      "text/plain": [
       "array([2.699, 1.667, 0.967])"
      ]
     },
     "execution_count": 44,
     "metadata": {},
     "output_type": "execute_result"
    }
   ],
   "source": [
    "# a) \n",
    "v = np.array([3,1,1])\n",
    "u = np.array([2,1,2])\n",
    "ang = np.deg2rad(30)\n",
    "\n",
    "u = u/np.linalg.norm(u)\n",
    "vf = v*np.cos(ang) + np.cross(u,v)*np.sin(ang) + u*np.dot(u,v)*(1-np.cos(ang))\n",
    "\n",
    "np.round(vf, 3)"
   ]
  },
  {
   "cell_type": "code",
   "execution_count": 45,
   "metadata": {},
   "outputs": [
    {
     "data": {
      "text/plain": [
       "array([[ 0.926, -0.304,  0.226],\n",
       "       [ 0.363,  0.881, -0.304],\n",
       "       [-0.107,  0.363,  0.926]])"
      ]
     },
     "execution_count": 45,
     "metadata": {},
     "output_type": "execute_result"
    }
   ],
   "source": [
    "# b)\n",
    "uhat = np.array([[     0, -u[2],  u[1]],\n",
    "                 [  u[2],     0, -u[0]],\n",
    "                 [ -u[1],  u[0],    0]])\n",
    "R = np.eye(3) + uhat*np.sin(ang) + uhat@uhat*(1-np.cos(ang))\n",
    "np.round(R,3)"
   ]
  },
  {
   "cell_type": "code",
   "execution_count": 46,
   "metadata": {},
   "outputs": [
    {
     "data": {
      "text/plain": [
       "array([2.699, 1.667, 0.967])"
      ]
     },
     "execution_count": 46,
     "metadata": {},
     "output_type": "execute_result"
    }
   ],
   "source": [
    "np.round(R @ v, 3)"
   ]
  },
  {
   "cell_type": "markdown",
   "metadata": {},
   "source": [
    "### Diap 54: Ejemplo usando cuaterniones"
   ]
  },
  {
   "cell_type": "code",
   "execution_count": 47,
   "metadata": {},
   "outputs": [],
   "source": [
    "p = np.array([3, 5, 2])\n",
    "ang = np.deg2rad(60)\n",
    "u = np.array([2, 0, 0])\n",
    "\n",
    "# Eje de giro unitario\n",
    "u = u/np.linalg.norm(u)"
   ]
  },
  {
   "cell_type": "code",
   "execution_count": 48,
   "metadata": {},
   "outputs": [
    {
     "name": "stdout",
     "output_type": "stream",
     "text": [
      "[0 3 5 2]\n",
      "[0.8660254 0.5       0.        0.       ]\n"
     ]
    }
   ],
   "source": [
    "# a)\n",
    "# Cuaternión asociado con el vector v:\n",
    "vhat = np.hstack((0,p))\n",
    "# Cuaternión que representa la rotación\n",
    "Q = np.array([np.cos(ang/2), u[0]*np.sin(ang/2), u[1]*np.sin(ang/2), u[2]*np.sin(ang/2)])\n",
    "\n",
    "print(vhat)\n",
    "print(Q)"
   ]
  },
  {
   "cell_type": "code",
   "execution_count": 49,
   "metadata": {},
   "outputs": [],
   "source": [
    "# Conjugada del cuaternión que representa la rotación\n",
    "Qconj = np.array([Q[0], -Q[1], -Q[2], -Q[3]])"
   ]
  },
  {
   "cell_type": "code",
   "execution_count": 50,
   "metadata": {},
   "outputs": [],
   "source": [
    "# Función que realiza la multiplicación de cuaterniones\n",
    "def mult_quat(Q1, Q2):\n",
    "    w1=Q1[0]; x1=Q1[1]; y1=Q1[2]; z1=Q1[3]\n",
    "    Q1hat = np.array([[ w1, -x1, -y1, -z1],\n",
    "                      [ x1,  w1, -z1,  y1],\n",
    "                      [ y1,  z1,  w1, -x1],\n",
    "                      [ z1, -y1,  x1,  w1]])\n",
    "    return Q1hat @ Q2"
   ]
  },
  {
   "cell_type": "code",
   "execution_count": 51,
   "metadata": {},
   "outputs": [
    {
     "data": {
      "text/plain": [
       "array([0.   , 3.   , 0.768, 5.33 ])"
      ]
     },
     "execution_count": 51,
     "metadata": {},
     "output_type": "execute_result"
    }
   ],
   "source": [
    "vrot = mult_quat( mult_quat(Q, vhat), Qconj)\n",
    "np.round(vrot, 3)"
   ]
  },
  {
   "cell_type": "code",
   "execution_count": 52,
   "metadata": {},
   "outputs": [
    {
     "data": {
      "text/plain": [
       "array([3.   , 0.768, 5.33 ])"
      ]
     },
     "execution_count": 52,
     "metadata": {},
     "output_type": "execute_result"
    }
   ],
   "source": [
    "# b) Usando una matriz de rotación\n",
    "vrot = rotx(ang) @ p\n",
    "np.round(vrot, 3)"
   ]
  }
 ],
 "metadata": {
  "kernelspec": {
   "display_name": "Python 3.9.12 ('base')",
   "language": "python",
   "name": "python3"
  },
  "language_info": {
   "codemirror_mode": {
    "name": "ipython",
    "version": 3
   },
   "file_extension": ".py",
   "mimetype": "text/x-python",
   "name": "python",
   "nbconvert_exporter": "python",
   "pygments_lexer": "ipython3",
   "version": "3.9.12"
  },
  "orig_nbformat": 4,
  "vscode": {
   "interpreter": {
    "hash": "470260c6919e9ff48e1a573ae64d2f776c76ca8b99100eba78f1a4e3574395cd"
   }
  }
 },
 "nbformat": 4,
 "nbformat_minor": 2
}
