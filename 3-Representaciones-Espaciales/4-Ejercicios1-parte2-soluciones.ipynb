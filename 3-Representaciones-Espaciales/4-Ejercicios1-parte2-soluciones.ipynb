{
 "cells": [
  {
   "cell_type": "markdown",
   "metadata": {},
   "source": [
    "# Ejercicios 1 - Parte 2: Representaciones Espaciales II (soluciones)\n",
    "[![Open In Colab](https://colab.research.google.com/assets/colab-badge.svg)](https://colab.research.google.com/github/oscar-ramos/fundamentos-robotica-python/blob/main/3-Representaciones-Espaciales/4-ejercicios-parte2-soluciones.ipynb)\n",
    "\n",
    "Oscar E. Ramos Ponce, Universidad de Ingeniería y Tecnología - UTEC\n",
    "Fundamentos de Robótica\n",
    "\n",
    "Este archivo contiene las soluciones del conjunto de Ejercicios: Representaciones Espaciales (II)"
   ]
  },
  {
   "cell_type": "code",
   "execution_count": 1,
   "metadata": {},
   "outputs": [],
   "source": [
    "import numpy as np\n",
    "import sympy as sp"
   ]
  },
  {
   "cell_type": "code",
   "execution_count": 2,
   "metadata": {},
   "outputs": [],
   "source": [
    "cos = np.cos\n",
    "sin = np.sin\n",
    "pi = np.pi\n",
    "\n",
    "def rotx(ang):\n",
    "    Rx = np.array([[1, 0, 0],\n",
    "                   [0, cos(ang), -sin(ang)],\n",
    "                   [0, sin(ang), cos(ang)]])\n",
    "    return Rx\n",
    "\n",
    "def roty(ang):\n",
    "    Ry = np.array([[cos(ang), 0, sin(ang)],\n",
    "                   [0, 1, 0],\n",
    "                   [-sin(ang), 0, cos(ang)]])\n",
    "    return Ry\n",
    "\n",
    "def rotz(ang):\n",
    "    Rz = np.array([[cos(ang), -sin(ang), 0],\n",
    "                   [sin(ang), cos(ang), 0],\n",
    "                   [0,0,1]])\n",
    "    return Rz"
   ]
  },
  {
   "cell_type": "markdown",
   "metadata": {},
   "source": [
    "### Pregunta 1"
   ]
  },
  {
   "cell_type": "code",
   "execution_count": 3,
   "metadata": {
    "scrolled": true
   },
   "outputs": [
    {
     "name": "stdout",
     "output_type": "stream",
     "text": [
      "Matriz de rotación:\n",
      "[[ 0.    -0.     1.   ]\n",
      " [ 0.707  0.707  0.   ]\n",
      " [-0.707  0.707  0.   ]]\n"
     ]
    }
   ],
   "source": [
    "# Función para calcular el eje y ángulo dada una matriz de rotación\n",
    "# Notar que no hay verificación de singularidades (habrá problemas si sen(th)=0)\n",
    "def ejeang(R):\n",
    "    c = (R[0,0]+R[1,1]+R[2,2]-1.0)/2.0\n",
    "    s = np.sqrt((R[1,0]-R[0,1])**2+(R[2,0]-R[0,2])**2+(R[2,1]-R[1,2])**2)/2.0\n",
    "    th = np.arctan2(s,c)\n",
    "    u = 1.0/(2.*sin(th))*np.array([R[2,1]-R[1,2], R[0,2]-R[2,0], R[1,0]-R[0,1]])\n",
    "    return th,u\n",
    "\n",
    "# Matriz de rotación resultante\n",
    "R = roty(np.deg2rad(90)).dot(rotz(np.deg2rad(45)))\n",
    "print(\"Matriz de rotación:\"); print(np.round(R,3))"
   ]
  },
  {
   "cell_type": "code",
   "execution_count": 4,
   "metadata": {},
   "outputs": [
    {
     "name": "stdout",
     "output_type": "stream",
     "text": [
      "Ángulo:  1.7177715174584016\n",
      "Eje:\n",
      "[0.35740674 0.86285621 0.35740674]\n"
     ]
    }
   ],
   "source": [
    "# Eje y ángulo\n",
    "th, u = ejeang(R)\n",
    "print(\"Ángulo: \", str(th))\n",
    "print(\"Eje:\"); print(u)"
   ]
  },
  {
   "cell_type": "markdown",
   "metadata": {},
   "source": [
    "A pesar de no ser necesario en este problema, se verificará el resultado realizando la operación contraria; es decir, calculando la matriz de rotación dado el eje y ángulo obtenido. Se debe \"regresar\" a la matriz original."
   ]
  },
  {
   "cell_type": "code",
   "execution_count": 5,
   "metadata": {},
   "outputs": [],
   "source": [
    "# Matriz antisimétrica\n",
    "def skew(u):\n",
    "    su = np.array([[    0, -u[2],  u[1]],\n",
    "                   [ u[2],     0, -u[0]],\n",
    "                   [-u[1],  u[0],    0]])\n",
    "    return su\n",
    "\n",
    "# Fórmula de Rodrigues (forma matricial)\n",
    "def rodrigues(th, u):\n",
    "    s = skew(u)\n",
    "    R = np.eye(3) + s*sin(th) + s.dot(s)*(1-cos(th))\n",
    "    return R"
   ]
  },
  {
   "cell_type": "code",
   "execution_count": 6,
   "metadata": {},
   "outputs": [
    {
     "name": "stdout",
     "output_type": "stream",
     "text": [
      "[[ 0.    -0.     1.   ]\n",
      " [ 0.707  0.707 -0.   ]\n",
      " [-0.707  0.707  0.   ]]\n"
     ]
    }
   ],
   "source": [
    "# Matriz de rotación a partir del resultado anterior\n",
    "R1 = rodrigues(1.7177, np.array([0.35740674, 0.86285621, 0.35740674]))\n",
    "\n",
    "print(np.round(R1,3))\n",
    "# Se puede verificar que esta matriz R1 es igual a la matriz R anterior"
   ]
  },
  {
   "cell_type": "markdown",
   "metadata": {},
   "source": [
    "### Pregunta 2"
   ]
  },
  {
   "cell_type": "code",
   "execution_count": 7,
   "metadata": {},
   "outputs": [
    {
     "name": "stdout",
     "output_type": "stream",
     "text": [
      "[[-0.707 -0.707  0.   ]\n",
      " [ 0.612 -0.612  0.5  ]\n",
      " [-0.354  0.354  0.866]]\n"
     ]
    }
   ],
   "source": [
    "# a) Matriz de rotación equivalente\n",
    "R = rotz(np.pi/2).dot(roty(np.pi/6)).dot(rotz(np.pi/4))\n",
    "print(np.round(R,3))"
   ]
  },
  {
   "cell_type": "code",
   "execution_count": 8,
   "metadata": {},
   "outputs": [
    {
     "name": "stdout",
     "output_type": "stream",
     "text": [
      "Dirección de x:  [-0.70710678  0.61237244 -0.35355339]\n"
     ]
    }
   ],
   "source": [
    "# b) El x del sistema rotado, con respecto al sistema base (fijo, inicial) es la primera \n",
    "#    columna de la matriz de rotación obtenida en a\n",
    "\n",
    "print(\"Dirección de x: \", R[:,0])"
   ]
  },
  {
   "cell_type": "markdown",
   "metadata": {},
   "source": [
    "### Pregunta 3"
   ]
  },
  {
   "cell_type": "code",
   "execution_count": 9,
   "metadata": {},
   "outputs": [
    {
     "name": "stdout",
     "output_type": "stream",
     "text": [
      "El punto en el sistema A es:\n",
      "  [ 0.  -0.2  6.4]\n"
     ]
    }
   ],
   "source": [
    "TBA = np.array([[1,    0,   0,  2],\n",
    "                [0,  0.6, 0.8, -1],\n",
    "                [0, -0.8, 0.6,  1],\n",
    "                [0,    0,   0,  1]])\n",
    "\n",
    "PB = np.array([[2, 4, 5, 1]]).T\n",
    "\n",
    "PA = np.linalg.inv(TBA) @ PB\n",
    "print(\"El punto en el sistema A es:\\n \", PA[0:3].flatten())"
   ]
  },
  {
   "cell_type": "markdown",
   "metadata": {},
   "source": [
    "### Pregunta 4"
   ]
  },
  {
   "cell_type": "code",
   "execution_count": 10,
   "metadata": {},
   "outputs": [
    {
     "name": "stdout",
     "output_type": "stream",
     "text": [
      "El cuaternión equivalente es:  [0.819 0.474 0.115 0.302]\n"
     ]
    }
   ],
   "source": [
    "def rot2quat(R):\n",
    "    w = 0.5*np.sqrt(1+R[0,0]+R[1,1]+R[2,2])\n",
    "    ex = 1/(4*w)*(R[2,1]-R[1,2])\n",
    "    ey = 1/(4*w)*(R[0,2]-R[2,0])\n",
    "    ez = 1/(4*w)*(R[1,0]-R[0,1])\n",
    "    return np.array([w, ex, ey, ez])\n",
    "\n",
    "# a)\n",
    "R = np.array([[0.7905, -0.3864,  0.4752],\n",
    "              [0.6046,  0.3686, -0.7061],\n",
    "              [0.0977,  0.8455,  0.5250]])\n",
    "Q = rot2quat(R)\n",
    "\n",
    "print(\"El cuaternión equivalente es: \", np.round(Q,3))"
   ]
  },
  {
   "cell_type": "code",
   "execution_count": 11,
   "metadata": {},
   "outputs": [
    {
     "name": "stdout",
     "output_type": "stream",
     "text": [
      "[[ 0.7905 -0.3864  0.4752]\n",
      " [ 0.6046  0.3686 -0.7061]\n",
      " [ 0.0977  0.8455  0.525 ]]\n"
     ]
    }
   ],
   "source": [
    "# b) Se verificará obteniendo la matriz de rotación a partir del cuaternión resultante\n",
    "\n",
    "w = Q[0]; ex = Q[1]; ey = Q[2]; ez = Q[3]\n",
    "R1 = np.array([[2*(w**2+ex**2)-1,   2*(ex*ey-w*ez),    2*(ex*ez+w*ey)],\n",
    "               [  2*(ex*ey+w*ez), 2*(w**2+ey**2)-1,    2*(ey*ez-w*ex)],\n",
    "               [  2*(ex*ez-w*ey),   2*(ey*ez+w*ex), 2*(w**2+ez**2)-1]])\n",
    "\n",
    "# Al mostrar el resultado, se observa que es igual a la matriz R inicial\n",
    "print( np.round(R1,4))"
   ]
  },
  {
   "cell_type": "markdown",
   "metadata": {},
   "source": [
    "### Pregunta 5"
   ]
  },
  {
   "cell_type": "code",
   "execution_count": 12,
   "metadata": {},
   "outputs": [
    {
     "name": "stdout",
     "output_type": "stream",
     "text": [
      "Cuaternión equivalente:  [0.707 0.707 0.    0.   ]\n"
     ]
    }
   ],
   "source": [
    "# Las rotaciones de los ángulos ZXZ son:\n",
    "R = rotz(0).dot( rotx(np.pi/2) ).dot( rotz(0))\n",
    "# que es equivalente a una sola rotación alrededor del eje X. \n",
    "\n",
    "# Esta rotación tendría theta = 90° y eje = (1, 0, 0). En la definición de cuaternión:\n",
    "#    Q = (cos(theta/2), ux*sin(theta/2), uy*sin(theta/2), uz*sin(theta/2))\n",
    "# Se tendrá: Q = (cos(theta/2), sin(theta/2), 0,0)\n",
    "\n",
    "theta = np.pi/2\n",
    "Q = np.array([np.cos(theta/2), np.sin(theta/2), 0, 0])\n",
    "print(\"Cuaternión equivalente: \", np.round(Q,3))"
   ]
  },
  {
   "cell_type": "markdown",
   "metadata": {},
   "source": [
    "### Pregunta 6 "
   ]
  },
  {
   "cell_type": "code",
   "execution_count": 13,
   "metadata": {},
   "outputs": [
    {
     "name": "stdout",
     "output_type": "stream",
     "text": [
      "determinante R1:  -0.49999999999999994\n",
      "R1*R1^T: \n",
      " [[1.    0.    0.866]\n",
      " [0.    1.    0.   ]\n",
      " [0.866 0.    1.   ]]\n",
      "\n",
      "determinante R2:  0.9999999999999999\n",
      "R2*R2^T: \n",
      " [[1. 0. 0.]\n",
      " [0. 1. 0.]\n",
      " [0. 0. 1.]]\n"
     ]
    }
   ],
   "source": [
    "# a) Se debe verificar que la parte correspondiente a la matriz de rotación sea efectivamente una matriz de rotación\n",
    "T1 = np.array([[         -1/2, 0, -np.sqrt(3)/2,  1],\n",
    "               [            0, 1,             0, -2],\n",
    "               [-np.sqrt(3)/2, 0,          -1/2, -1],\n",
    "               [            0, 0,             0,  1]]) \n",
    "\n",
    "T2 = np.array([[         -1/2, 0, -np.sqrt(3)/2,  0],\n",
    "               [            0, 1,             0,  1],\n",
    "               [ np.sqrt(3)/2, 0,          -1/2,  0],\n",
    "               [            0, 0,             0,  1]]) \n",
    "\n",
    "T3 = np.array([[         -1/2, 0, -np.sqrt(3)/2,  1],\n",
    "               [            0, 1,             0,  0],\n",
    "               [ np.sqrt(3)/2, 0,          -1/2, -1],\n",
    "               [            0, 0,             0,  1]])\n",
    "\n",
    "# Para T1:\n",
    "R1 = T1[0:3,0:3]\n",
    "print(\"determinante R1: \", np.linalg.det(R1) )\n",
    "print(\"R1*R1^T: \\n\", np.round( R1.dot(R1.T),3) )\n",
    "\n",
    "# Para T2:\n",
    "R2 = T2[0:3,0:3]\n",
    "print(\"\\ndeterminante R2: \", np.linalg.det(R2) )\n",
    "print(\"R2*R2^T: \\n\", np.round( R2.dot(R2.T),3) )\n",
    "\n",
    "# Para T3: la parte correspondiente a la rotación es igual que para T2\n",
    "# Viendo los resultados:\n",
    "# * R1 no es una matriz de rotación, y por tanto T1 no es una transformación homogénea válida\n",
    "# * R2 sí es una matriz de rotación, y por tanto T2 y T3 son válidas"
   ]
  },
  {
   "cell_type": "code",
   "execution_count": 14,
   "metadata": {},
   "outputs": [
    {
     "name": "stdout",
     "output_type": "stream",
     "text": [
      "El cuaternión es:  [ 0.5        0.        -0.8660254  0.       ]\n"
     ]
    }
   ],
   "source": [
    "# b) La conversión a cuaternión unitario se puede realizar con la función de la pregunta 4\n",
    "Q = rot2quat(R2)\n",
    "print(\"El cuaternión es: \", Q)"
   ]
  },
  {
   "cell_type": "code",
   "execution_count": 15,
   "metadata": {},
   "outputs": [
    {
     "name": "stdout",
     "output_type": "stream",
     "text": [
      "El ángulo es:  120.00000000000001\n",
      "El eje es:  [ 0. -1.  0.]\n"
     ]
    }
   ],
   "source": [
    "# c) Usando la función de la pregunta 1:\n",
    "ang, u = ejeang(R2)\n",
    "print(\"El ángulo es: \", np.rad2deg(ang))\n",
    "print(\"El eje es: \", u)"
   ]
  },
  {
   "cell_type": "markdown",
   "metadata": {},
   "source": [
    "### Pregunta 7"
   ]
  },
  {
   "cell_type": "code",
   "execution_count": 16,
   "metadata": {},
   "outputs": [
    {
     "name": "stdout",
     "output_type": "stream",
     "text": [
      "[[ 1.   0.   0.  -0.1]\n",
      " [ 0.  -1.   0.   0.5]\n",
      " [ 0.   0.  -1.   1.8]\n",
      " [ 0.   0.   0.   1. ]]\n"
     ]
    }
   ],
   "source": [
    "# a) Según los datos del problema, la nueva posición y orientación del sistema 2, con respecto al sistema 1 será\n",
    "T12 = np.array([[0, -1, 0,   0],\n",
    "                [1,  0, 0, 0.4],\n",
    "                [0,  0, 1, 0.2],\n",
    "                [0,  0, 0,   1]])\n",
    "\n",
    "# La transformación homogénea del sistema 1 con respecto al sistema 3 es (por inspección del diagrama):\n",
    "T31 = np.array([[0, 1,  0, -0.5],\n",
    "                [1, 0,  0,  0.5],\n",
    "                [0, 0, -1,    2],\n",
    "                [0, 0,  0,    1]])\n",
    "                \n",
    "# El nuevo sistema 2 con respecto a 3 será (el resultado se puede verificar por inspección del diagrama):\n",
    "T32 = np.dot(T31, T12)\n",
    "print(T32)"
   ]
  },
  {
   "cell_type": "code",
   "execution_count": 17,
   "metadata": {},
   "outputs": [
    {
     "name": "stdout",
     "output_type": "stream",
     "text": [
      "[[ 0.  -1.   0.   0. ]\n",
      " [ 1.   0.   0.   1.4]\n",
      " [ 0.   0.   1.   1.2]\n",
      " [ 0.   0.   0.   1. ]]\n"
     ]
    }
   ],
   "source": [
    "# b) El sistema 1 con respecto al sistema 0 es:\n",
    "T01 = np.array([[1, 0, 0, 0],\n",
    "                [0, 1, 0, 1],\n",
    "                [0, 0, 1, 1],\n",
    "                [0, 0, 0, 1]])\n",
    "                \n",
    "# El nuevo sistema 2 con respecto a 0 será:\n",
    "T02 = np.dot(T01, T12)\n",
    "print(T02)"
   ]
  },
  {
   "cell_type": "markdown",
   "metadata": {},
   "source": [
    "### Pregunta 8"
   ]
  },
  {
   "cell_type": "code",
   "execution_count": 18,
   "metadata": {},
   "outputs": [],
   "source": [
    "# Definición de las matrices de rotación en y, z usando sympy\n",
    "def sroty(ang):\n",
    "    Ry = sp.Matrix([[sp.cos(ang), 0, sp.sin(ang)],\n",
    "                    [0, 1, 0],\n",
    "                    [-sp.sin(ang), 0, sp.cos(ang)]])\n",
    "    return Ry\n",
    "\n",
    "def srotz(ang):\n",
    "    Rz = sp.Matrix([[sp.cos(ang), -sp.sin(ang), 0],\n",
    "                   [sp.sin(ang), sp.cos(ang), 0],\n",
    "                   [0,0,1]])\n",
    "    return Rz\n",
    "\n",
    "def srotx(ang):\n",
    "    Rx = sp.Matrix([[1, 0, 0],\n",
    "                    [0, sp.cos(ang), -sp.sin(ang)],\n",
    "                    [0, sp.sin(ang), sp.cos(ang)]])\n",
    "    return Rx"
   ]
  },
  {
   "cell_type": "code",
   "execution_count": 19,
   "metadata": {},
   "outputs": [
    {
     "data": {
      "text/latex": [
       "$\\displaystyle \\left[\\begin{matrix}- \\sin{\\left(p_{1} \\right)} \\sin{\\left(p_{3} \\right)} \\cos{\\left(p_{2} \\right)} + \\cos{\\left(p_{1} \\right)} \\cos{\\left(p_{3} \\right)} & - \\sin{\\left(p_{1} \\right)} \\cos{\\left(p_{2} \\right)} \\cos{\\left(p_{3} \\right)} - \\sin{\\left(p_{3} \\right)} \\cos{\\left(p_{1} \\right)} & \\sin{\\left(p_{1} \\right)} \\sin{\\left(p_{2} \\right)}\\\\\\sin{\\left(p_{1} \\right)} \\cos{\\left(p_{3} \\right)} + \\sin{\\left(p_{3} \\right)} \\cos{\\left(p_{1} \\right)} \\cos{\\left(p_{2} \\right)} & - \\sin{\\left(p_{1} \\right)} \\sin{\\left(p_{3} \\right)} + \\cos{\\left(p_{1} \\right)} \\cos{\\left(p_{2} \\right)} \\cos{\\left(p_{3} \\right)} & - \\sin{\\left(p_{2} \\right)} \\cos{\\left(p_{1} \\right)}\\\\\\sin{\\left(p_{2} \\right)} \\sin{\\left(p_{3} \\right)} & \\sin{\\left(p_{2} \\right)} \\cos{\\left(p_{3} \\right)} & \\cos{\\left(p_{2} \\right)}\\end{matrix}\\right]$"
      ],
      "text/plain": [
       "Matrix([\n",
       "[-sin(p1)*sin(p3)*cos(p2) + cos(p1)*cos(p3), -sin(p1)*cos(p2)*cos(p3) - sin(p3)*cos(p1),  sin(p1)*sin(p2)],\n",
       "[ sin(p1)*cos(p3) + sin(p3)*cos(p1)*cos(p2), -sin(p1)*sin(p3) + cos(p1)*cos(p2)*cos(p3), -sin(p2)*cos(p1)],\n",
       "[                           sin(p2)*sin(p3),                            sin(p2)*cos(p3),          cos(p2)]])"
      ]
     },
     "execution_count": 19,
     "metadata": {},
     "output_type": "execute_result"
    }
   ],
   "source": [
    "# Generación de variables simbólicas\n",
    "p1, p2, p3 = sp.symbols(\"p1 p2 p3\")\n",
    "\n",
    "# a) Rotación deseada ZXZ\n",
    "R = sp.simplify(srotz(p1)*srotx(p2)*srotz(p3))\n",
    "R"
   ]
  },
  {
   "cell_type": "markdown",
   "metadata": {},
   "source": [
    "b) Se considerará $R=\\begin{bmatrix} r_{11} & r_{12} & r_{13} \\\\ r_{21} & r_{22} & r_{23} \\\\ r_{31} & r_{32} & r_{33}\\end{bmatrix}$. Comparando términos se tiene:\n",
    "\n",
    "* $r_{31}=\\sin(\\phi_2)\\sin(\\phi_3)$, $r_{32}=\\sin(\\phi_2)\\cos(\\phi_3)$, de donde $\\sin(\\phi_3) = r_{31}/\\sin(\\phi_2)$ y $\\cos(\\phi_3) = r_{32}/\\sin(\\phi_2)$. De allí se obtiene la función tangente, que se despeja como: $\\phi_3=\\text{atan2}\\left(\\frac{r_{31}}{\\sin(\\phi_2)}, \\frac{r_{32}}{\\sin(\\phi_2)}\\right)$\n",
    "\n",
    "* De manera similar, se obtiene: $\\phi_1=\\text{atan2}\\left(\\frac{r_{13}}{\\sin(\\phi_2)}, -\\frac{r_{23}}{\\sin(\\phi_2)}\\right)$\n",
    "\n",
    "* Si se eleva al cuadrado $r_{31}$ y $r_{32}$, y aplicando propiedades trigonométricas, se tiene: $r_{31}^2+r_{32}^2=\\sin^2(\\phi_2)$, de donde $\\sin(\\phi_2)=\\pm \\sqrt{r_{31}^2+r_{32}^2}$. Dado que $r_{33}=\\cos(\\phi_2)$, se tendrá: $\\phi_2 = \\text{atan2}\\left(\\pm\\sqrt{r_{31}^2+r_{32}^2}, r_{33}\\right)$"
   ]
  },
  {
   "cell_type": "markdown",
   "metadata": {},
   "source": [
    "### Pregunta 9"
   ]
  },
  {
   "cell_type": "code",
   "execution_count": 20,
   "metadata": {},
   "outputs": [
    {
     "name": "stdout",
     "output_type": "stream",
     "text": [
      "Cuaternión equivalente: [ 0.819 -0.474 -0.115 -0.302]\n"
     ]
    }
   ],
   "source": [
    "R = np.array([[ 0.7905,  0.6046, 0.0977],\n",
    "              [-0.3864,  0.3686, 0.8455],\n",
    "              [ 0.4752, -0.7061, 0.5250]])\n",
    "\n",
    "# a) Cuaternión equivalente\n",
    "w = 0.5*np.sqrt(1 + R[0,0] + R[1,1] + R[2,2])\n",
    "ex = 1/(4*w) * (R[2,1]-R[1,2])\n",
    "ey = 1/(4*w) * (R[0,2]-R[2,0])\n",
    "ez = 1/(4*w) * (R[1,0]-R[0,1])\n",
    "\n",
    "# Cuaternión:\n",
    "Q = np.array([w, ex, ey, ez])\n",
    "print(\"Cuaternión equivalente:\", np.round(Q, 3))"
   ]
  },
  {
   "cell_type": "code",
   "execution_count": 21,
   "metadata": {},
   "outputs": [
    {
     "name": "stdout",
     "output_type": "stream",
     "text": [
      "Eje: [-0.826 -0.201 -0.527]\n",
      "Ángulo: 70.0\n"
     ]
    }
   ],
   "source": [
    "# b) Dado que se tiene el cuaternión equivalente, se puede usar el cuaternión \n",
    "e = np.array([ex, ey, ez])\n",
    "u = e / np.linalg.norm(e)    # Eje\n",
    "\n",
    "th = 2 * np.arctan2(np.linalg.norm(e), w)    # Ángulo en radianes\n",
    "th = th/np.pi*180    # En grados\n",
    "\n",
    "print(\"Eje:\", np.round(u, 3))\n",
    "print(\"Ángulo:\", np.round(th, 2))"
   ]
  },
  {
   "cell_type": "code",
   "execution_count": 22,
   "metadata": {},
   "outputs": [
    {
     "name": "stdout",
     "output_type": "stream",
     "text": [
      "Matriz inversa:\n",
      " [[ 0.7905 -0.3864  0.4752]\n",
      " [ 0.6046  0.3686 -0.7061]\n",
      " [ 0.0977  0.8455  0.525 ]]\n"
     ]
    }
   ],
   "source": [
    "# c)\n",
    "Rinv = R.T\n",
    "print(\"Matriz inversa:\\n\", Rinv)"
   ]
  },
  {
   "cell_type": "code",
   "execution_count": 23,
   "metadata": {},
   "outputs": [
    {
     "name": "stdout",
     "output_type": "stream",
     "text": [
      "Cuaternión equivalente: [0.819 0.474 0.115 0.302]\n"
     ]
    }
   ],
   "source": [
    "# Cuaternión asociado con la matriz inversa:\n",
    "w = 0.5*np.sqrt(1 + Rinv[0,0] + Rinv[1,1] + Rinv[2,2])\n",
    "ex = 1/(4*w) * (Rinv[2,1]-Rinv[1,2])\n",
    "ey = 1/(4*w) * (Rinv[0,2]-Rinv[2,0])\n",
    "ez = 1/(4*w) * (Rinv[1,0]-Rinv[0,1])\n",
    "\n",
    "# Cuaternión:\n",
    "Q = np.array([w, ex, ey, ez])\n",
    "print(\"Cuaternión equivalente:\", np.round(Q, 3))\n",
    "\n",
    "# Se puede ver que el cuaternión tiene la misma parte escalar que en la parte a), pero el negativo de la parte vectorial"
   ]
  },
  {
   "cell_type": "markdown",
   "metadata": {},
   "source": [
    "### Pregunta 10"
   ]
  },
  {
   "cell_type": "code",
   "execution_count": 24,
   "metadata": {},
   "outputs": [
    {
     "data": {
      "text/latex": [
       "$\\displaystyle \\left[\\begin{matrix}\\cos{\\left(p_{1} \\right)} \\cos{\\left(p_{2} \\right)} & - \\sin{\\left(p_{1} \\right)} \\cos{\\left(p_{3} \\right)} + \\sin{\\left(p_{2} \\right)} \\sin{\\left(p_{3} \\right)} \\cos{\\left(p_{1} \\right)} & \\sin{\\left(p_{1} \\right)} \\sin{\\left(p_{3} \\right)} + \\sin{\\left(p_{2} \\right)} \\cos{\\left(p_{1} \\right)} \\cos{\\left(p_{3} \\right)}\\\\\\sin{\\left(p_{1} \\right)} \\cos{\\left(p_{2} \\right)} & \\sin{\\left(p_{1} \\right)} \\sin{\\left(p_{2} \\right)} \\sin{\\left(p_{3} \\right)} + \\cos{\\left(p_{1} \\right)} \\cos{\\left(p_{3} \\right)} & \\sin{\\left(p_{1} \\right)} \\sin{\\left(p_{2} \\right)} \\cos{\\left(p_{3} \\right)} - \\sin{\\left(p_{3} \\right)} \\cos{\\left(p_{1} \\right)}\\\\- \\sin{\\left(p_{2} \\right)} & \\sin{\\left(p_{3} \\right)} \\cos{\\left(p_{2} \\right)} & \\cos{\\left(p_{2} \\right)} \\cos{\\left(p_{3} \\right)}\\end{matrix}\\right]$"
      ],
      "text/plain": [
       "Matrix([\n",
       "[cos(p1)*cos(p2), -sin(p1)*cos(p3) + sin(p2)*sin(p3)*cos(p1), sin(p1)*sin(p3) + sin(p2)*cos(p1)*cos(p3)],\n",
       "[sin(p1)*cos(p2),  sin(p1)*sin(p2)*sin(p3) + cos(p1)*cos(p3), sin(p1)*sin(p2)*cos(p3) - sin(p3)*cos(p1)],\n",
       "[       -sin(p2),                            sin(p3)*cos(p2),                           cos(p2)*cos(p3)]])"
      ]
     },
     "execution_count": 24,
     "metadata": {},
     "output_type": "execute_result"
    }
   ],
   "source": [
    "# Verificación de la rotación\n",
    "p1, p2, p3 = sp.symbols(\"p1 p2 p3\")\n",
    "R = sp.simplify(srotz(p1)*sroty(p2)*srotx(p3))\n",
    "R"
   ]
  },
  {
   "cell_type": "markdown",
   "metadata": {},
   "source": [
    "Se asocia los elementos $r_{ij}$ de la matriz de rotación genérica con los elementos mostrados para obtener términos seno y coseno de cada ángulo por separado. Operando, se llega a:\n",
    "\n",
    "$\\phi_2 = \\text{atan2}\\left(-r_{31}, \\pm \\sqrt{r_{33}^2+r_{32}^2}\\right)$\n",
    "\n",
    "$\\phi_3 = \\text{atan2}\\left( \\dfrac{r_{32}}{\\cos\\phi_2}, \\dfrac{r_{33}}{\\cos\\phi_2} \\right)$ \n",
    "\n",
    "$\\phi_1 = \\text{atan2}\\left( \\dfrac{r_{21}}{\\cos\\phi_2}, \\dfrac{r_{11}}{\\cos\\phi_2} \\right)$ "
   ]
  },
  {
   "cell_type": "code",
   "execution_count": 25,
   "metadata": {},
   "outputs": [
    {
     "data": {
      "text/plain": [
       "array([[ 0.33682409,  0.31232456,  0.88825835],\n",
       "       [ 0.05939117,  0.93445649, -0.35108939],\n",
       "       [-0.93969262,  0.17101007,  0.29619813]])"
      ]
     },
     "execution_count": 25,
     "metadata": {},
     "output_type": "execute_result"
    }
   ],
   "source": [
    "# Con los ángulos dados, se puede obtener la siguiente matriz de rotación\n",
    "p1 = 10/180*np.pi; p2 = 70/180*np.pi; p3 = 30/180*np.pi\n",
    "R = rotz(p1).dot(roty(p2)).dot(rotx(p3))\n",
    "R"
   ]
  },
  {
   "cell_type": "code",
   "execution_count": 26,
   "metadata": {},
   "outputs": [
    {
     "data": {
      "text/plain": [
       "array([10., 70., 30.])"
      ]
     },
     "execution_count": 26,
     "metadata": {},
     "output_type": "execute_result"
    }
   ],
   "source": [
    "# Primer conjunto de ángulos\n",
    "phi2 = np.rad2deg( np.arctan2(-R[2,0], np.sqrt(R[2,2]**2+R[2,1]**2)) )\n",
    "phi3 = np.rad2deg( np.arctan2(R[2,1]/np.cos(phi2), R[2,2]/np.cos(phi2)) )\n",
    "phi1 = np.rad2deg( np.arctan2(R[1,0]/np.cos(phi2), R[0,0]/np.cos(phi2)) )\n",
    "np.array([phi1, phi2, phi3])"
   ]
  },
  {
   "cell_type": "code",
   "execution_count": 27,
   "metadata": {},
   "outputs": [
    {
     "data": {
      "text/plain": [
       "array([-170.,  110., -150.])"
      ]
     },
     "execution_count": 27,
     "metadata": {},
     "output_type": "execute_result"
    }
   ],
   "source": [
    "# Segundo conjunto de ángulos\n",
    "phi2 = np.rad2deg( np.arctan2(-R[2,0], -np.sqrt(R[2,2]**2+R[2,1]**2)) )\n",
    "phi3 = np.rad2deg( np.arctan2(R[2,1]/np.cos(phi2), R[2,2]/np.cos(phi2)) )\n",
    "phi1 = np.rad2deg( np.arctan2(R[1,0]/np.cos(phi2), R[0,0]/np.cos(phi2)) )\n",
    "np.array([phi1, phi2, phi3])"
   ]
  },
  {
   "cell_type": "markdown",
   "metadata": {},
   "source": [
    "### Pregunta 11"
   ]
  },
  {
   "cell_type": "code",
   "execution_count": 28,
   "metadata": {},
   "outputs": [],
   "source": [
    "def Trotx(ang):\n",
    "    Tx = np.array([[1, 0, 0, 0],\n",
    "                   [0, cos(ang), -sin(ang), 0],\n",
    "                   [0, sin(ang), cos(ang), 0],\n",
    "                   [0, 0, 0, 1]])\n",
    "    return Tx\n",
    "\n",
    "def Troty(ang):\n",
    "    Ty = np.array([[cos(ang), 0, sin(ang), 0],\n",
    "                   [0, 1, 0, 0],\n",
    "                   [-sin(ang), 0, cos(ang), 0],\n",
    "                   [0, 0, 0, 1]])\n",
    "    return Ty\n",
    "\n",
    "def Trotz(ang):\n",
    "    Tz = np.array([[cos(ang), -sin(ang), 0, 0],\n",
    "                   [sin(ang), cos(ang), 0, 0],\n",
    "                   [0, 0, 1, 0],\n",
    "                   [0, 0, 0, 1]])\n",
    "    return Tz\n",
    "\n",
    "def Trasl(x,y,z):\n",
    "    T = np.array([[1, 0, 0, x],\n",
    "                  [0, 1, 0, y], \n",
    "                  [0, 0, 1, z],\n",
    "                  [0, 0, 0, 1]])\n",
    "    return T"
   ]
  },
  {
   "cell_type": "code",
   "execution_count": 29,
   "metadata": {},
   "outputs": [
    {
     "data": {
      "text/plain": [
       "array([[-1. ,  0. ,  0. ,  4. ],\n",
       "       [ 0. , -0.6,  0.8,  5. ],\n",
       "       [ 0. ,  0.8,  0.6, -0. ],\n",
       "       [ 0. ,  0. ,  0. ,  1. ]])"
      ]
     },
     "execution_count": 29,
     "metadata": {},
     "output_type": "execute_result"
    }
   ],
   "source": [
    "ang = np.arctan(3/4)\n",
    "\n",
    "# a)\n",
    "# Transformación que describe {1} con respecto a {2}: se comienza con {2} y se termina en {1}\n",
    "T21 = Trasl(0,5,0) @ Trotx(np.pi/2+ang) @ Troty(np.pi) @ Trasl(-4,0,0)\n",
    "np.round(T21, 3)"
   ]
  },
  {
   "cell_type": "code",
   "execution_count": 30,
   "metadata": {},
   "outputs": [
    {
     "data": {
      "text/plain": [
       "array([[ 0. ,  0.6,  0.8,  0. ],\n",
       "       [ 0. , -0.8,  0.6,  4. ],\n",
       "       [ 1. , -0. , -0. ,  0. ],\n",
       "       [ 0. ,  0. ,  0. ,  1. ]])"
      ]
     },
     "execution_count": 30,
     "metadata": {},
     "output_type": "execute_result"
    }
   ],
   "source": [
    "# Transformación que describe {3} con respecto a {0}: se comienza con {0} y se termina en {3}\n",
    "T03 = Trasl(0,4,0) @ Troty(-np.pi/2) @ Trotx(-(np.pi-ang))\n",
    "np.round(T03, 3)"
   ]
  },
  {
   "cell_type": "code",
   "execution_count": 31,
   "metadata": {},
   "outputs": [
    {
     "data": {
      "text/plain": [
       "array([[ 0., -1., -0.,  3.],\n",
       "       [ 0.,  0., -1.,  0.],\n",
       "       [ 1.,  0.,  0.,  0.],\n",
       "       [ 0.,  0.,  0.,  1.]])"
      ]
     },
     "execution_count": 31,
     "metadata": {},
     "output_type": "execute_result"
    }
   ],
   "source": [
    "# Transformación que describe {1} con respecto a {0}: se comienza con {0} y se termina en {1}\n",
    "T01 = Trasl(3,0,0) @ Troty(-np.pi/2) @ Trotx(np.pi/2)\n",
    "np.round(T01, 3)"
   ]
  },
  {
   "cell_type": "code",
   "execution_count": 32,
   "metadata": {},
   "outputs": [
    {
     "data": {
      "text/plain": [
       "array([[-1.,  0., -0.,  4.],\n",
       "       [ 0.,  1., -0., -0.],\n",
       "       [ 0., -0., -1.,  0.],\n",
       "       [ 0.,  0.,  0.,  1.]])"
      ]
     },
     "execution_count": 32,
     "metadata": {},
     "output_type": "execute_result"
    }
   ],
   "source": [
    "# b) Usando composición de matrices:\n",
    "T23 = T21 @ np.linalg.inv(T01) @ T03\n",
    "np.round(T23, 3)\n",
    "\n",
    "# El resultado se puede verificar por inspección (x3 está en dirección de -x2, y3 en la dirección de y2, \n",
    "# z3 en la dirección de -z1)"
   ]
  }
 ],
 "metadata": {
  "kernelspec": {
   "display_name": "Python 3.9.12 ('base')",
   "language": "python",
   "name": "python3"
  },
  "language_info": {
   "codemirror_mode": {
    "name": "ipython",
    "version": 3
   },
   "file_extension": ".py",
   "mimetype": "text/x-python",
   "name": "python",
   "nbconvert_exporter": "python",
   "pygments_lexer": "ipython3",
   "version": "3.9.12"
  },
  "vscode": {
   "interpreter": {
    "hash": "470260c6919e9ff48e1a573ae64d2f776c76ca8b99100eba78f1a4e3574395cd"
   }
  }
 },
 "nbformat": 4,
 "nbformat_minor": 2
}
