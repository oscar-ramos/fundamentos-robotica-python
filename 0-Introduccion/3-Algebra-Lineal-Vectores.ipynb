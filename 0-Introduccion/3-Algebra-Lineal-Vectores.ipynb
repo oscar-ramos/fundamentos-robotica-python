{
 "cells": [
  {
   "cell_type": "markdown",
   "metadata": {},
   "source": [
    "# Tutorial 3: Algebra lineal usando NumPy - Operaciones básicas con Vectores\n",
    "[![Open In Colab](https://colab.research.google.com/assets/colab-badge.svg)](https://colab.research.google.com/github/oscar-ramos/fundamentos-robotica-python/blob/main/0-Introduccion/3-Algebra-Lineal-Vectores.ipynb)\n",
    "\n",
    "Oscar E. Ramos Ponce, Universidad de Ingeniería y Tecnología - UTEC\n",
    "\n",
    "* Este archivo muestra el uso básico de vectores con NumPy\n",
    "* Las operaciones descritas se basan en el capítulo 1 (Vectores) de [este](http://oramosp.epizy.com/teaching/notes/0_algebra_lineal.pdf) documento. La numeración se basa, igualmente, en dicho documento."
   ]
  },
  {
   "cell_type": "code",
   "execution_count": 1,
   "metadata": {},
   "outputs": [],
   "source": [
    "import numpy as np"
   ]
  },
  {
   "cell_type": "markdown",
   "metadata": {},
   "source": [
    "# 1. Vectores"
   ]
  },
  {
   "cell_type": "code",
   "execution_count": 2,
   "metadata": {},
   "outputs": [
    {
     "name": "stdout",
     "output_type": "stream",
     "text": [
      "Vector: [2 4 6]\n",
      "Tamaño del vector: (3,)\n"
     ]
    }
   ],
   "source": [
    "# Vector unidimensional (tamaño n)\n",
    "v1 = np.array([2, 4, 6])\n",
    "\n",
    "print(\"Vector:\", v1)\n",
    "print(\"Tamaño del vector:\", v1.shape)"
   ]
  },
  {
   "cell_type": "code",
   "execution_count": 3,
   "metadata": {},
   "outputs": [
    {
     "name": "stdout",
     "output_type": "stream",
     "text": [
      "Vector:\n",
      " [[2]\n",
      " [4]\n",
      " [6]]\n",
      "Tamaño del vector: (3, 1)\n"
     ]
    }
   ],
   "source": [
    "# Vector unidimensional escrito con 2 dimensiones (tamaño nx1)\n",
    "v2 = np.array([[2], [4], [6]])     # Es igual que: np.array([[2, 4, 6]]).T \n",
    "\n",
    "print(\"Vector:\\n\", v2)\n",
    "print(\"Tamaño del vector:\", v2.shape)"
   ]
  },
  {
   "cell_type": "code",
   "execution_count": 4,
   "metadata": {},
   "outputs": [
    {
     "name": "stdout",
     "output_type": "stream",
     "text": [
      "Tamaño del vector x1: (3,)\n",
      "Tamaño del vector x2: (3, 1)\n"
     ]
    }
   ],
   "source": [
    "# Conversión de vector de 1 dimensión a vector de 2 dimensiones\n",
    "x1 = np.array([2, 4, 6])\n",
    "x2 = x1[:,None]\n",
    "\n",
    "print(\"Tamaño del vector x1:\", x1.shape)\n",
    "print(\"Tamaño del vector x2:\", x2.shape)"
   ]
  },
  {
   "cell_type": "code",
   "execution_count": 5,
   "metadata": {},
   "outputs": [
    {
     "name": "stdout",
     "output_type": "stream",
     "text": [
      "Tamaño del vector x1: (3, 1)\n",
      "Tamaño del vector x2: (3,)\n"
     ]
    }
   ],
   "source": [
    "# Conversión de vector de 2 dimensiones a vector de 1 dimensión\n",
    "x2 = np.array([[2, 4, 6]]).T\n",
    "x1 = x2.flatten()\n",
    "\n",
    "print(\"Tamaño del vector x1:\", x2.shape)\n",
    "print(\"Tamaño del vector x2:\", x1.shape)"
   ]
  },
  {
   "cell_type": "markdown",
   "metadata": {},
   "source": [
    "### Transpuesta"
   ]
  },
  {
   "cell_type": "code",
   "execution_count": 6,
   "metadata": {},
   "outputs": [
    {
     "name": "stdout",
     "output_type": "stream",
     "text": [
      "Usando un vector de 1 sola dimensión:\n",
      "   v: [2 4 6]          tamaño de v: (3,)\n",
      " v.T: [2 4 6]        tamaño de v.T: (3,)\n",
      "\n",
      "Usando un vector de 2 dimensiones:\n",
      "v:\n",
      " [[2]\n",
      " [4]\n",
      " [6]]\n",
      "Tamaño de v: (3, 1)\n",
      "v.T: [[2 4 6]]         tamaño de v.T: (1, 3)\n"
     ]
    }
   ],
   "source": [
    "# La transpuesta solo tiene sentido cuando se usa 2 dimensiones\n",
    "print(\"Usando un vector de 1 sola dimensión:\")\n",
    "print(\"   v: {}          tamaño de v: {}\".format(v1, v1.shape))\n",
    "print(\" v.T: {}        tamaño de v.T: {}\".format(v1.T, v1.T.shape))\n",
    "\n",
    "print(\"\\nUsando un vector de 2 dimensiones:\")\n",
    "print(\"v:\\n\", v2)\n",
    "print(\"Tamaño de v:\", v2.shape)\n",
    "print(\"v.T: {}         tamaño de v.T: {}\".format(v2.T, v2.T.shape))"
   ]
  },
  {
   "cell_type": "markdown",
   "metadata": {},
   "source": [
    "### Vector Unitario"
   ]
  },
  {
   "cell_type": "code",
   "execution_count": 7,
   "metadata": {},
   "outputs": [
    {
     "name": "stdout",
     "output_type": "stream",
     "text": [
      "Vector unitario: [0.26726124 0.53452248 0.80178373]\n",
      "Norma del vector unitario: 1.0\n"
     ]
    }
   ],
   "source": [
    "# Vector no unitario (se puede usar 1 o 2 dimensiones)\n",
    "v = np.array([2, 4, 6])\n",
    "# Vector unitario\n",
    "v_unit = v/np.linalg.norm(v)\n",
    "\n",
    "print(\"Vector unitario:\", v_unit)\n",
    "print(\"Norma del vector unitario:\", np.linalg.norm(v_unit))"
   ]
  },
  {
   "cell_type": "markdown",
   "metadata": {},
   "source": [
    "## 1.1. Operaciones con Vectores"
   ]
  },
  {
   "cell_type": "markdown",
   "metadata": {},
   "source": [
    "### Producto Escalar"
   ]
  },
  {
   "cell_type": "code",
   "execution_count": 8,
   "metadata": {},
   "outputs": [
    {
     "name": "stdout",
     "output_type": "stream",
     "text": [
      "Producto escalar: 74\n",
      "Producto escalar: 74\n"
     ]
    }
   ],
   "source": [
    "# Vectores de 1 dimensión:  (3,)\n",
    "x = np.array([2, 4, 6])\n",
    "y = np.array([3, 5, 8])\n",
    "\n",
    "# Producto escalar \n",
    "p1 = x.dot(y)\n",
    "p2 = np.dot(x,y)\n",
    "print(\"Producto escalar:\", p1)\n",
    "print(\"Producto escalar:\", p2)"
   ]
  },
  {
   "cell_type": "code",
   "execution_count": 9,
   "metadata": {},
   "outputs": [
    {
     "name": "stdout",
     "output_type": "stream",
     "text": [
      "Producto escalar: [[74]]\n",
      "Producto escalar: 74\n"
     ]
    }
   ],
   "source": [
    "# Usando vectores de 2 dimensiones: (3,1)\n",
    "x = np.array([[2, 4, 6]]).T\n",
    "y = np.array([[3, 5, 8]]).T\n",
    "\n",
    "# Producto escalar usando la transpuesta\n",
    "p3 = np.dot(x.T, y)\n",
    "print(\"Producto escalar:\", p3)\n",
    "print(\"Producto escalar:\", p3.item())\n",
    "\n",
    "# Nota: en este caso, si se usa x.dot(y) habrá un error de dimensión\n",
    "# x.dot(y)"
   ]
  },
  {
   "cell_type": "code",
   "execution_count": 10,
   "metadata": {},
   "outputs": [
    {
     "name": "stdout",
     "output_type": "stream",
     "text": [
      "Ángulo entre los vectores: 0.8861 rad\n",
      "Ángulo entre los vectores: 50.77 deg\n"
     ]
    }
   ],
   "source": [
    "# Ángulo entre 2 vectores\n",
    "x = np.array([2, 4, 6])\n",
    "y = np.array([5, 3, 1])\n",
    "\n",
    "th = np.arccos( np.dot(x,y) / (np.linalg.norm(x)*np.linalg.norm(y)) ) \n",
    "print(\"Ángulo entre los vectores: {:.4f} rad\".format(th))\n",
    "print(\"Ángulo entre los vectores: {:.2f} deg\".format(np.rad2deg(th)))"
   ]
  },
  {
   "cell_type": "markdown",
   "metadata": {},
   "source": [
    "### Norma"
   ]
  },
  {
   "cell_type": "code",
   "execution_count": 11,
   "metadata": {},
   "outputs": [
    {
     "name": "stdout",
     "output_type": "stream",
     "text": [
      "Norma Euclideana (L2): 7.483314773547883\n",
      "Norma Euclideana (L2): 7.483314773547883\n"
     ]
    }
   ],
   "source": [
    "x = np.array([2, 4, 6])     # x = np.array([[2, 4, 6]]).T\n",
    "\n",
    "# Usando el producto punto para la norma Euclideana (solo con vectores de 1 dimensión)\n",
    "n1 = np.sqrt(np.dot(x,x))\n",
    "# Usando la función de numpy para la norma Euclideana (con vectores de 1 o 2 dimensiones)\n",
    "n2 = np.linalg.norm(x)\n",
    "\n",
    "print(\"Norma Euclideana (L2):\", n1)\n",
    "print(\"Norma Euclideana (L2):\", n2)"
   ]
  },
  {
   "cell_type": "code",
   "execution_count": 12,
   "metadata": {},
   "outputs": [
    {
     "name": "stdout",
     "output_type": "stream",
     "text": [
      "Norma L1: 12.0\n",
      "Norma L-infinito: 6.0\n"
     ]
    }
   ],
   "source": [
    "# Norma L1\n",
    "norma1 = np.linalg.norm(x, 1)\n",
    "# Norma L-infinito\n",
    "normaI = np.linalg.norm(x, np.inf)\n",
    "\n",
    "print(\"Norma L1:\", norma1)\n",
    "print(\"Norma L-infinito:\", normaI)"
   ]
  },
  {
   "cell_type": "markdown",
   "metadata": {},
   "source": [
    "### Producto Vectorial"
   ]
  },
  {
   "cell_type": "code",
   "execution_count": 13,
   "metadata": {},
   "outputs": [
    {
     "name": "stdout",
     "output_type": "stream",
     "text": [
      "Producto vectorial: [-14  28 -14]\n",
      "Producto vectorial: [-14  28 -14]\n"
     ]
    }
   ],
   "source": [
    "# Solo aplicable con vectores de 1 dimensión\n",
    "x = np.array([2, 4, 6])\n",
    "y = np.array([5, 3, 1])\n",
    "\n",
    "# Usando la definición (solo vectores de 1 dimensión)\n",
    "p1 = np.array([x[1]*y[2]-x[2]*y[1], x[2]*y[0]-x[0]*y[2], x[0]*y[1]-x[1]*y[0] ])\n",
    "# Usando la función de numpy (solo vectores de 1 dimensión)\n",
    "p2 = np.cross(x, y)\n",
    "\n",
    "print(\"Producto vectorial:\", p1)\n",
    "print(\"Producto vectorial:\", p2)"
   ]
  },
  {
   "cell_type": "code",
   "execution_count": 14,
   "metadata": {},
   "outputs": [
    {
     "name": "stdout",
     "output_type": "stream",
     "text": [
      "x cross x: [0 0 0]\n",
      "x cros y: [-14  28 -14]    , y cross x:[ 14 -28  14]\n"
     ]
    }
   ],
   "source": [
    "# Verificación de algunas propiedades:\n",
    "print(\"x cross x:\", np.cross(x, x))\n",
    "print(\"x cros y: {}    , y cross x:{}\".format(np.cross(x,y), np.cross(y,x)))"
   ]
  },
  {
   "cell_type": "markdown",
   "metadata": {},
   "source": [
    "### Producto Exterior"
   ]
  },
  {
   "cell_type": "code",
   "execution_count": 15,
   "metadata": {},
   "outputs": [
    {
     "name": "stdout",
     "output_type": "stream",
     "text": [
      "Producto Exterior:\n",
      " [[10  6  2]\n",
      " [20 12  4]\n",
      " [30 18  6]]\n"
     ]
    }
   ],
   "source": [
    "# Producto exterior (se usa vectores de 2 dimensiones porque es necesario transponer)\n",
    "x = np.array([[2, 4, 6]]).T\n",
    "y = np.array([[5, 3, 1]]).T\n",
    "# Producto Exterior\n",
    "pext = np.dot(x, y.T)\n",
    "\n",
    "print(\"Producto Exterior:\\n\", pext)"
   ]
  },
  {
   "cell_type": "code",
   "execution_count": 16,
   "metadata": {},
   "outputs": [
    {
     "name": "stdout",
     "output_type": "stream",
     "text": [
      "Producto punto: 28\n",
      "Traza del producto exterior: 28\n"
     ]
    }
   ],
   "source": [
    "# Producto punto\n",
    "p1 = np.dot(x.T, y)\n",
    "# Traza del producto exterior\n",
    "p2 = np.trace(pext)\n",
    "\n",
    "print(\"Producto punto:\", p1.item())\n",
    "print(\"Traza del producto exterior:\", p2)"
   ]
  }
 ],
 "metadata": {
  "kernelspec": {
   "display_name": "Python 3.9.12 ('base')",
   "language": "python",
   "name": "python3"
  },
  "language_info": {
   "codemirror_mode": {
    "name": "ipython",
    "version": 3
   },
   "file_extension": ".py",
   "mimetype": "text/x-python",
   "name": "python",
   "nbconvert_exporter": "python",
   "pygments_lexer": "ipython3",
   "version": "3.9.12"
  },
  "vscode": {
   "interpreter": {
    "hash": "470260c6919e9ff48e1a573ae64d2f776c76ca8b99100eba78f1a4e3574395cd"
   }
  }
 },
 "nbformat": 4,
 "nbformat_minor": 4
}
