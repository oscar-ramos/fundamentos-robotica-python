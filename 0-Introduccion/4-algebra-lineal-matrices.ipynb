{
 "cells": [
  {
   "cell_type": "markdown",
   "metadata": {},
   "source": [
    "# Tutorial 4: Algebra lineal usando NumPy - Operaciones básicas con Matrices\n",
    "[![Open In Colab](https://colab.research.google.com/assets/colab-badge.svg)](https://colab.research.google.com/github/oscar-ramos/fundamentos-robotica-python/blob/main/0-Introduccion/4-algebra-lineal-matrices.ipynb)\n",
    "\n",
    "Oscar E. Ramos Ponce - Universidad de Ingeniería y Tecnología - UTEC\n",
    "\n",
    "* Este archivo muestra el uso básico de matrices con NumPy. \n",
    "* Las operaciones descritas se basan en el capítulo 2 (matrices) de [este](http://oramosp.epizy.com/teaching/notes/0_algebra_lineal.pdf) documento. La numeración se basa, igualmente, en dicho documento."
   ]
  },
  {
   "cell_type": "code",
   "execution_count": 1,
   "metadata": {},
   "outputs": [],
   "source": [
    "import numpy as np"
   ]
  },
  {
   "cell_type": "markdown",
   "metadata": {},
   "source": [
    "# 2. Matrices"
   ]
  },
  {
   "cell_type": "code",
   "execution_count": 2,
   "metadata": {},
   "outputs": [
    {
     "name": "stdout",
     "output_type": "stream",
     "text": [
      "Matriz:\n",
      " [[1 4 7 9]\n",
      " [4 1 5 2]\n",
      " [6 3 0 1]]\n",
      "Dimensión de la matriz: (3, 4)\n"
     ]
    }
   ],
   "source": [
    "# Definición de una matriz (de 3 x 4)\n",
    "M = np.array([[1, 4, 7, 9], \n",
    "              [4, 1, 5, 2], \n",
    "              [6, 3, 0, 1]])\n",
    "\n",
    "print(\"Matriz:\\n\", M)\n",
    "print(\"Dimensión de la matriz:\", M.shape)"
   ]
  },
  {
   "cell_type": "code",
   "execution_count": 3,
   "metadata": {},
   "outputs": [
    {
     "name": "stdout",
     "output_type": "stream",
     "text": [
      "Fila 0: [1 4 7 9]\n",
      "Columna 2: [7 5 0]\n"
     ]
    }
   ],
   "source": [
    "# Obtención de una fila o una columna (unidimensional)\n",
    "print(\"Fila 0:\", M[0,:])\n",
    "print(\"Columna 2:\", M[:, 2])"
   ]
  },
  {
   "cell_type": "code",
   "execution_count": 4,
   "metadata": {},
   "outputs": [
    {
     "name": "stdout",
     "output_type": "stream",
     "text": [
      "Fila 0:\n",
      " [[1 4 7 9]]\n",
      "Columna 2:\n",
      " [[7]\n",
      " [5]\n",
      " [0]]\n"
     ]
    }
   ],
   "source": [
    "# Obtención de una fila o columna (bidimensional, respetando si es fila o columna)\n",
    "print(\"Fila 0:\\n\", M[[0],:])\n",
    "print(\"Columna 2:\\n\", M[:, [2]])"
   ]
  },
  {
   "cell_type": "markdown",
   "metadata": {},
   "source": [
    "### Transpuesta de una matriz"
   ]
  },
  {
   "cell_type": "code",
   "execution_count": 5,
   "metadata": {},
   "outputs": [
    {
     "name": "stdout",
     "output_type": "stream",
     "text": [
      "Transpuesta:\n",
      " [[1 4 6]\n",
      " [4 1 3]\n",
      " [7 5 0]\n",
      " [9 2 1]]\n",
      "Dimensión de la transpuesta: (4, 3)\n"
     ]
    }
   ],
   "source": [
    "print(\"Transpuesta:\\n\", M.T)\n",
    "print(\"Dimensión de la transpuesta:\", M.T.shape)"
   ]
  },
  {
   "cell_type": "code",
   "execution_count": 6,
   "metadata": {},
   "outputs": [
    {
     "name": "stdout",
     "output_type": "stream",
     "text": [
      "Matriz A:\n",
      " [[1 4 7]\n",
      " [4 1 5]]\n",
      "Transpuesta de la transpuesta de A:\n",
      " [[1 4 7]\n",
      " [4 1 5]]\n"
     ]
    }
   ],
   "source": [
    "# Verificación de las propiedades:\n",
    "A = np.array([[1, 4, 7], \n",
    "              [4, 1, 5]])\n",
    "B = np.array([[10, 40, 70], \n",
    "              [40, 10, 50]])\n",
    "\n",
    "# Transpuesta de la transpuesta\n",
    "AT = A.T\n",
    "ATT = AT.T\n",
    "\n",
    "print(\"Matriz A:\\n\", A)\n",
    "print(\"Transpuesta de la transpuesta de A:\\n\", ATT)"
   ]
  },
  {
   "cell_type": "code",
   "execution_count": 7,
   "metadata": {},
   "outputs": [
    {
     "name": "stdout",
     "output_type": "stream",
     "text": [
      "(A + B)^T:\n",
      " [[11 44]\n",
      " [44 11]\n",
      " [77 55]]\n",
      "\n",
      "A^T + B^T:\n",
      " [[11 44]\n",
      " [44 11]\n",
      " [77 55]]\n"
     ]
    }
   ],
   "source": [
    "# Transpuesta de una suma\n",
    "print(\"(A + B)^T:\\n\", (A+B).T)\n",
    "print(\"\\nA^T + B^T:\\n\", A.T+B.T)"
   ]
  },
  {
   "cell_type": "code",
   "execution_count": 8,
   "metadata": {},
   "outputs": [
    {
     "name": "stdout",
     "output_type": "stream",
     "text": [
      "(AB)^T:\n",
      " [[660 430]\n",
      " [430 420]]\n",
      "\n",
      "B^T A^T:\n",
      " [[660 430]\n",
      " [430 420]]\n"
     ]
    }
   ],
   "source": [
    "# Transpuesta de un producto\n",
    "A1 = A\n",
    "B1 = B.T\n",
    "\n",
    "P1 = (np.dot(A1, B1)).T\n",
    "P2 = np.dot(B1.T, A1.T)\n",
    "\n",
    "print(\"(AB)^T:\\n\", P1)\n",
    "print(\"\\nB^T A^T:\\n\", P2)"
   ]
  },
  {
   "cell_type": "markdown",
   "metadata": {},
   "source": [
    "## 2.1 Tipos de Matrices"
   ]
  },
  {
   "cell_type": "code",
   "execution_count": 9,
   "metadata": {},
   "outputs": [
    {
     "name": "stdout",
     "output_type": "stream",
     "text": [
      "Matriz original:\n",
      " [[25. 23. 16. 33.]\n",
      " [54. 67. 68.  7.]\n",
      " [24. 18. 86.  3.]\n",
      " [17. 99. 51. 43.]]\n",
      "\n",
      "Matriz triangular superior:\n",
      " [[25. 23. 16. 33.]\n",
      " [ 0. 67. 68.  7.]\n",
      " [ 0.  0. 86.  3.]\n",
      " [ 0.  0.  0. 43.]]\n",
      "\n",
      "Matriz triangular inferior:\n",
      " [[25.  0.  0.  0.]\n",
      " [54. 67.  0.  0.]\n",
      " [24. 18. 86.  0.]\n",
      " [17. 99. 51. 43.]]\n"
     ]
    }
   ],
   "source": [
    "# Matriz triangular superior e inferior\n",
    "A = np.round( 100*np.random.random((4, 4)), 0)\n",
    "ATS = np.triu(A)\n",
    "ATI = np.tril(A)\n",
    "\n",
    "print(\"Matriz original:\\n\", A)\n",
    "print(\"\\nMatriz triangular superior:\\n\", ATS)\n",
    "print(\"\\nMatriz triangular inferior:\\n\", ATI)"
   ]
  },
  {
   "cell_type": "code",
   "execution_count": 10,
   "metadata": {},
   "outputs": [
    {
     "name": "stdout",
     "output_type": "stream",
     "text": [
      "Matriz diagonal:\n",
      " [[1 0 0 0]\n",
      " [0 5 0 0]\n",
      " [0 0 8 0]\n",
      " [0 0 0 2]]\n",
      "\n",
      "Elementos diagonales de la matriz: [1 5 8 2]\n"
     ]
    }
   ],
   "source": [
    "# Matriz diagonal\n",
    "Adiag = np.diag([1, 5, 8, 2])\n",
    "print(\"Matriz diagonal:\\n\", Adiag)\n",
    "\n",
    "# Elementos diagonales de una matriz\n",
    "print(\"\\nElementos diagonales de la matriz:\", np.diag(Adiag))"
   ]
  },
  {
   "cell_type": "code",
   "execution_count": 11,
   "metadata": {},
   "outputs": [
    {
     "name": "stdout",
     "output_type": "stream",
     "text": [
      "Matriz identidad de 5x5:\n",
      " [[1. 0. 0. 0. 0.]\n",
      " [0. 1. 0. 0. 0.]\n",
      " [0. 0. 1. 0. 0.]\n",
      " [0. 0. 0. 1. 0.]\n",
      " [0. 0. 0. 0. 1.]]\n"
     ]
    }
   ],
   "source": [
    "# Matriz identidad\n",
    "I = np.eye(5)\n",
    "print(\"Matriz identidad de 5x5:\\n\", I)"
   ]
  },
  {
   "cell_type": "code",
   "execution_count": 12,
   "metadata": {},
   "outputs": [
    {
     "name": "stdout",
     "output_type": "stream",
     "text": [
      "Matriz simétrica:\n",
      " [[112.  56.  99. 144.]\n",
      " [ 56.  86. 186. 160.]\n",
      " [ 99. 186.  80. 143.]\n",
      " [144. 160. 143.  26.]]\n"
     ]
    }
   ],
   "source": [
    "# Matriz simétrica\n",
    "A = np.round(100*np.random.random((4, 4)), 0)   # Matriz aleatoria\n",
    "As = A + A.T       # Matriz simétrica\n",
    "\n",
    "print(\"Matriz simétrica:\\n\", As)"
   ]
  },
  {
   "cell_type": "code",
   "execution_count": 13,
   "metadata": {},
   "outputs": [
    {
     "name": "stdout",
     "output_type": "stream",
     "text": [
      "Matriz antisimétrica:\n",
      " [[  0.  76.  58.  -9.]\n",
      " [-76.   0.  49. -28.]\n",
      " [-58. -49.   0. -30.]\n",
      " [  9.  28.  30.   0.]]\n",
      "Verificación: -A^T =\n",
      " [[ -0.  76.  58.  -9.]\n",
      " [-76.  -0.  49. -28.]\n",
      " [-58. -49.  -0. -30.]\n",
      " [  9.  28.  30.  -0.]]\n"
     ]
    }
   ],
   "source": [
    "# Matriz antisimétrica\n",
    "A = np.round(100*np.random.random((4, 4)), 0)   # Matriz aleatoria\n",
    "Aa = A - A.T       # Matriz antisimétrica\n",
    "\n",
    "print(\"Matriz antisimétrica:\\n\", Aa)\n",
    "print(\"Verificación: -A^T =\\n\", -Aa.T)"
   ]
  },
  {
   "cell_type": "code",
   "execution_count": 14,
   "metadata": {},
   "outputs": [
    {
     "name": "stdout",
     "output_type": "stream",
     "text": [
      "A A^T:\n",
      " [[ 1.  0. -0.]\n",
      " [ 0.  1. -0.]\n",
      " [-0. -0.  1.]]\n",
      "\n",
      "A^T A:\n",
      " [[ 1. -0.  0.]\n",
      " [-0.  1. -0.]\n",
      " [ 0. -0.  1.]]\n",
      "\n",
      "Transpuesta de A:\n",
      " [[-0.97435901 -0.20015248  0.10277893]\n",
      " [-0.0571155  -0.2218091  -0.97341591]\n",
      " [ 0.21762891 -0.95432683  0.20468989]]\n",
      "\n",
      "Inversa de A:\n",
      " [[-0.97435901 -0.20015248  0.10277893]\n",
      " [-0.0571155  -0.22180911 -0.97341592]\n",
      " [ 0.21762891 -0.95432684  0.20468989]]\n",
      "\n",
      "Determinante de A:\n",
      " 0.9999999935441564\n"
     ]
    }
   ],
   "source": [
    "# Matriz ortogonal\n",
    "\n",
    "# La siguiente matriz fue generada usando scipy:\n",
    "#    from scipy.stats import ortho_group\n",
    "#    m = ortho_group.rvs(dim=3)\n",
    "\n",
    "A = np.array([[-0.97435901, -0.0571155 ,  0.21762891],\n",
    "              [-0.20015248, -0.2218091 , -0.95432683],\n",
    "              [ 0.10277893, -0.97341591,  0.20468989]])\n",
    "\n",
    "# Verificación de ortogonalidad\n",
    "A1 = np.round( np.dot(A, A.T), 3 )\n",
    "A2 = np.round( np.dot(A.T, A), 3 )\n",
    "print(\"A A^T:\\n\", A1)\n",
    "print(\"\\nA^T A:\\n\", A2)\n",
    "\n",
    "# Verificación de la transpuesta y la inversa\n",
    "print(\"\\nTranspuesta de A:\\n\", A.T)\n",
    "print(\"\\nInversa de A:\\n\", np.linalg.inv(A))\n",
    "\n",
    "# Determinante de la matriz simétrica\n",
    "print(\"\\nDeterminante de A:\\n\", np.linalg.det(A))"
   ]
  },
  {
   "cell_type": "code",
   "execution_count": 15,
   "metadata": {},
   "outputs": [
    {
     "name": "stdout",
     "output_type": "stream",
     "text": [
      "Autovalores:\n",
      " [ 1.        +0.j         -0.99573911+0.09221509j -0.99573911-0.09221509j]\n",
      "Autovectores:\n",
      " [[-0.10350302+0.j         -0.70330901+0.j         -0.70330901-0.j        ]\n",
      " [ 0.62272881+0.j         -0.04582221-0.55136625j -0.04582221+0.55136625j]\n",
      " [-0.7755617 +0.j          0.05706805-0.44271352j  0.05706805+0.44271352j]]\n"
     ]
    }
   ],
   "source": [
    "# Autovalores de una matriz antisimétrica (válido solo si es de 3x3)\n",
    "L, V = np.linalg.eig(A)\n",
    "\n",
    "print(\"Autovalores:\\n\", L)    # Un autovalor es 1\n",
    "print(\"Autovectores:\\n\", V)   # El autovector con el autovalor 1 es el eje de giro"
   ]
  },
  {
   "cell_type": "code",
   "execution_count": 16,
   "metadata": {},
   "outputs": [
    {
     "name": "stdout",
     "output_type": "stream",
     "text": [
      "Matriz A:\n",
      " [[49. 60. 52.]\n",
      " [40. 31. 64.]\n",
      " [85. 85.  5.]]\n",
      "\n",
      "Matriz simétrica correspondiente:\n",
      " [[ 98. 100. 137.]\n",
      " [100.  62. 149.]\n",
      " [137. 149.  10.]]\n",
      "\n",
      "Matriz antisimétrica correspondiente:\n",
      " [[  0.  20. -33.]\n",
      " [-20.   0. -21.]\n",
      " [ 33.  21.   0.]]\n",
      "\n",
      "Matriz 0.5 Asim + 0.5 Aantisim:\n",
      " [[49. 60. 52.]\n",
      " [40. 31. 64.]\n",
      " [85. 85.  5.]]\n"
     ]
    }
   ],
   "source": [
    "# Descomposición de una matriz cuadrada en su parte simétrica y asimétrica\n",
    "\n",
    "A = np.round( 100*np.random.random((3,3)), 0)\n",
    "As = A + A.T   # Parte simétrica\n",
    "Aa = A - A.T   # Parte antisimétrica\n",
    "\n",
    "print(\"Matriz A:\\n\", A)\n",
    "print(\"\\nMatriz simétrica correspondiente:\\n\", As)\n",
    "print(\"\\nMatriz antisimétrica correspondiente:\\n\", Aa)\n",
    "print(\"\\nMatriz 0.5 Asim + 0.5 Aantisim:\\n\", 0.5*As + 0.5*Aa)"
   ]
  },
  {
   "cell_type": "markdown",
   "metadata": {},
   "source": [
    "## 2.2 Multiplicación de matrices"
   ]
  },
  {
   "cell_type": "markdown",
   "metadata": {},
   "source": [
    "### Producto Matriz Vector"
   ]
  },
  {
   "cell_type": "code",
   "execution_count": 17,
   "metadata": {},
   "outputs": [
    {
     "name": "stdout",
     "output_type": "stream",
     "text": [
      "Producto Ax (unidimensional): [19 23 27]\n",
      "Producto Ax (unidimensional): [19 23 27]\n"
     ]
    }
   ],
   "source": [
    "# Matriz bidimensional\n",
    "A = np.array([[1, 2, 4], \n",
    "              [6, 3, 1], \n",
    "              [4, 1, 9]])\n",
    "# Vector unidimensional\n",
    "x = np.array([1, 5, 2])\n",
    "\n",
    "# Notar que el resultado tiene 1 sola dimensión (es un vector unidimensional)\n",
    "P1 = A.dot(x)      # Forma 1\n",
    "P2 = np.dot(A, x)  # Forma 2\n",
    "\n",
    "print(\"Producto Ax (unidimensional):\", P1)\n",
    "print(\"Producto Ax (unidimensional):\", P2)"
   ]
  },
  {
   "cell_type": "code",
   "execution_count": 18,
   "metadata": {},
   "outputs": [
    {
     "name": "stdout",
     "output_type": "stream",
     "text": [
      "Producto Ax (bidimensional):\n",
      " [[19]\n",
      " [23]\n",
      " [27]]\n",
      "Producto Ax (bidimensional):\n",
      " [[19]\n",
      " [23]\n",
      " [27]]\n"
     ]
    }
   ],
   "source": [
    "# Vector bidimensional\n",
    "x = np.array([[1, 5, 2]]).T\n",
    "\n",
    "# Al multiplicar, ahora el resultado es un vector columna (bidimensional)\n",
    "P1 = A.dot(x)      # Forma 1\n",
    "P2 = np.dot(A, x)  # Forma 2\n",
    "\n",
    "print(\"Producto Ax (bidimensional):\\n\", P1)\n",
    "print(\"Producto Ax (bidimensional):\\n\", P2)"
   ]
  },
  {
   "cell_type": "code",
   "execution_count": 19,
   "metadata": {},
   "outputs": [
    {
     "name": "stdout",
     "output_type": "stream",
     "text": [
      "Producto:\n",
      " [[19]\n",
      " [23]\n",
      " [27]]\n"
     ]
    }
   ],
   "source": [
    "# Verificación del producto de filas de la matriz con el vector\n",
    "P3 = np.array([np.dot(A[0,:], x), \n",
    "              np.dot(A[1,:], x),\n",
    "              np.dot(A[2,:], x)])\n",
    "print(\"Producto:\\n\", P3)"
   ]
  },
  {
   "cell_type": "code",
   "execution_count": 20,
   "metadata": {},
   "outputs": [
    {
     "name": "stdout",
     "output_type": "stream",
     "text": [
      "Producto:\n",
      " [[19]\n",
      " [23]\n",
      " [27]]\n"
     ]
    }
   ],
   "source": [
    "# Verificación del producto usando suma de columnas\n",
    "P4 = np.dot(A[:,[0]], x[0,0]) + np.dot(A[:,[1]], x[1,0]) + np.dot(A[:,[2]], x[2,0])\n",
    "print(\"Producto:\\n\", P4)"
   ]
  },
  {
   "cell_type": "markdown",
   "metadata": {},
   "source": [
    "### Producto matriz-matriz"
   ]
  },
  {
   "cell_type": "code",
   "execution_count": 21,
   "metadata": {},
   "outputs": [
    {
     "name": "stdout",
     "output_type": "stream",
     "text": [
      "Producto AB:\n",
      " [[130  80  60]\n",
      " [240 210 270]\n",
      " [100 110 170]]\n",
      "Producto AB:\n",
      " [[130  80  60]\n",
      " [240 210 270]\n",
      " [100 110 170]]\n",
      "Producto AB:\n",
      " [[130  80  60]\n",
      " [240 210 270]\n",
      " [100 110 170]]\n"
     ]
    }
   ],
   "source": [
    "A = np.array([[1, 2], \n",
    "              [6, 3], \n",
    "              [4, 1]])\n",
    "B = np.array([[10, 20, 40], \n",
    "              [60, 30, 10]])\n",
    "\n",
    "P1 = np.dot(A, B)\n",
    "P2 = A.dot(B)\n",
    "P3 = A @ B   # válido a partir de Python 3 (no válido en Python 2)\n",
    "\n",
    "print(\"Producto AB:\\n\", P1)\n",
    "print(\"Producto AB:\\n\", P2)\n",
    "print(\"Producto AB:\\n\", P3)"
   ]
  },
  {
   "cell_type": "code",
   "execution_count": 22,
   "metadata": {},
   "outputs": [
    {
     "name": "stdout",
     "output_type": "stream",
     "text": [
      "Producto AB:\n",
      " [[130  80  60]\n",
      " [240 210 270]\n",
      " [100 110 170]]\n"
     ]
    }
   ],
   "source": [
    "# Alternativa 1:\n",
    "P3 = np.array([[np.dot(A[0,:], B[:,0]), np.dot(A[0,:], B[:,1]), np.dot(A[0,:], B[:,2])], \n",
    "               [np.dot(A[1,:], B[:,0]), np.dot(A[1,:], B[:,1]), np.dot(A[1,:], B[:,2])], \n",
    "               [np.dot(A[2,:], B[:,0]), np.dot(A[2,:], B[:,1]), np.dot(A[2,:], B[:,2])]])\n",
    "print(\"Producto AB:\\n\", P3)"
   ]
  },
  {
   "cell_type": "code",
   "execution_count": 23,
   "metadata": {},
   "outputs": [
    {
     "name": "stdout",
     "output_type": "stream",
     "text": [
      "Producto AB:\n",
      " [[130  80  60]\n",
      " [240 210 270]\n",
      " [100 110 170]]\n"
     ]
    }
   ],
   "source": [
    "# Alternativa 2:\n",
    "P4 = np.dot(A[:,[0]], B[[0],:]) + np.dot(A[:,[1]], B[[1],:])\n",
    "print(\"Producto AB:\\n\", P4)"
   ]
  },
  {
   "cell_type": "code",
   "execution_count": 24,
   "metadata": {},
   "outputs": [
    {
     "name": "stdout",
     "output_type": "stream",
     "text": [
      "Producto AB:\n",
      " [[130  80  60]\n",
      " [240 210 270]\n",
      " [100 110 170]]\n"
     ]
    }
   ],
   "source": [
    "# Alternativa 3\n",
    "P5 = np.hstack(( np.dot(A, B[:,[0]]), np.dot(A, B[:,[1]]), np.dot(A, B[:,[2]]) ))\n",
    "print(\"Producto AB:\\n\", P5)"
   ]
  },
  {
   "cell_type": "code",
   "execution_count": 25,
   "metadata": {},
   "outputs": [
    {
     "name": "stdout",
     "output_type": "stream",
     "text": [
      "Producto AB:\n",
      " [[130  80  60]\n",
      " [240 210 270]\n",
      " [100 110 170]]\n"
     ]
    }
   ],
   "source": [
    "# Alternativa 4\n",
    "P6 = np.vstack(( np.dot(A[[0],:], B), np.dot(A[[1],:], B), np.dot(A[[2],:], B) ))\n",
    "print(\"Producto AB:\\n\", P6)"
   ]
  },
  {
   "cell_type": "markdown",
   "metadata": {},
   "source": [
    "## 2.3 Matrices Antisimétricas"
   ]
  },
  {
   "cell_type": "code",
   "execution_count": 26,
   "metadata": {},
   "outputs": [
    {
     "name": "stdout",
     "output_type": "stream",
     "text": [
      "Producto cruz v1xv2: [ 50  10 -40]\n",
      "Producto cruz usando matriz antisimétrica: [ 50  10 -40]\n"
     ]
    }
   ],
   "source": [
    "# Función para generar una matriz antisimétrica de 3x3 a partir de un vector unidimensional de tamaño 3\n",
    "def skew(v):\n",
    "    return np.array([[0, -v[2], v[1]], [v[2], 0, -v[0]], [-v[1], v[0], 0]])\n",
    "\n",
    "v1 = np.array([1, 7, 3])\n",
    "v2 = np.array([6, 2, 8])\n",
    "\n",
    "# Producto cruz\n",
    "P1 = np.cross(v1, v2)\n",
    "P2 = np.dot(skew(v1), v2)\n",
    "\n",
    "print(\"Producto cruz v1xv2:\", P1)\n",
    "print(\"Producto cruz usando matriz antisimétrica:\", P2)"
   ]
  },
  {
   "cell_type": "markdown",
   "metadata": {},
   "source": [
    "## 2.4 Operaciones con matrices"
   ]
  },
  {
   "cell_type": "markdown",
   "metadata": {},
   "source": [
    "### Traza de una matriz"
   ]
  },
  {
   "cell_type": "code",
   "execution_count": 27,
   "metadata": {},
   "outputs": [
    {
     "name": "stdout",
     "output_type": "stream",
     "text": [
      "Matriz A:\n",
      " [[40. 43.  7.]\n",
      " [70. 17. 40.]\n",
      " [12. 60. 61.]]\n",
      "Traza de la matriz A: 118.0\n",
      "Traza de la matriz A: 118.0\n"
     ]
    }
   ],
   "source": [
    "A = np.round( 100*np.random.random((3,3)), 0)\n",
    "B = np.round( 100*np.random.random((3,3)), 0)\n",
    "\n",
    "# Traza\n",
    "Tr = np.trace(A)\n",
    "Tr2 = A[0,0] + A[1,1] + A[2,2]\n",
    "\n",
    "print(\"Matriz A:\\n\", A)\n",
    "print(\"Traza de la matriz A:\", Tr)\n",
    "print(\"Traza de la matriz A:\", Tr2)"
   ]
  },
  {
   "cell_type": "code",
   "execution_count": 28,
   "metadata": {},
   "outputs": [
    {
     "name": "stdout",
     "output_type": "stream",
     "text": [
      "Traza de la matriz A: 118.0\n",
      "Traza de la matriz A^T: 118.0\n"
     ]
    }
   ],
   "source": [
    "# Propiedades de la traza: transpuesta\n",
    "print(\"Traza de la matriz A:\", np.trace(A) )\n",
    "print(\"Traza de la matriz A^T:\", np.trace(A.T) )"
   ]
  },
  {
   "cell_type": "code",
   "execution_count": 29,
   "metadata": {},
   "outputs": [
    {
     "name": "stdout",
     "output_type": "stream",
     "text": [
      "Tr(A+B): 362.0\n",
      "Tr(A)+Tr(B): 362.0\n"
     ]
    }
   ],
   "source": [
    "S1 = np.trace(A+B)\n",
    "S2 = np.trace(A)+np.trace(B)\n",
    "print(\"Tr(A+B):\", S1 )\n",
    "print(\"Tr(A)+Tr(B):\", S2)"
   ]
  },
  {
   "cell_type": "code",
   "execution_count": 30,
   "metadata": {},
   "outputs": [
    {
     "name": "stdout",
     "output_type": "stream",
     "text": [
      "Tr(AB): 20264.0\n",
      "Tr(BA): 20264.0\n"
     ]
    }
   ],
   "source": [
    "TAB = np.trace( np.dot(A,B) )\n",
    "TBA = np.trace( np.dot(B,A) )\n",
    "print(\"Tr(AB):\", TAB )\n",
    "print(\"Tr(BA):\", TBA )"
   ]
  },
  {
   "cell_type": "code",
   "execution_count": 31,
   "metadata": {},
   "outputs": [
    {
     "name": "stdout",
     "output_type": "stream",
     "text": [
      "Tr(ABC): 4858.0\n",
      "Tr(CAB): 4858.0\n",
      "Tr(BCA): 4858.0\n"
     ]
    }
   ],
   "source": [
    "A = np.round( 10*np.random.random((3,3)), 0)\n",
    "B = np.round( 10*np.random.random((3,3)), 0)\n",
    "C = np.round( 10*np.random.random((3,3)), 0)\n",
    "\n",
    "ABC = A.dot(B).dot(C)\n",
    "CAB = C.dot(A).dot(B)\n",
    "BCA = B.dot(C).dot(A)\n",
    "\n",
    "print(\"Tr(ABC):\", np.trace(ABC))\n",
    "print(\"Tr(CAB):\", np.trace(CAB))\n",
    "print(\"Tr(BCA):\", np.trace(BCA))"
   ]
  },
  {
   "cell_type": "markdown",
   "metadata": {},
   "source": [
    "### Determinante de una matriz"
   ]
  },
  {
   "cell_type": "code",
   "execution_count": 32,
   "metadata": {},
   "outputs": [
    {
     "name": "stdout",
     "output_type": "stream",
     "text": [
      "Determinante de A: 77.78\n"
     ]
    }
   ],
   "source": [
    "# Matriz\n",
    "A = 10*np.random.random((3,3))\n",
    "# Determinante de la matriz\n",
    "det = np.linalg.det(A)\n",
    "\n",
    "print(\"Determinante de A: {:.2f}\".format(det))"
   ]
  },
  {
   "cell_type": "code",
   "execution_count": 33,
   "metadata": {},
   "outputs": [
    {
     "name": "stdout",
     "output_type": "stream",
     "text": [
      "det(A): 77.781\n",
      "det(A^T): 77.781\n"
     ]
    }
   ],
   "source": [
    "# Propiedades: determinante de la matriz y de su transpuesta\n",
    "DA = np.linalg.det(A)\n",
    "DAT = np.linalg.det(A.T)\n",
    "\n",
    "print(\"det(A): {:.3f}\".format(DA))\n",
    "print(\"det(A^T): {:.3f}\".format(DAT))"
   ]
  },
  {
   "cell_type": "code",
   "execution_count": 34,
   "metadata": {},
   "outputs": [
    {
     "name": "stdout",
     "output_type": "stream",
     "text": [
      "det(alfa*A): 3057.113\n",
      "alfa^n*det(A): 3057.113\n"
     ]
    }
   ],
   "source": [
    "# Propiedades: determinante de un escalar por una matriz\n",
    "alfa = 3.4\n",
    "D1 = np.linalg.det(alfa*A)\n",
    "\n",
    "n = A.shape[0]\n",
    "D2 = alfa**n*np.linalg.det(A)\n",
    "\n",
    "print(\"det(alfa*A): {:.3f}\".format(D1))\n",
    "print(\"alfa^n*det(A): {:.3f}\".format(D2))"
   ]
  },
  {
   "cell_type": "code",
   "execution_count": 35,
   "metadata": {},
   "outputs": [
    {
     "name": "stdout",
     "output_type": "stream",
     "text": [
      "det(AB): 14858.643\n",
      "det(A)det(B): 14858.643\n"
     ]
    }
   ],
   "source": [
    "# Propiedades: determinante de un producto\n",
    "A = 10*np.random.random((3,3))\n",
    "B = 10*np.random.random((3,3))\n",
    "\n",
    "D1 = np.linalg.det(np.dot(A, B))\n",
    "D2 = np.dot( np.linalg.det(A), np.linalg.det(B))\n",
    "\n",
    "print(\"det(AB): {:.3f}\".format(D1))\n",
    "print(\"det(A)det(B): {:.3f}\".format(D2))"
   ]
  },
  {
   "cell_type": "code",
   "execution_count": 36,
   "metadata": {},
   "outputs": [
    {
     "name": "stdout",
     "output_type": "stream",
     "text": [
      "det(A^-1): 0.011\n",
      "1/det(A): 0.011\n"
     ]
    }
   ],
   "source": [
    "# Inversa, si la matriz es invertible\n",
    "A = 10*np.random.random((3,3))\n",
    "\n",
    "D1 = np.linalg.det( np.linalg.inv(A) )\n",
    "D2 = 1/np.linalg.det(A)\n",
    "\n",
    "print(\"det(A^-1): {:.3f}\".format(D1))\n",
    "print(\"1/det(A): {:.3f}\".format(D2))"
   ]
  },
  {
   "cell_type": "code",
   "execution_count": 37,
   "metadata": {},
   "outputs": [
    {
     "name": "stdout",
     "output_type": "stream",
     "text": [
      "det(A): 3.524\n",
      "tr(A): 3.524\n"
     ]
    }
   ],
   "source": [
    "# Para matrices triangulares o diagonales\n",
    "Atriang = np.triu(A)\n",
    "\n",
    "D1 = np.linalg.det(Atriang)\n",
    "P1 = Atriang[0,0] * Atriang[1,1] * Atriang[2,2]\n",
    "\n",
    "print(\"det(A): {:.3f}\".format(D1))\n",
    "print(\"tr(A): {:.3f}\".format(P1))"
   ]
  },
  {
   "cell_type": "markdown",
   "metadata": {},
   "source": [
    "### Norma de una matriz"
   ]
  },
  {
   "cell_type": "code",
   "execution_count": 38,
   "metadata": {},
   "outputs": [
    {
     "name": "stdout",
     "output_type": "stream",
     "text": [
      "Norma de Frobenius de una matriz: 20.3894\n",
      "Norma de Frobenius de una matriz: 20.3894\n",
      "Norma de Frobenius de una matriz: 20.3894\n"
     ]
    }
   ],
   "source": [
    "A = 10*np.random.random((4,3))\n",
    "\n",
    "# Norma de Frobenius\n",
    "N1 = np.linalg.norm(A)\n",
    "N2 = np.sqrt(np.trace(np.dot(A.T, A)))\n",
    "N3 = np.sqrt( np.sum([A[i,j]**2 for i in range(A.shape[0]) for j in range(A.shape[1])]) )\n",
    "\n",
    "print(\"Norma de Frobenius de una matriz: {:.4f}\".format(N1))\n",
    "print(\"Norma de Frobenius de una matriz: {:.4f}\".format(N2))\n",
    "print(\"Norma de Frobenius de una matriz: {:.4f}\".format(N3))"
   ]
  },
  {
   "cell_type": "markdown",
   "metadata": {},
   "source": [
    "### Inversa de una matriz"
   ]
  },
  {
   "cell_type": "code",
   "execution_count": 39,
   "metadata": {},
   "outputs": [
    {
     "name": "stdout",
     "output_type": "stream",
     "text": [
      "Matriz A:\n",
      " [[1.29073994 3.10797232 5.05818285]\n",
      " [5.59613712 9.69700712 5.9249397 ]\n",
      " [4.42596604 1.0028383  2.43296823]]\n",
      "\n",
      "Inversa de la matriz A:\n",
      " [[-0.13927329  0.01963992  0.24172303]\n",
      " [-0.09948626  0.15186861 -0.16300772]\n",
      " [ 0.2943678  -0.09832651  0.03847665]]\n"
     ]
    }
   ],
   "source": [
    "# Inversa\n",
    "A = 10*np.random.random((3,3))\n",
    "Ainv = np.linalg.inv(A)\n",
    "\n",
    "print(\"Matriz A:\\n\", A)\n",
    "print(\"\\nInversa de la matriz A:\\n\", Ainv)"
   ]
  },
  {
   "cell_type": "code",
   "execution_count": 40,
   "metadata": {},
   "outputs": [
    {
     "name": "stdout",
     "output_type": "stream",
     "text": [
      "(A^T)^-1:\n",
      " [[-0.13927329 -0.09948626  0.2943678 ]\n",
      " [ 0.01963992  0.15186861 -0.09832651]\n",
      " [ 0.24172303 -0.16300772  0.03847665]]\n",
      "(A^-1)^T:\n",
      " [[-0.13927329 -0.09948626  0.2943678 ]\n",
      " [ 0.01963992  0.15186861 -0.09832651]\n",
      " [ 0.24172303 -0.16300772  0.03847665]]\n"
     ]
    }
   ],
   "source": [
    "# Propiedades : inversa y transpuesta\n",
    "AinvT = np.linalg.inv(A.T)\n",
    "ATinv = (np.linalg.inv(A)).T\n",
    "\n",
    "print(\"(A^T)^-1:\\n\", AinvT)\n",
    "print(\"(A^-1)^T:\\n\", ATinv)"
   ]
  },
  {
   "cell_type": "code",
   "execution_count": 41,
   "metadata": {},
   "outputs": [
    {
     "name": "stdout",
     "output_type": "stream",
     "text": [
      "(AB)^-1:\n",
      " [[ 0.14619486 -0.13813433  0.01317557]\n",
      " [-0.00758239  0.05809323 -0.09170505]\n",
      " [-0.0461858   0.00873854  0.07134335]]\n",
      "(B^-1)(A^-1):\n",
      " [[ 0.14619486 -0.13813433  0.01317557]\n",
      " [-0.00758239  0.05809323 -0.09170505]\n",
      " [-0.0461858   0.00873854  0.07134335]]\n"
     ]
    }
   ],
   "source": [
    "# Inversa de un producto\n",
    "A = 10*np.random.random((3,3))\n",
    "B = 10*np.random.random((3,3))\n",
    "\n",
    "I1 = np.linalg.inv(np.dot(A,B))\n",
    "I2 = np.dot(np.linalg.inv(B), np.linalg.inv(A))\n",
    "\n",
    "print(\"(AB)^-1:\\n\", I1)\n",
    "print(\"(B^-1)(A^-1):\\n\", I2)"
   ]
  },
  {
   "cell_type": "markdown",
   "metadata": {},
   "source": [
    "## 2.5 Rango de una matriz"
   ]
  },
  {
   "cell_type": "code",
   "execution_count": 42,
   "metadata": {},
   "outputs": [
    {
     "name": "stdout",
     "output_type": "stream",
     "text": [
      "El rango de la matriz es: 5\n"
     ]
    }
   ],
   "source": [
    "A = 10*np.random.random((5,5))\n",
    "\n",
    "# Rango:\n",
    "rang = np.linalg.matrix_rank(A)\n",
    "print(\"El rango de la matriz es:\", rang)"
   ]
  },
  {
   "cell_type": "code",
   "execution_count": 43,
   "metadata": {},
   "outputs": [
    {
     "name": "stdout",
     "output_type": "stream",
     "text": [
      "El rango de la matriz es: 4\n"
     ]
    }
   ],
   "source": [
    "A = 10*np.random.random((4,7))\n",
    "\n",
    "# El rango a lo más es el menor número de filas o columnas (4, en este ejemplo)\n",
    "rang = np.linalg.matrix_rank(A)\n",
    "print(\"El rango de la matriz es:\", rang)"
   ]
  },
  {
   "cell_type": "code",
   "execution_count": 44,
   "metadata": {},
   "outputs": [
    {
     "name": "stdout",
     "output_type": "stream",
     "text": [
      "El rango de la matriz A es: 4\n",
      "El rango de la matriz A^T es: 4\n"
     ]
    }
   ],
   "source": [
    "# Rango de la matriz transpuesta\n",
    "rA = np.linalg.matrix_rank(A)\n",
    "rAT = np.linalg.matrix_rank(A.T)\n",
    "\n",
    "print(\"El rango de la matriz A es:\", rA)\n",
    "print(\"El rango de la matriz A^T es:\", rAT)"
   ]
  },
  {
   "cell_type": "code",
   "execution_count": 45,
   "metadata": {},
   "outputs": [
    {
     "name": "stdout",
     "output_type": "stream",
     "text": [
      "El rango de A es: 4\n",
      "El rango de A^T A es: 4\n"
     ]
    }
   ],
   "source": [
    "# Rango de producto\n",
    "r1 = np.linalg.matrix_rank(A)\n",
    "r2 = np.linalg.matrix_rank(np.dot(A.T, A))\n",
    "\n",
    "print(\"El rango de A es:\", r1)\n",
    "print(\"El rango de A^T A es:\", r2)"
   ]
  }
 ],
 "metadata": {
  "kernelspec": {
   "display_name": "Python 3.9.12 ('base')",
   "language": "python",
   "name": "python3"
  },
  "language_info": {
   "codemirror_mode": {
    "name": "ipython",
    "version": 3
   },
   "file_extension": ".py",
   "mimetype": "text/x-python",
   "name": "python",
   "nbconvert_exporter": "python",
   "pygments_lexer": "ipython3",
   "version": "3.9.12"
  },
  "vscode": {
   "interpreter": {
    "hash": "470260c6919e9ff48e1a573ae64d2f776c76ca8b99100eba78f1a4e3574395cd"
   }
  }
 },
 "nbformat": 4,
 "nbformat_minor": 4
}
