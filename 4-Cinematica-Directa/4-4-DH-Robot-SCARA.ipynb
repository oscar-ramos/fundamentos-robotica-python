{
 "cells": [
  {
   "cell_type": "markdown",
   "metadata": {},
   "source": [
    "# Cinemática Directa usando Denavit-Hartenberg: Robot SCARA\n",
    "[![Open In Colab](https://colab.research.google.com/assets/colab-badge.svg)](https://colab.research.google.com/github/oscar-ramos/fundamentos-robotica-python/blob/main/4-Cinematica-Directa/4-4-DH-Robot-SCARA.ipynb)\n",
    "\n",
    "Oscar E. Ramos Ponce, Universidad de Ingeniería y Tecnología - UTEC\n",
    "\n",
    "Fundamentos de Robótica"
   ]
  },
  {
   "cell_type": "markdown",
   "metadata": {},
   "source": [
    "### 1.&nbsp;Cálculo Simbólico de la Cinemática Directa"
   ]
  },
  {
   "cell_type": "markdown",
   "metadata": {},
   "source": [
    "Se utilizará sympy para encontrar la matriz de transformación homogéneas de Denavit-Hartenberg (convención estándar)"
   ]
  },
  {
   "cell_type": "code",
   "execution_count": 1,
   "metadata": {},
   "outputs": [],
   "source": [
    "import sympy as sp                # Biblioteca para el cálculo simbólico\n",
    "\n",
    "def sTdh(d, th, a, alpha):\n",
    "    cth = sp.cos(th); sth = sp.sin(th)\n",
    "    ca = sp.cos(alpha); sa = sp.sin(alpha)\n",
    "    Tdh = sp.Matrix([[cth, -ca*sth,  sa*sth, a*cth],\n",
    "                     [sth,  ca*cth, -sa*cth, a*sth],\n",
    "                     [0,        sa,     ca,      d],\n",
    "                     [0,         0,      0,      1]])\n",
    "    return Tdh"
   ]
  },
  {
   "cell_type": "code",
   "execution_count": 2,
   "metadata": {},
   "outputs": [
    {
     "name": "stdout",
     "output_type": "stream",
     "text": [
      "T01:\n"
     ]
    },
    {
     "data": {
      "text/latex": [
       "$\\displaystyle \\left[\\begin{matrix}- \\cos{\\left(q_{1} \\right)} & \\sin{\\left(q_{1} \\right)} & 0 & - l_{2} \\cos{\\left(q_{1} \\right)}\\\\- \\sin{\\left(q_{1} \\right)} & - \\cos{\\left(q_{1} \\right)} & 0 & - l_{2} \\sin{\\left(q_{1} \\right)}\\\\0 & 0 & 1 & l_{1}\\\\0 & 0 & 0 & 1\\end{matrix}\\right]$"
      ],
      "text/plain": [
       "Matrix([\n",
       "[-cos(q1),  sin(q1), 0, -l2*cos(q1)],\n",
       "[-sin(q1), -cos(q1), 0, -l2*sin(q1)],\n",
       "[       0,        0, 1,          l1],\n",
       "[       0,        0, 0,           1]])"
      ]
     },
     "metadata": {},
     "output_type": "display_data"
    },
    {
     "name": "stdout",
     "output_type": "stream",
     "text": [
      "T12:\n"
     ]
    },
    {
     "data": {
      "text/latex": [
       "$\\displaystyle \\left[\\begin{matrix}\\sin{\\left(q_{2} \\right)} & \\cos{\\left(q_{2} \\right)} & 0 & l_{3} \\sin{\\left(q_{2} \\right)}\\\\- \\cos{\\left(q_{2} \\right)} & \\sin{\\left(q_{2} \\right)} & 0 & - l_{3} \\cos{\\left(q_{2} \\right)}\\\\0 & 0 & 1 & 0\\\\0 & 0 & 0 & 1\\end{matrix}\\right]$"
      ],
      "text/plain": [
       "Matrix([\n",
       "[ sin(q2), cos(q2), 0,  l3*sin(q2)],\n",
       "[-cos(q2), sin(q2), 0, -l3*cos(q2)],\n",
       "[       0,       0, 1,           0],\n",
       "[       0,       0, 0,           1]])"
      ]
     },
     "metadata": {},
     "output_type": "display_data"
    },
    {
     "name": "stdout",
     "output_type": "stream",
     "text": [
      "T23:\n"
     ]
    },
    {
     "data": {
      "text/latex": [
       "$\\displaystyle \\left[\\begin{matrix}1 & 0 & 0 & 0\\\\0 & 1 & 0 & 0\\\\0 & 0 & 1 & - l_{4} + q_{3}\\\\0 & 0 & 0 & 1\\end{matrix}\\right]$"
      ],
      "text/plain": [
       "Matrix([\n",
       "[1, 0, 0,        0],\n",
       "[0, 1, 0,        0],\n",
       "[0, 0, 1, -l4 + q3],\n",
       "[0, 0, 0,        1]])"
      ]
     },
     "metadata": {},
     "output_type": "display_data"
    },
    {
     "name": "stdout",
     "output_type": "stream",
     "text": [
      "T34:\n"
     ]
    },
    {
     "data": {
      "text/latex": [
       "$\\displaystyle \\left[\\begin{matrix}- \\sin{\\left(q_{4} \\right)} & \\cos{\\left(q_{4} \\right)} & 0 & 0\\\\\\cos{\\left(q_{4} \\right)} & \\sin{\\left(q_{4} \\right)} & 0 & 0\\\\0 & 0 & -1 & 0\\\\0 & 0 & 0 & 1\\end{matrix}\\right]$"
      ],
      "text/plain": [
       "Matrix([\n",
       "[-sin(q4), cos(q4),  0, 0],\n",
       "[ cos(q4), sin(q4),  0, 0],\n",
       "[       0,       0, -1, 0],\n",
       "[       0,       0,  0, 1]])"
      ]
     },
     "metadata": {},
     "output_type": "display_data"
    },
    {
     "name": "stdout",
     "output_type": "stream",
     "text": [
      "T04:\n"
     ]
    },
    {
     "data": {
      "text/latex": [
       "$\\displaystyle \\left[\\begin{matrix}- \\cos{\\left(q_{1} + q_{2} + q_{4} \\right)} & - \\sin{\\left(q_{1} + q_{2} + q_{4} \\right)} & 0 & - l_{2} \\cos{\\left(q_{1} \\right)} - l_{3} \\sin{\\left(q_{1} + q_{2} \\right)}\\\\- \\sin{\\left(q_{1} + q_{2} + q_{4} \\right)} & \\cos{\\left(q_{1} + q_{2} + q_{4} \\right)} & 0 & - l_{2} \\sin{\\left(q_{1} \\right)} + l_{3} \\cos{\\left(q_{1} + q_{2} \\right)}\\\\0 & 0 & -1 & l_{1} - l_{4} + q_{3}\\\\0 & 0 & 0 & 1\\end{matrix}\\right]$"
      ],
      "text/plain": [
       "Matrix([\n",
       "[-cos(q1 + q2 + q4), -sin(q1 + q2 + q4),  0, -l2*cos(q1) - l3*sin(q1 + q2)],\n",
       "[-sin(q1 + q2 + q4),  cos(q1 + q2 + q4),  0, -l2*sin(q1) + l3*cos(q1 + q2)],\n",
       "[                 0,                  0, -1,                  l1 - l4 + q3],\n",
       "[                 0,                  0,  0,                             1]])"
      ]
     },
     "metadata": {},
     "output_type": "display_data"
    }
   ],
   "source": [
    "# Variables simbólicas\n",
    "q1, q2, q3, q4 = sp.symbols(\"q1 q2 q3 q4\")\n",
    "l1, l2, l3, l4 = sp.symbols(\"l1 l2 l3 l4\")\n",
    "\n",
    "# Transformaciones homogéneas\n",
    "T01 = sTdh(    l1,    sp.pi+q1, l2,     0)\n",
    "T12 = sTdh(     0, -sp.pi/2+q2, l3,     0)\n",
    "T23 = sTdh(-l4+q3,           0,  0,     0)\n",
    "T34 = sTdh(     0,  sp.pi/2+q4,  0, sp.pi)\n",
    "\n",
    "# Transformación homogénea final\n",
    "Tf = sp.simplify(T01*T12*T23*T34)\n",
    "\n",
    "# Mostrar las transformaciones homogéneas (display funciona con IPython)\n",
    "print(\"T01:\"); display(T01)\n",
    "print(\"T12:\"); display(T12)\n",
    "print(\"T23:\"); display(T23)\n",
    "print(\"T34:\"); display(T34)\n",
    "print(\"T04:\"); display(Tf)"
   ]
  },
  {
   "cell_type": "code",
   "execution_count": 3,
   "metadata": {},
   "outputs": [
    {
     "name": "stdout",
     "output_type": "stream",
     "text": [
      "T04 cuando q=(0,0,0,0):\n"
     ]
    },
    {
     "data": {
      "text/latex": [
       "$\\displaystyle \\left[\\begin{matrix}-1 & 0 & 0 & - l_{2}\\\\0 & 1 & 0 & l_{3}\\\\0 & 0 & -1 & l_{1} - l_{4}\\\\0 & 0 & 0 & 1\\end{matrix}\\right]$"
      ],
      "text/plain": [
       "Matrix([\n",
       "[-1, 0,  0,     -l2],\n",
       "[ 0, 1,  0,      l3],\n",
       "[ 0, 0, -1, l1 - l4],\n",
       "[ 0, 0,  0,       1]])"
      ]
     },
     "execution_count": 3,
     "metadata": {},
     "output_type": "execute_result"
    }
   ],
   "source": [
    "# Valor cuando todos los ángulos son cero\n",
    "print(\"T04 cuando q=(0,0,0,0):\")\n",
    "Tf.subs([ (q1,0), (q2,0), (q3,0), (q4,0)])"
   ]
  },
  {
   "cell_type": "markdown",
   "metadata": {},
   "source": [
    "### 2.&nbsp;Cálculo Numérico de la Cinemática Directa\n",
    "\n",
    "En este caso se utilizará numpy para el manejo de matrices y vectores"
   ]
  },
  {
   "cell_type": "code",
   "execution_count": 4,
   "metadata": {},
   "outputs": [],
   "source": [
    "import numpy as np\n",
    "\n",
    "def Tdh(d, th, a, alpha):\n",
    "    cth = np.cos(th);    sth = np.sin(th)\n",
    "    ca = np.cos(alpha);  sa = np.sin(alpha)\n",
    "    Tdh = np.array([[cth, -ca*sth,  sa*sth, a*cth],\n",
    "                    [sth,  ca*cth, -sa*cth, a*sth],\n",
    "                    [0,        sa,     ca,      d],\n",
    "                    [0,         0,      0,      1]])\n",
    "    return Tdh"
   ]
  },
  {
   "cell_type": "code",
   "execution_count": 5,
   "metadata": {},
   "outputs": [],
   "source": [
    "# Cinemática directa del robot\n",
    "def cdirecta_scara(q, l1, l2, l3, l4):\n",
    "    \"\"\" Retorna los sistemas de referencia de cada eslabón con respecto a la base\n",
    "    \"\"\"\n",
    "    # Transformaciones homogéneas de DH\n",
    "    T01 = Tdh(       l1,    np.pi+q[0], l2,     0)\n",
    "    T12 = Tdh(        0, -np.pi/2+q[1], l3,     0)\n",
    "    T23 = Tdh( -l4+q[2],             0,  0,     0)\n",
    "    T34 = Tdh(        0,  np.pi/2+q[3],  0, np.pi)\n",
    "    # Efector final con respecto a la base\n",
    "    Tf = T01 @ T12 @ T23 @ T34\n",
    "    return Tf"
   ]
  },
  {
   "cell_type": "code",
   "execution_count": 6,
   "metadata": {},
   "outputs": [
    {
     "name": "stdout",
     "output_type": "stream",
     "text": [
      "Efector final con respecto a la base cuando q1=0.0, q2=0.0, q3=0, q4=0.0\n",
      "[[-1.   0.   0.  -1. ]\n",
      " [ 0.   1.   0.   1. ]\n",
      " [ 0.   0.  -1.   0.5]\n",
      " [ 0.   0.   0.   1. ]]\n"
     ]
    }
   ],
   "source": [
    "# Ejemplo de cálculo de la cinemática directa\n",
    "l1 = 1.0                               # Longitud eslabón 1\n",
    "l2 = 1.0                               # Longitud eslabón 2\n",
    "l3 = 1.0                               # Longitud eslabón 3 \n",
    "l4 = 0.5\n",
    "q = [np.deg2rad(0), np.deg2rad(0), 0, np.deg2rad(0)]    # Valores articulares\n",
    "\n",
    "# Cinemática directa\n",
    "Te = cdirecta_scara(q, l1, l2, l3, l4)   # Cinemática directa\n",
    "\n",
    "# Mostrar el resultado\n",
    "print(\"Efector final con respecto a la base cuando q1={}, q2={}, q3={}, q4={}\".format(np.rad2deg(q[0]), np.rad2deg(q[1]), \n",
    "                                                                                      q[2], np.rad2deg(q[3])))\n",
    "print(np.round(Te,4))"
   ]
  },
  {
   "cell_type": "markdown",
   "metadata": {},
   "source": [
    "### 3. Gráfico del Robot SCARA\n",
    "\n",
    "Se utilizará una clase llamada `SerialRobot`, donde se definirá el robot utilizando los parámetros de Denavit-Hartenberg calculados. Usando esta clase se graficará el robot. Internamente, esta clase usa matplotlib para realizar el gráfico."
   ]
  },
  {
   "cell_type": "code",
   "execution_count": null,
   "metadata": {},
   "outputs": [],
   "source": [
    "# En Google Colab descomentar la siguiente línea y ejecutarla\n",
    "#!wget https://raw.githubusercontent.com/oscar-ramos/fundamentos-robotica-python/main/4-Cinematica-Directa/serialrobot.py"
   ]
  },
  {
   "cell_type": "code",
   "execution_count": 1,
   "metadata": {},
   "outputs": [
    {
     "name": "stdout",
     "output_type": "stream",
     "text": [
      "[[-1.   0.   0.  -1. ]\n",
      " [ 0.   1.   0.   1. ]\n",
      " [ 0.   0.  -1.   0.5]\n",
      " [ 0.   0.   0.   1. ]]\n"
     ]
    }
   ],
   "source": [
    "from serialrobot import *\n",
    "\n",
    "# Longitudes\n",
    "l1 = 1.0; l2 = 1.0; l3 = 1.0; l4 = 0.5\n",
    "\n",
    "# Parámetros de Denavit-Hartenberg para cada articulación\n",
    "# Orden de los parámetros: d, th, a, alpha. Articulaciones: 'r' (revolución), 'p' (prismática)\n",
    "L = [[ l1,    np.pi, l2,     0, 'r'],\n",
    "     [  0, -np.pi/2, l3,     0, 'r'],\n",
    "     [-l4,        0,  0,     0, 'p'],\n",
    "     [  0,  np.pi/2,  0, np.pi, 'r']]\n",
    "\n",
    "scara = SerialRobot(L, name='scara')\n",
    "T = scara.fkine([0,0,0,0], verbose=False)\n",
    "print(np.round(T,3))"
   ]
  },
  {
   "cell_type": "markdown",
   "metadata": {},
   "source": [
    "Si se utiliza Google Colab, descomentar la siguiente línea. Luego reiniciar el entorno (\"restart runtime\") y ejecutar desde el inicio de la sección 3."
   ]
  },
  {
   "cell_type": "code",
   "execution_count": null,
   "metadata": {},
   "outputs": [],
   "source": [
    "# !pip install ipympl --quiet"
   ]
  },
  {
   "cell_type": "code",
   "execution_count": null,
   "metadata": {},
   "outputs": [],
   "source": [
    "## Descomentar solo si se utiliza Google Colab\n",
    "# from google.colab import output\n",
    "# output.enable_custom_widget_manager()"
   ]
  },
  {
   "cell_type": "code",
   "execution_count": 2,
   "metadata": {},
   "outputs": [],
   "source": [
    "%matplotlib widget"
   ]
  },
  {
   "cell_type": "code",
   "execution_count": 4,
   "metadata": {},
   "outputs": [],
   "source": [
    "fig = plt.figure(figsize=(8,8))\n",
    "ax = fig.add_subplot(111, projection=\"3d\")\n",
    "alims = [[-2,2],[-2,2],[-0.2, 1.3]]    # Límites\n",
    "\n",
    "scara.plot(ax, [0, 0, 0, 0], axlimits=alims, radius=0.1, color='r')"
   ]
  },
  {
   "cell_type": "markdown",
   "metadata": {},
   "source": [
    "### 4.&nbsp;Animación del robot SCARA en Modo Local"
   ]
  },
  {
   "cell_type": "markdown",
   "metadata": {},
   "source": [
    "Si se ha ejecutado la sección 3, donde se escoge el toolkit `widget` (usando '%matplotlib widget'), se debe primero reiniciar el entorno, ya que de otro modo no se podrá cambiar al toolkit `qt` necesario para la animación."
   ]
  },
  {
   "cell_type": "code",
   "execution_count": 1,
   "metadata": {},
   "outputs": [],
   "source": [
    "from serialrobot import *\n",
    "\n",
    "# Longitudes\n",
    "l1 = 1.0; l2 = 1.0; l3 = 1.0; l4 = 0.5\n",
    "\n",
    "# Parámetros de Denavit-Hartenberg para cada articulación\n",
    "# Orden de los parámetros: d, th, a, alpha. Articulaciones: 'r' (revolución), 'p' (prismática)\n",
    "L = [[ l1,    np.pi, l2,     0, 'r'],\n",
    "     [  0, -np.pi/2, l3,     0, 'r'],\n",
    "     [-l4,        0,  0,     0, 'p'],\n",
    "     [  0,  np.pi/2,  0, np.pi, 'r']]\n",
    "\n",
    "# Creación del robot SCARA\n",
    "scara = SerialRobot(L, name='scara')"
   ]
  },
  {
   "cell_type": "code",
   "execution_count": 2,
   "metadata": {},
   "outputs": [],
   "source": [
    "# \"qt\" realiza el gráfico en una ventana nueva\n",
    "%matplotlib qt"
   ]
  },
  {
   "cell_type": "code",
   "execution_count": 3,
   "metadata": {},
   "outputs": [],
   "source": [
    "fig = plt.figure()\n",
    "ax = fig.add_subplot(111, projection=\"3d\")\n",
    "alims = [[-2,2],[-2,2],[-0.2, 1.3]]    # Límites\n",
    "\n",
    "# Se abrirá una nueva ventana donde se visualizará el robot\n",
    "for i in range(40):\n",
    "    q = [np.deg2rad(i), np.deg2rad(0.5*i), 0.001*i, np.deg2rad(0.5*i)]    # En grados\n",
    "    scara.plot(ax, q, axlimits=alims, radius=0.1, color='r')\n",
    "    plt.pause(0.01)   "
   ]
  },
  {
   "cell_type": "markdown",
   "metadata": {},
   "source": [
    "### 5.&nbsp;Animación del robot SCARA en Google Colab"
   ]
  },
  {
   "cell_type": "markdown",
   "metadata": {},
   "source": [
    "En Google Colab descomentar y ejecutar la siguiente línea para instalar el paquete `celluloid`."
   ]
  },
  {
   "cell_type": "code",
   "execution_count": 7,
   "metadata": {},
   "outputs": [],
   "source": [
    "#!pip install celluloid --quiet"
   ]
  },
  {
   "cell_type": "code",
   "execution_count": null,
   "metadata": {},
   "outputs": [],
   "source": [
    "from IPython.display import HTML\n",
    "from celluloid import Camera"
   ]
  },
  {
   "cell_type": "code",
   "execution_count": null,
   "metadata": {},
   "outputs": [],
   "source": [
    "from serialrobot import *\n",
    "\n",
    "# Longitudes\n",
    "l1 = 1.0; l2 = 1.0; l3 = 1.0; l4 = 0.5\n",
    "\n",
    "# Parámetros de Denavit-Hartenberg para cada articulación\n",
    "# Orden de los parámetros: d, th, a, alpha. Articulaciones: 'r' (revolución), 'p' (prismática)\n",
    "L = [[ l1,    np.pi, l2,     0, 'r'],\n",
    "     [  0, -np.pi/2, l3,     0, 'r'],\n",
    "     [-l4,        0,  0,     0, 'p'],\n",
    "     [  0,  np.pi/2,  0, np.pi, 'r']]\n",
    "\n",
    "# Creación del robot SCARA\n",
    "scara = SerialRobot(L, name='scara')"
   ]
  },
  {
   "cell_type": "code",
   "execution_count": null,
   "metadata": {},
   "outputs": [],
   "source": [
    "#ax = plt.axes(projection='3d')\n",
    "#fig = ax.figure\n",
    "fig = plt.figure()\n",
    "ax = fig.add_subplot(111, projection=\"3d\")\n",
    "alims = [[-2,2],[-2,2],[-0.2, 1.3]]    # Límites\n",
    "\n",
    "camera = Camera(fig)\n",
    "\n",
    "for i in range(40):\n",
    "    q = [np.deg2rad(i), np.deg2rad(0.5*i), 0.001*i, np.deg2rad(0.5*i)]    # En grados\n",
    "    scara.plot(ax, q, axlimits=alims, radius=0.1, color='r')\n",
    "    camera.snap()\n",
    "\n",
    "plt.close()"
   ]
  },
  {
   "cell_type": "code",
   "execution_count": null,
   "metadata": {},
   "outputs": [],
   "source": [
    "# Crear la animación\n",
    "anim = camera.animate(interval = 40, repeat = True, repeat_delay = 500)\n",
    "\n",
    "# Mostrar el resultado\n",
    "HTML(anim.to_html5_video())"
   ]
  }
 ],
 "metadata": {
  "kernelspec": {
   "display_name": "Python 3.9.12 ('base')",
   "language": "python",
   "name": "python3"
  },
  "language_info": {
   "codemirror_mode": {
    "name": "ipython",
    "version": 3
   },
   "file_extension": ".py",
   "mimetype": "text/x-python",
   "name": "python",
   "nbconvert_exporter": "python",
   "pygments_lexer": "ipython3",
   "version": "3.9.12"
  },
  "vscode": {
   "interpreter": {
    "hash": "470260c6919e9ff48e1a573ae64d2f776c76ca8b99100eba78f1a4e3574395cd"
   }
  }
 },
 "nbformat": 4,
 "nbformat_minor": 2
}
