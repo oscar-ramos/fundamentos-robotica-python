{
 "cells": [
  {
   "cell_type": "markdown",
   "metadata": {},
   "source": [
    "# Animación del Robot SCARA (usando análisis geométrico para la cinemática directa)\n",
    "[![Open In Colab](https://colab.research.google.com/assets/colab-badge.svg)](https://colab.research.google.com/github/oscar-ramos/fundamentos-robotica-python/blob/main/4-Cinematica-Directa/4-3-Metodo-Geometrico-RobotScara-Anim.ipynb)\n",
    "\n",
    "Oscar E. Ramos Ponce, Universidad de Ingeniería y Tecnología - UTEC\n",
    "\n",
    "Fundamentos de Robótica"
   ]
  },
  {
   "cell_type": "markdown",
   "metadata": {},
   "source": [
    "### 1.&nbsp;Funciones preliminares"
   ]
  },
  {
   "cell_type": "markdown",
   "metadata": {},
   "source": [
    "Se utilizará funciones de rotación y traslación definidas en `kinefunctions.py`. \n",
    "\n",
    "Si se trabaja en Google Colab, es necesario descargar el archivo `kinefunctions.py` a la máquina virtual con la que se está trabajando, lo que se realiza con la siguiente línea (wget):"
   ]
  },
  {
   "cell_type": "code",
   "execution_count": null,
   "metadata": {},
   "outputs": [],
   "source": [
    "if 'google.colab' in str(get_ipython()):\n",
    "    !wget https://raw.githubusercontent.com/oscar-ramos/fundamentos-robotica-python/main/4-Cinematica-Directa/kinefunctions.py"
   ]
  },
  {
   "cell_type": "code",
   "execution_count": 10,
   "metadata": {},
   "outputs": [],
   "source": [
    "import numpy as np\n",
    "import matplotlib.pyplot as plt\n",
    "from mpl_toolkits.mplot3d import Axes3D\n",
    "\n",
    "from kinefunctions import Trotx, Troty, Trotz, Trasl\n"
   ]
  },
  {
   "cell_type": "code",
   "execution_count": 11,
   "metadata": {},
   "outputs": [],
   "source": [
    "# Cinemática directa del robot\n",
    "def cdirecta_scara(q, l1, l2, l3, l4):\n",
    "    \"\"\" Retorna los sistemas de referencia de cada eslabón con respecto a la base\n",
    "    \"\"\"\n",
    "    # Sistemas con respecto al sistema anterior\n",
    "    T01 = Trasl(0.,0.,l1) @ Trotz(np.pi+q[0])\n",
    "    T12 = Trasl(l2,0.,0.) @ Trotz(-np.pi/2+q[1])\n",
    "    T23 = Trasl(l3,0.,0.)\n",
    "    T34 = Trasl(0.,0.,-l4+q[2]) @ Trotz(np.pi/2+q[3])\n",
    "    T4e = Trotx(np.pi)\n",
    "\n",
    "    # Sistemas con respecto a la base\n",
    "    T02 = T01 @ T12\n",
    "    T03 = T02 @ T23\n",
    "    T04 = T03 @ T34\n",
    "    T0e = T04 @ T4e\n",
    "    return T0e, (T01, T02, T03, T04)"
   ]
  },
  {
   "cell_type": "code",
   "execution_count": 12,
   "metadata": {},
   "outputs": [],
   "source": [
    "# Gráfico del robot\n",
    "def graph_scara(q, l1, l2, l3, l4, ax=None, k=0.4):\n",
    "    \"\"\" Grafica el robot según la configuración articular. Las entradas son los valores articulares, \n",
    "    las longitudes de los eslabones y un factor para el tamaño con que se muetra los sistemas de referencia\n",
    "    \"\"\"\n",
    "    # Cálculo de la cinemática directa\n",
    "    Te, T = cdirecta_scara(q, l1, l2, l3, l4)\n",
    "    # Borrar el gráfico\n",
    "    if (ax==None):\n",
    "        plt.clf()\n",
    "        ax = plt.axes(projection='3d')\n",
    "    # Nombres para los ejes\n",
    "    ax.set_xlabel('x'); ax.set_ylabel('y'); ax.set_zlabel('z')\n",
    "    # Transformaciones homogéneas con respecto a la base (ej. T2 es {2} con respecto a {0})\n",
    "    T1 = T[0]; T2 = T[1]; T3 = T[2]; T4 = T[3]\n",
    "    # Cuerpo del robot\n",
    "    ax.plot([0, T1[0,3]], [0, T1[1,3]], [0, T1[2,3]], linewidth=3, color='k')\n",
    "    ax.plot([T1[0,3], T2[0,3]], [T1[1,3], T2[1,3]], [T1[2,3], T2[2,3]], linewidth=3, color='k')\n",
    "    ax.plot([T2[0,3], T3[0,3]], [T2[1,3], T3[1,3]], [T2[2,3], T3[2,3]], linewidth=3, color='k')\n",
    "    ax.plot([T3[0,3], T4[0,3]], [T3[1,3], T4[1,3]], [T3[2,3], T4[2,3]], linewidth=3, color='k')\n",
    "    # Puntos en las articulaciones\n",
    "    ax.scatter(0, 0, 0, color='g', s=50)\n",
    "    # \"Cilindros\" para representar la dirección de las articulaciones\n",
    "    ax.plot([T1[0,3], T1[0,3]], [T1[1,3], T1[1,3]], [T1[2,3]-0.1, T1[2,3]+0.1], linewidth=10, color='g')\n",
    "    ax.plot([T2[0,3], T2[0,3]], [T2[1,3], T2[1,3]], [T2[2,3]-0.1, T2[2,3]+0.1], linewidth=10, color='g')\n",
    "    ax.plot([T3[0,3], T3[0,3]], [T3[1,3], T3[1,3]], [T3[2,3]-0.1, T3[2,3]+0.1], linewidth=10, color='g') \n",
    "    ax.plot([T4[0,3], T4[0,3]], [T4[1,3], T4[1,3]], [T4[2,3]-0.05, T4[2,3]+0.05], linewidth=10, color='g')    \n",
    "    # Efector final (definido por 4 puntos)\n",
    "    p1 = np.array([0, 0.1, 0, 1]); p2 = np.array([0, 0.1, 0.2, 1])\n",
    "    p3 = np.array([0, -0.1, 0, 1]); p4 = np.array([0, -0.1, 0.2, 1])\n",
    "    p1 = Te.dot(p1); p2 = Te.dot(p2); p3 = Te.dot(p3); p4 = Te.dot(p4)\n",
    "    # Sistema de referencia del efector final (con respecto al sistema 0)\n",
    "    ax.plot([Te[0,3],Te[0,3]+k*Te[0,0]], [Te[1,3],Te[1,3]+k*Te[1,0]], [Te[2,3],Te[2,3]+k*Te[2,0]], color='r')\n",
    "    ax.plot([Te[0,3],Te[0,3]+k*Te[0,1]], [Te[1,3],Te[1,3]+k*Te[1,1]], [Te[2,3],Te[2,3]+k*Te[2,1]], color='g')\n",
    "    ax.plot([Te[0,3],Te[0,3]+k*Te[0,2]], [Te[1,3],Te[1,3]+k*Te[1,2]], [Te[2,3],Te[2,3]+k*Te[2,2]], color='b')\n",
    "    # Sistema de referencia de la base (0)\n",
    "    ax.plot([0,k], [0,0], [0,0], color='r')\n",
    "    ax.plot([0,0], [0,k], [0,0], color='g')\n",
    "    ax.plot([0,0], [0,0], [0,k], color='b')\n",
    "    # Gráfico del efector final\n",
    "    ax.plot([p1[0],p2[0]], [p1[1],p2[1]], [p1[2],p2[2]], color='b', linewidth=3)\n",
    "    ax.plot([p3[0],p4[0]], [p3[1],p4[1]], [p3[2],p4[2]], color='b', linewidth=3)\n",
    "    ax.plot([p1[0],p3[0]], [p1[1],p3[1]], [p1[2],p3[2]], color='b', linewidth=3)\n",
    "    # Punto de vista\n",
    "    ax.view_init(elev=25, azim=45)\n",
    "    # Límites para los ejes\n",
    "    ax.set_xlim3d(-2, 2)\n",
    "    ax.set_ylim3d(-2, 2)\n",
    "    ax.set_zlim3d(0,1.2)"
   ]
  },
  {
   "cell_type": "markdown",
   "metadata": {},
   "source": [
    "### 2.&nbsp;Animación en Modo Local"
   ]
  },
  {
   "cell_type": "markdown",
   "metadata": {},
   "source": [
    "Se realizará la animación de varias configuraciones articulares, lo cual simula el movimiento del robot.\n",
    "\n",
    "Nota: la siguiente línea (qt) no funcionará en Google Colab. Para Colab ejecutar la sección 3."
   ]
  },
  {
   "cell_type": "code",
   "execution_count": 13,
   "metadata": {},
   "outputs": [],
   "source": [
    "# \"qt\" realiza el gráfico en una ventana nueva\n",
    "%matplotlib qt"
   ]
  },
  {
   "cell_type": "code",
   "execution_count": 15,
   "metadata": {},
   "outputs": [],
   "source": [
    "l1 = 1.0; l2 = 1.0; l3 = 1.0; l4 = 0.5\n",
    "\n",
    "# Se abrirá una nueva ventana donde se visualizará el robot\n",
    "for i in range(60):\n",
    "    q = [np.deg2rad(i), np.deg2rad(0.5*i), 0.005*i, np.deg2rad(0.5*i)]    # En grados\n",
    "    graph_scara(q, l1, l2, l3, l4)\n",
    "\n",
    "    plt.pause(0.005)   "
   ]
  },
  {
   "cell_type": "markdown",
   "metadata": {},
   "source": [
    "### 3.&nbsp;Animación en Google Colab"
   ]
  },
  {
   "cell_type": "markdown",
   "metadata": {},
   "source": [
    "En Google Colab ejecutar la siguiente línea para instalar el paquete `celluloid`."
   ]
  },
  {
   "cell_type": "code",
   "execution_count": 9,
   "metadata": {},
   "outputs": [],
   "source": [
    "if 'google.colab' in str(get_ipython()):\n",
    "    !pip install celluloid --quiet"
   ]
  },
  {
   "cell_type": "code",
   "execution_count": null,
   "metadata": {},
   "outputs": [],
   "source": [
    "from IPython.display import HTML\n",
    "from celluloid import Camera"
   ]
  },
  {
   "cell_type": "code",
   "execution_count": null,
   "metadata": {},
   "outputs": [],
   "source": [
    "ax = plt.axes(projection='3d')\n",
    "fig = ax.figure\n",
    "\n",
    "camera = Camera(fig)\n",
    "\n",
    "# Longitudes del robot\n",
    "l1 = 1.0; l2 = 1.0; l3 = 1.0; l4 = 0.5\n",
    "# Bucle de simulación\n",
    "for i in range(60):\n",
    "    q = [np.deg2rad(i), np.deg2rad(0.5*i), 0.005*i, np.deg2rad(0.5*i)]    # En grados\n",
    "    graph_scara(q, l1, l2, l3, l4, ax)\n",
    "    camera.snap()\n",
    "\n",
    "plt.close()"
   ]
  },
  {
   "cell_type": "code",
   "execution_count": null,
   "metadata": {},
   "outputs": [],
   "source": [
    "# Crear la animación\n",
    "anim = camera.animate(interval = 40, repeat = True, repeat_delay = 500)\n",
    "\n",
    "# Mostrar el resultado\n",
    "HTML(anim.to_html5_video())"
   ]
  }
 ],
 "metadata": {
  "kernelspec": {
   "display_name": "Python 3.9.12 ('base')",
   "language": "python",
   "name": "python3"
  },
  "language_info": {
   "codemirror_mode": {
    "name": "ipython",
    "version": 3
   },
   "file_extension": ".py",
   "mimetype": "text/x-python",
   "name": "python",
   "nbconvert_exporter": "python",
   "pygments_lexer": "ipython3",
   "version": "3.9.12"
  },
  "vscode": {
   "interpreter": {
    "hash": "470260c6919e9ff48e1a573ae64d2f776c76ca8b99100eba78f1a4e3574395cd"
   }
  }
 },
 "nbformat": 4,
 "nbformat_minor": 2
}
