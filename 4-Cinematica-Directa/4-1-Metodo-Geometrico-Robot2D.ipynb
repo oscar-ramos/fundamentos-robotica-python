{
 "cells": [
  {
   "cell_type": "markdown",
   "metadata": {},
   "source": [
    "# Cinemática Directa usando Análisis Geométrico\n",
    "[![Open In Colab](https://colab.research.google.com/assets/colab-badge.svg)](https://colab.research.google.com/github/oscar-ramos/fundamentos-robotica-python/blob/main/4-Cinematica-Directa/4-1-Metodo-Geometrico-Robot2D.ipynb)\n",
    "\n",
    "Oscar E. Ramos Ponce, Universidad de Ingeniería y Tecnología - UTEC\n",
    "Fundamentos de Robótica\n",
    "\n",
    "\n",
    "## Caso 1: Robot R-R (2D)"
   ]
  },
  {
   "cell_type": "markdown",
   "metadata": {},
   "source": [
    "### 1.&nbsp;Cálculo Simbólico de la Cinemática Directa"
   ]
  },
  {
   "cell_type": "markdown",
   "metadata": {},
   "source": [
    "Se utilizará sympy para encontrar las matrices de transformación homogéneas y sus productos"
   ]
  },
  {
   "cell_type": "code",
   "execution_count": 1,
   "metadata": {},
   "outputs": [],
   "source": [
    "import sympy as sp     # Biblioteca para el cálculo simbólico"
   ]
  },
  {
   "cell_type": "code",
   "execution_count": 2,
   "metadata": {},
   "outputs": [],
   "source": [
    "def sTrasl(x, y, z):\n",
    "    \"\"\" Transformación homogénea que representa traslación pura\n",
    "    \"\"\"\n",
    "    T = sp.Matrix([[1,0,0,x],\n",
    "                   [0,1,0,y],\n",
    "                   [0,0,1,z],\n",
    "                   [0,0,0,1]])\n",
    "    return T\n",
    "\n",
    "def sTrotz(ang):\n",
    "    \"\"\" Transformación homogénea que representa rotación alrededor de z\n",
    "    \"\"\"\n",
    "    T = sp.Matrix([[sp.cos(ang),-sp.sin(ang),0,0],\n",
    "                   [sp.sin(ang), sp.cos(ang),0,0],\n",
    "                   [0,0,1,0],\n",
    "                   [0,0,0,1]])\n",
    "    return T"
   ]
  },
  {
   "cell_type": "code",
   "execution_count": 3,
   "metadata": {},
   "outputs": [
    {
     "name": "stdout",
     "output_type": "stream",
     "text": [
      "T01:\n"
     ]
    },
    {
     "data": {
      "text/latex": [
       "$\\displaystyle \\left[\\begin{matrix}\\cos{\\left(q_{1} \\right)} & - \\sin{\\left(q_{1} \\right)} & 0 & l_{1} \\cos{\\left(q_{1} \\right)}\\\\\\sin{\\left(q_{1} \\right)} & \\cos{\\left(q_{1} \\right)} & 0 & l_{1} \\sin{\\left(q_{1} \\right)}\\\\0 & 0 & 1 & 0\\\\0 & 0 & 0 & 1\\end{matrix}\\right]$"
      ],
      "text/plain": [
       "Matrix([\n",
       "[cos(q1), -sin(q1), 0, l1*cos(q1)],\n",
       "[sin(q1),  cos(q1), 0, l1*sin(q1)],\n",
       "[      0,        0, 1,          0],\n",
       "[      0,        0, 0,          1]])"
      ]
     },
     "metadata": {},
     "output_type": "display_data"
    },
    {
     "name": "stdout",
     "output_type": "stream",
     "text": [
      "T1e:\n"
     ]
    },
    {
     "data": {
      "text/latex": [
       "$\\displaystyle \\left[\\begin{matrix}\\cos{\\left(q_{2} \\right)} & - \\sin{\\left(q_{2} \\right)} & 0 & l_{2} \\cos{\\left(q_{2} \\right)}\\\\\\sin{\\left(q_{2} \\right)} & \\cos{\\left(q_{2} \\right)} & 0 & l_{2} \\sin{\\left(q_{2} \\right)}\\\\0 & 0 & 1 & 0\\\\0 & 0 & 0 & 1\\end{matrix}\\right]$"
      ],
      "text/plain": [
       "Matrix([\n",
       "[cos(q2), -sin(q2), 0, l2*cos(q2)],\n",
       "[sin(q2),  cos(q2), 0, l2*sin(q2)],\n",
       "[      0,        0, 1,          0],\n",
       "[      0,        0, 0,          1]])"
      ]
     },
     "metadata": {},
     "output_type": "display_data"
    },
    {
     "name": "stdout",
     "output_type": "stream",
     "text": [
      "T0e:\n"
     ]
    },
    {
     "data": {
      "text/latex": [
       "$\\displaystyle \\left[\\begin{matrix}\\cos{\\left(q_{1} + q_{2} \\right)} & - \\sin{\\left(q_{1} + q_{2} \\right)} & 0 & l_{1} \\cos{\\left(q_{1} \\right)} + l_{2} \\cos{\\left(q_{1} + q_{2} \\right)}\\\\\\sin{\\left(q_{1} + q_{2} \\right)} & \\cos{\\left(q_{1} + q_{2} \\right)} & 0 & l_{1} \\sin{\\left(q_{1} \\right)} + l_{2} \\sin{\\left(q_{1} + q_{2} \\right)}\\\\0 & 0 & 1 & 0\\\\0 & 0 & 0 & 1\\end{matrix}\\right]$"
      ],
      "text/plain": [
       "Matrix([\n",
       "[cos(q1 + q2), -sin(q1 + q2), 0, l1*cos(q1) + l2*cos(q1 + q2)],\n",
       "[sin(q1 + q2),  cos(q1 + q2), 0, l1*sin(q1) + l2*sin(q1 + q2)],\n",
       "[           0,             0, 1,                            0],\n",
       "[           0,             0, 0,                            1]])"
      ]
     },
     "metadata": {},
     "output_type": "display_data"
    }
   ],
   "source": [
    "# Variables simbólicas que serán utilizadas\n",
    "q1, q2, l1, l2 = sp.symbols(\"q1 q2 l1 l2\")\n",
    "\n",
    "# Transformación del sistema 1 con respecto al sistema 0 (base del robot)\n",
    "T01 = sTrotz(q1)*sTrasl(l1,0,0)\n",
    "# Transformación del sistema del efector final (e) con respecto al sistema 1\n",
    "T1e = sTrotz(q2)*sTrasl(l2,0,0)\n",
    "# Transformación del sistema del efector final (e) con respecto al sistema 0\n",
    "T0e = sp.simplify(T01*T1e)\n",
    "\n",
    "# Mostrar las transformaciones homogéneas (display funciona con IPython)\n",
    "print(\"T01:\"); display(T01)\n",
    "print(\"T1e:\"); display(T1e)\n",
    "print(\"T0e:\"); display(T0e)"
   ]
  },
  {
   "cell_type": "markdown",
   "metadata": {},
   "source": [
    "### 2.&nbsp;Cálculo Numérico de la Cinemática Directa"
   ]
  },
  {
   "cell_type": "markdown",
   "metadata": {},
   "source": [
    "En este caso se utilizará numpy para el manejo de matrices y vectores"
   ]
  },
  {
   "cell_type": "code",
   "execution_count": 4,
   "metadata": {},
   "outputs": [],
   "source": [
    "import numpy as np"
   ]
  },
  {
   "cell_type": "code",
   "execution_count": 5,
   "metadata": {},
   "outputs": [],
   "source": [
    "def Trotx(ang):\n",
    "    \"\"\" Transformación homogénea que representa rotación en x\n",
    "    \"\"\"\n",
    "    T = np.array([[1., 0., 0., 0.],\n",
    "                  [0., np.cos(ang), -np.sin(ang), 0.],\n",
    "                  [0., np.sin(ang),  np.cos(ang), 0.],\n",
    "                  [0., 0., 0., 1.]])\n",
    "    return T\n",
    "\n",
    "def Troty(ang):\n",
    "    \"\"\"\" Transformación homogénea que representa rotación en y\n",
    "    \"\"\"\n",
    "    T = np.array([[np.cos(ang), 0., np.sin(ang), 0.],\n",
    "                  [0., 1., 0., 0.],\n",
    "                  [-np.sin(ang), 0., np.cos(ang), 0.],\n",
    "                  [0., 0., 0., 1.]])\n",
    "    return T\n",
    "\n",
    "def Trotz(ang):\n",
    "    \"\"\" Transformación homogénea que representa rotación en z\n",
    "    \"\"\"\n",
    "    T = np.array([[np.cos(ang), -np.sin(ang), 0., 0.],\n",
    "                  [np.sin(ang),  np.cos(ang), 0., 0.],\n",
    "                  [0., 0., 1., 0.],\n",
    "                  [0., 0., 0., 1.]])\n",
    "    return T\n",
    "\n",
    "def Trasl(x, y, z):\n",
    "    \"\"\" Transformación homogénea que representa traslación pura\n",
    "    \"\"\"\n",
    "    T = np.array([[1,0,0,x],\n",
    "                  [0,1,0,y],\n",
    "                  [0,0,1,z],\n",
    "                  [0,0,0,1]])\n",
    "    return T"
   ]
  },
  {
   "cell_type": "code",
   "execution_count": 6,
   "metadata": {},
   "outputs": [],
   "source": [
    "# Cinemática directa del robot\n",
    "def cdirecta_robot2d(q, l1, l2):\n",
    "    \"\"\" Retorna los sistemas de referencia de cada eslabón con respecto a la base\n",
    "    \"\"\"\n",
    "    # Sistemas con respecto al anterior\n",
    "    T01 = Trotz(q[0]) @ Trasl(l1,0,0)\n",
    "    T1e = Trotz(q[1]) @ Trasl(l2,0,0)\n",
    "    # Sistemas con respecto a la base\n",
    "    T0e = T01 @ T1e\n",
    "    return T01, T0e"
   ]
  },
  {
   "cell_type": "code",
   "execution_count": 7,
   "metadata": {},
   "outputs": [
    {
     "name": "stdout",
     "output_type": "stream",
     "text": [
      "Efector final con respecto a la base cuando q1=29.999999999999996 y q2=75.0\n",
      "[[-0.259 -0.966  0.     0.607]\n",
      " [ 0.966 -0.259  0.     1.466]\n",
      " [ 0.     0.     1.     0.   ]\n",
      " [ 0.     0.     0.     1.   ]]\n"
     ]
    }
   ],
   "source": [
    "# Ejemplo de cálculo de la cinemática directa\n",
    "L1 = 1.0                               # Longitud eslabón 1\n",
    "L2 = 1.0                               # Longitud eslabón 2\n",
    "q = [np.deg2rad(30), np.deg2rad(75)]   # Ángulos de las articulaciones\n",
    "\n",
    "# Cinemática directa\n",
    "T1, Te = cdirecta_robot2d(q, L1, L2)\n",
    "\n",
    "# Mostrar el resultado\n",
    "print(\"Efector final con respecto a la base cuando q1={} y q2={}\".format(np.rad2deg(q[0]), np.rad2deg(q[1])))\n",
    "print(np.round(Te,3))"
   ]
  },
  {
   "cell_type": "markdown",
   "metadata": {},
   "source": [
    "### 3.&nbsp;Gráfico del Robot RR"
   ]
  },
  {
   "cell_type": "markdown",
   "metadata": {},
   "source": [
    "Se utilizará matplotlib para graficar el robot de 2 grados de libertad en el plano"
   ]
  },
  {
   "cell_type": "code",
   "execution_count": 8,
   "metadata": {},
   "outputs": [],
   "source": [
    "# Biblioteca para realizar gráficos\n",
    "import matplotlib.pyplot as plt"
   ]
  },
  {
   "cell_type": "code",
   "execution_count": 9,
   "metadata": {},
   "outputs": [],
   "source": [
    "# Gráfica del robot dada una configuración articular\n",
    "def graph_robot2d(q, l1, l2, ax=None, show_axis=True, k=0.25):\n",
    "    \"\"\" Grafica el robot según la configuración articular\n",
    "    \"\"\"\n",
    "    T1, Te = cdirecta_robot2d(q, l1, l2)\n",
    "    if (ax==None):\n",
    "        plt.clf()\n",
    "        ax = plt\n",
    "    # Cuerpo del robot\n",
    "    ax.plot([0, T1[0,3]],[0, T1[1,3]], linewidth=3, color='b')\n",
    "    ax.plot([T1[0,3], Te[0,3]],[T1[1,3], Te[1,3]], linewidth=3, color='b')\n",
    "    # Puntos en las articulaciones\n",
    "    ax.plot(0, 0, color='r', marker='o', markersize=8)\n",
    "    ax.plot(T1[0,3], T1[1,3], color='r', marker='o', markersize=8)\n",
    "    # Efector final (definido por 4 puntos)\n",
    "    p1 = np.array([0, 0.1, 0, 1]); p2 = np.array([0.2, 0.1, 0, 1])\n",
    "    p3 = np.array([0, -0.1, 0, 1]); p4 = np.array([0.2, -0.1, 0, 1])\n",
    "    p1 = Te.dot(p1); p2 = Te.dot(p2); p3 = Te.dot(p3); p4 = Te.dot(p4)\n",
    "    # Gráfico del efector final\n",
    "    ax.plot([p1[0],p2[0]], [p1[1],p2[1]], color='b', linewidth=3)\n",
    "    ax.plot([p3[0],p4[0]], [p3[1],p4[1]], color='b', linewidth=3)\n",
    "    ax.plot([p1[0],p3[0]], [p1[1],p3[1]], color='b', linewidth=3)\n",
    "    # Sistema de referencia del efector final y de la base\n",
    "    if (show_axis):\n",
    "        ax.plot([Te[0,3],Te[0,3]+k*Te[0,0]], [Te[1,3],Te[1,3]+k*Te[1,0]],color='r')\n",
    "        ax.plot([Te[0,3],Te[0,3]+k*Te[0,1]], [Te[1,3],Te[1,3]+k*Te[1,1]],color='g')\n",
    "        ax.plot([0,k],[0,0],color='r');plt.plot([0,0],[0,k],color='g')\n",
    "    # Plot\n",
    "    ax.axis('equal')\n",
    "    ax.grid('on')"
   ]
  },
  {
   "cell_type": "markdown",
   "metadata": {},
   "source": [
    "Se graficará una configuración (q1, q2) específica "
   ]
  },
  {
   "cell_type": "code",
   "execution_count": 10,
   "metadata": {},
   "outputs": [
    {
     "data": {
      "image/png": "[encoded data removed]",
      "text/plain": [
       "<Figure size 432x288 with 1 Axes>"
      ]
     },
     "metadata": {
      "needs_background": "light"
     },
     "output_type": "display_data"
    }
   ],
   "source": [
    "q = [np.deg2rad(30), np.deg2rad(75)]\n",
    "graph_robot2d(q, L1, L2, show_axis=False)"
   ]
  },
  {
   "cell_type": "markdown",
   "metadata": {},
   "source": [
    "### 4.&nbsp;Animación del robot RR (local)"
   ]
  },
  {
   "cell_type": "markdown",
   "metadata": {},
   "source": [
    "Para obtener un movimiento animado del rbot RR se graficará varias configuraciones de manera secuencial. Esta secuencia de configuraciones simulará el movimiento del robot.\n",
    "\n",
    "El uso de 'qt', que abre una nueva ventana para graficar, funciona solamente en modo local utilizando:\n",
    "* Cuaderno de Jupyter (local) con Anaconda\n",
    "* Cuaderno de Jupyter (local) con VSCode. \n",
    "\n",
    "Este código NO funciona en Google Colab, ya que Colab no puede abrir una nueva ventana para graficar."
   ]
  },
  {
   "cell_type": "code",
   "execution_count": 11,
   "metadata": {},
   "outputs": [],
   "source": [
    "# \"qt\" realiza el gráfico en una ventana nueva\n",
    "%matplotlib qt"
   ]
  },
  {
   "cell_type": "markdown",
   "metadata": {},
   "source": [
    "Al ejecutar el siguiente bucle, se abrirá una nueva ventana donde se visualizará el movimiento del robot."
   ]
  },
  {
   "cell_type": "code",
   "execution_count": 12,
   "metadata": {},
   "outputs": [],
   "source": [
    "for i in range(30):\n",
    "    q = np.array([30+i, 40+0.5*i])    # En grados\n",
    "    graph_robot2d(np.deg2rad(q), L1, L2)\n",
    "    plt.pause(0.001)"
   ]
  },
  {
   "cell_type": "markdown",
   "metadata": {},
   "source": [
    "### 5.&nbsp;Animación del robot RR en Google Colab "
   ]
  },
  {
   "cell_type": "markdown",
   "metadata": {},
   "source": [
    "Se utilizará el paquete `Celluloid` que simplifica la creación de animaciones con Matplotlib y Colab (para más información sobre este paquete ver, por ejemplo, [este](https://github.com/ShuaiGuo16/Matplotllib_Animation_Tutorial/blob/master/Tutorial.ipynb) repositorio). Para instalar `Celluloid`, descomentar la siguiente línea y ejecutarla."
   ]
  },
  {
   "cell_type": "code",
   "execution_count": 14,
   "metadata": {},
   "outputs": [],
   "source": [
    "#!pip install celluloid --quiet"
   ]
  },
  {
   "cell_type": "code",
   "execution_count": null,
   "metadata": {},
   "outputs": [],
   "source": [
    "from IPython.display import HTML\n",
    "from celluloid import Camera"
   ]
  },
  {
   "cell_type": "markdown",
   "metadata": {},
   "source": [
    "Se simulará el movimiento del robot sin graficarlo, almacenando cada \"frame\" como parte de un video de salida."
   ]
  },
  {
   "cell_type": "code",
   "execution_count": null,
   "metadata": {},
   "outputs": [],
   "source": [
    "fig = plt.figure()              # También se puede escoger un tamaño más grande con: plt.figure(figsize=(5,4)) \n",
    "ax = fig.add_subplot(1, 1, 1)\n",
    "# Inicializar la cámara de celluloid\n",
    "camera = Camera(fig)\n",
    "\n",
    "# Bucle de movimiento\n",
    "for i in range(30):\n",
    "    q = np.array([30+i, 40+0.5*i])          # En grados\n",
    "    graph_robot2d(np.deg2rad(q), L1, L2, ax)\n",
    "    camera.snap()                           # Almacena el \"frame\" actual\n",
    "plt.close()"
   ]
  },
  {
   "cell_type": "markdown",
   "metadata": {},
   "source": [
    "Luego se mostrará la simulación como un video."
   ]
  },
  {
   "cell_type": "code",
   "execution_count": null,
   "metadata": {},
   "outputs": [],
   "source": [
    "# Crear la animación\n",
    "anim = camera.animate(interval = 40, repeat = True, repeat_delay = 500)\n",
    "\n",
    "# Mostrar el resultado\n",
    "HTML(anim.to_html5_video())"
   ]
  }
 ],
 "metadata": {
  "kernelspec": {
   "display_name": "Python 3.9.12 ('base')",
   "language": "python",
   "name": "python3"
  },
  "language_info": {
   "codemirror_mode": {
    "name": "ipython",
    "version": 3
   },
   "file_extension": ".py",
   "mimetype": "text/x-python",
   "name": "python",
   "nbconvert_exporter": "python",
   "pygments_lexer": "ipython3",
   "version": "3.9.12"
  },
  "vscode": {
   "interpreter": {
    "hash": "470260c6919e9ff48e1a573ae64d2f776c76ca8b99100eba78f1a4e3574395cd"
   }
  }
 },
 "nbformat": 4,
 "nbformat_minor": 2
}
