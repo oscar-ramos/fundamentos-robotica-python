{
 "cells": [
  {
   "cell_type": "markdown",
   "metadata": {},
   "source": [
    "# Cinemática Diferencial\n",
    "[![Open In Colab](https://colab.research.google.com/assets/colab-badge.svg)](https://colab.research.google.com/github/oscar-ramos/fundamentos-robotica-python/blob/main/6-Cinematica-Diferencial/6-1-Cinematica-Diferencial.ipynb)\n",
    "\n",
    "* Oscar E. Ramos Ponce, Universidad de Ingeniería y Tecnología - UTEC\n",
    "* Fundamentos de Robótica\n",
    "\n",
    "Este archivo contiene algunos ejemplos de las diapositivas del curso"
   ]
  },
  {
   "cell_type": "code",
   "execution_count": 1,
   "metadata": {},
   "outputs": [],
   "source": [
    "import sympy as sp\n",
    "import numpy as np"
   ]
  },
  {
   "cell_type": "markdown",
   "metadata": {},
   "source": [
    "* Funciones Auxiliares: por facilidad se importará algunas funciones auxiliares"
   ]
  },
  {
   "cell_type": "code",
   "execution_count": 2,
   "metadata": {},
   "outputs": [],
   "source": [
    "if 'google.colab' in str(get_ipython()):\n",
    "    !wget https://raw.githubusercontent.com/oscar-ramos/fundamentos-robotica-python/main/6-Cinematica-Diferencial/utils.py\n",
    "\n",
    "from utils import srotx, sroty, srotz, sTdh, sVectorFromSkew"
   ]
  },
  {
   "cell_type": "markdown",
   "metadata": {},
   "source": [
    "### Diap 10: Ejemplo - Velocidad angular"
   ]
  },
  {
   "cell_type": "code",
   "execution_count": 3,
   "metadata": {},
   "outputs": [
    {
     "data": {
      "text/latex": [
       "$\\displaystyle \\left[\\begin{matrix}0 & 0 & dt\\\\0 & 0 & 0\\\\- dt & 0 & 0\\end{matrix}\\right]$"
      ],
      "text/plain": [
       "Matrix([\n",
       "[  0, 0, dt],\n",
       "[  0, 0,  0],\n",
       "[-dt, 0,  0]])"
      ]
     },
     "metadata": {},
     "output_type": "display_data"
    }
   ],
   "source": [
    "t, dt = sp.symbols(\"t dt\")\n",
    "\n",
    "# Matriz de rotación\n",
    "R = sroty(t)\n",
    "\n",
    "# Derivada con respecto al ángulo t\n",
    "dRdt = sp.diff(R,t)\n",
    "\n",
    "# Matriz antisimétrica\n",
    "w_hat = sp.simplify( dRdt * dt * R.T)\n",
    "display(w_hat)"
   ]
  },
  {
   "cell_type": "code",
   "execution_count": 4,
   "metadata": {},
   "outputs": [
    {
     "data": {
      "text/latex": [
       "$\\displaystyle \\left[\\begin{matrix}0\\\\dt\\\\0\\end{matrix}\\right]$"
      ],
      "text/plain": [
       "Matrix([\n",
       "[ 0],\n",
       "[dt],\n",
       "[ 0]])"
      ]
     },
     "execution_count": 4,
     "metadata": {},
     "output_type": "execute_result"
    }
   ],
   "source": [
    "# Vector de velocidad angular\n",
    "sVectorFromSkew(w_hat)"
   ]
  },
  {
   "cell_type": "markdown",
   "metadata": {},
   "source": [
    "### Diap 20: Relación entre velocidad angular y derivadas de roll, pitch, yaw"
   ]
  },
  {
   "cell_type": "code",
   "execution_count": 5,
   "metadata": {},
   "outputs": [
    {
     "data": {
      "text/latex": [
       "$\\displaystyle \\left[\\begin{matrix}- dp \\sin{\\left(r \\right)} + dy \\cos{\\left(p \\right)} \\cos{\\left(r \\right)}\\\\dp \\cos{\\left(r \\right)} + dy \\sin{\\left(r \\right)} \\cos{\\left(p \\right)}\\\\dr - dy \\sin{\\left(p \\right)}\\end{matrix}\\right]$"
      ],
      "text/plain": [
       "Matrix([\n",
       "[-dp*sin(r) + dy*cos(p)*cos(r)],\n",
       "[ dp*cos(r) + dy*sin(r)*cos(p)],\n",
       "[               dr - dy*sin(p)]])"
      ]
     },
     "execution_count": 5,
     "metadata": {},
     "output_type": "execute_result"
    }
   ],
   "source": [
    "r, p, y, dr, dp, dy = sp.symbols(\"r p y dr dp dy\")\n",
    "\n",
    "# Componente de velocidad debido a \"roll\"\n",
    "wr = sp.Matrix([0,0,1])*dr\n",
    "\n",
    "# Componente de velocidad debido a \"pitch\"\n",
    "Rz = srotz(r)\n",
    "wp = Rz[:,1]*dp\n",
    "\n",
    "# Componente de velocidad debido a \"yaw\"\n",
    "Rrp = sp.simplify(srotz(r)*sroty(p))\n",
    "wy = Rrp[:,0]*dy\n",
    "\n",
    "# Velocidad angular\n",
    "w = wr + wp + wy\n",
    "w"
   ]
  },
  {
   "cell_type": "markdown",
   "metadata": {},
   "source": [
    "### Diap 23: Relación entre velocidad angular y derivadas de roll, pitch, yaw"
   ]
  },
  {
   "cell_type": "code",
   "execution_count": 6,
   "metadata": {},
   "outputs": [
    {
     "name": "stdout",
     "output_type": "stream",
     "text": [
      "w_hat: \n"
     ]
    },
    {
     "data": {
      "text/latex": [
       "$\\displaystyle \\left[\\begin{matrix}0 & - dr + dy \\sin{\\left(p \\right)} & dp \\cos{\\left(r \\right)} + dy \\sin{\\left(r \\right)} \\cos{\\left(p \\right)}\\\\dr - dy \\sin{\\left(p \\right)} & 0 & dp \\sin{\\left(r \\right)} - dy \\cos{\\left(p \\right)} \\cos{\\left(r \\right)}\\\\- dp \\cos{\\left(r \\right)} - dy \\sin{\\left(r \\right)} \\cos{\\left(p \\right)} & - dp \\sin{\\left(r \\right)} + dy \\cos{\\left(p \\right)} \\cos{\\left(r \\right)} & 0\\end{matrix}\\right]$"
      ],
      "text/plain": [
       "Matrix([\n",
       "[                            0,               -dr + dy*sin(p), dp*cos(r) + dy*sin(r)*cos(p)],\n",
       "[               dr - dy*sin(p),                             0, dp*sin(r) - dy*cos(p)*cos(r)],\n",
       "[-dp*cos(r) - dy*sin(r)*cos(p), -dp*sin(r) + dy*cos(p)*cos(r),                            0]])"
      ]
     },
     "metadata": {},
     "output_type": "display_data"
    },
    {
     "name": "stdout",
     "output_type": "stream",
     "text": [
      "w: \n"
     ]
    },
    {
     "data": {
      "text/latex": [
       "$\\displaystyle \\left[\\begin{matrix}- dp \\sin{\\left(r \\right)} + dy \\cos{\\left(p \\right)} \\cos{\\left(r \\right)}\\\\dp \\cos{\\left(r \\right)} + dy \\sin{\\left(r \\right)} \\cos{\\left(p \\right)}\\\\dr - dy \\sin{\\left(p \\right)}\\end{matrix}\\right]$"
      ],
      "text/plain": [
       "Matrix([\n",
       "[-dp*sin(r) + dy*cos(p)*cos(r)],\n",
       "[ dp*cos(r) + dy*sin(r)*cos(p)],\n",
       "[               dr - dy*sin(p)]])"
      ]
     },
     "metadata": {},
     "output_type": "display_data"
    }
   ],
   "source": [
    "r,p,y,dr,dp,dy = sp.symbols(\"r p y dr dp dy\")\n",
    "\n",
    "# Matriz de rotación de roll, pitch, yaw\n",
    "R = sp.simplify(srotz(r)*sroty(p)*srotx(y))\n",
    "\n",
    "# Derivada temporal de la matriz de rotación (usando la regla de la cadena)\n",
    "dRdt = sp.simplify(sp.diff(R,r)*dr + sp.diff(R,p)*dp + sp.diff(R,y)*dy)\n",
    "\n",
    "w_hat = sp.simplify(dRdt * R.T)\n",
    "w = sVectorFromSkew(w_hat)\n",
    "\n",
    "print(\"w_hat: \"); display(w_hat)\n",
    "print(\"w: \"); display(w)"
   ]
  },
  {
   "cell_type": "markdown",
   "metadata": {},
   "source": [
    "### Diap 32: Jacobiano geométrico - Ejemplo 1"
   ]
  },
  {
   "cell_type": "code",
   "execution_count": 7,
   "metadata": {},
   "outputs": [],
   "source": [
    "q1,q2,l1,l2 = sp.symbols(\"q1 q2 l1 l2\")\n",
    "\n",
    "# Matrices de transformación homogénea\n",
    "T01 = sp.Matrix([[sp.cos(q1), -sp.sin(q1), 0, l1*sp.cos(q1)],\n",
    "                 [sp.sin(q1),  sp.cos(q1), 0, l1*sp.sin(q1)],\n",
    "                 [         0,           0, 1,             0],\n",
    "                 [         0,           0, 0,             1]])\n",
    "T12 = sp.Matrix([[sp.cos(q2), -sp.sin(q2), 0, l2*sp.cos(q2)],\n",
    "                 [sp.sin(q2),  sp.cos(q2), 0, l2*sp.sin(q2)],\n",
    "                 [         0,           0, 1,             0],\n",
    "                 [         0,           0, 0,             1]])\n",
    "T02 = sp.simplify(T01*T12)"
   ]
  },
  {
   "cell_type": "code",
   "execution_count": 8,
   "metadata": {},
   "outputs": [],
   "source": [
    "# Ejes z con respecto al sistema 0\n",
    "z0 = sp.Matrix([[0],[0],[1]]); \n",
    "z1 = T01[0:3, 2]\n",
    "\n",
    "# Puntos con respecto al sistema 0\n",
    "p0 = sp.Matrix([[0],[0],[0]]); \n",
    "p1 = T01[0:3, 3]; \n",
    "p2 = T02[0:3, 3]; \n",
    "\n",
    "# Componentes de los Jacobianos\n",
    "Jv1 = z0.cross(p2-p0); \n",
    "Jv2 = z1.cross(p2-p1); \n",
    "Jw1 = z0; \n",
    "Jw2 = z1"
   ]
  },
  {
   "cell_type": "code",
   "execution_count": 9,
   "metadata": {},
   "outputs": [
    {
     "name": "stdout",
     "output_type": "stream",
     "text": [
      "J:\n"
     ]
    },
    {
     "data": {
      "text/latex": [
       "$\\displaystyle \\left[\\begin{matrix}- l_{1} \\sin{\\left(q_{1} \\right)} - l_{2} \\sin{\\left(q_{1} + q_{2} \\right)} & - l_{2} \\sin{\\left(q_{1} + q_{2} \\right)}\\\\l_{1} \\cos{\\left(q_{1} \\right)} + l_{2} \\cos{\\left(q_{1} + q_{2} \\right)} & l_{2} \\cos{\\left(q_{1} + q_{2} \\right)}\\\\0 & 0\\\\0 & 0\\\\0 & 0\\\\1 & 1\\end{matrix}\\right]$"
      ],
      "text/plain": [
       "Matrix([\n",
       "[-l1*sin(q1) - l2*sin(q1 + q2), -l2*sin(q1 + q2)],\n",
       "[ l1*cos(q1) + l2*cos(q1 + q2),  l2*cos(q1 + q2)],\n",
       "[                            0,                0],\n",
       "[                            0,                0],\n",
       "[                            0,                0],\n",
       "[                            1,                1]])"
      ]
     },
     "metadata": {},
     "output_type": "display_data"
    },
    {
     "name": "stdout",
     "output_type": "stream",
     "text": [
      "Rango: 2\n"
     ]
    }
   ],
   "source": [
    "# Columnas del Jacobiano geométrico\n",
    "Jcol1 = sp.Matrix.vstack(Jv1, Jw1)\n",
    "Jcol2 = sp.Matrix.vstack(Jv2, Jw2)\n",
    "\n",
    "# Jacobiano geométrico (completo)\n",
    "J = sp.Matrix.hstack(Jcol1, Jcol2)\n",
    "\n",
    "print(\"J:\"); display(J)\n",
    "print(\"Rango:\", sp.Matrix.rank(J))"
   ]
  },
  {
   "cell_type": "markdown",
   "metadata": {},
   "source": [
    "### Diap 33 y 34: Jacobiano geométrico - Ejemplo 2"
   ]
  },
  {
   "cell_type": "code",
   "execution_count": 10,
   "metadata": {},
   "outputs": [],
   "source": [
    "q1, q2, q3, q4, L = sp.symbols(\"q1 q2 q3 q4 L\")\n",
    "\n",
    "# Matrices de transformación homogénea i con respecto a i-1\n",
    "T01 = sTdh(0, q1, 0, sp.pi/2)\n",
    "T12 = sTdh(0, q2, 0, sp.pi/2)\n",
    "T23 = sTdh(L, q3, 0, sp.pi/2)\n",
    "T34 = sTdh(0, q4, L, 0)\n",
    "\n",
    "# Matrices de transformación homogénea con respecto a 0\n",
    "T02 = sp.simplify(T01*T12)\n",
    "T03 = sp.simplify(T02*T23)\n",
    "T04 = sp.simplify(T03*T34)"
   ]
  },
  {
   "cell_type": "code",
   "execution_count": 11,
   "metadata": {},
   "outputs": [],
   "source": [
    "# Ejes z (con respecto al sistema 0)\n",
    "z0 = sp.Matrix([[0],[0],[1]]);\n",
    "z1 = T01[0:3, 2]\n",
    "z2 = T02[0:3, 2]\n",
    "z3 = T03[0:3, 2]\n",
    "\n",
    "# Puntos con respecto al sistema 0\n",
    "p0 = sp.Matrix([0,0,0])\n",
    "p1 = T01[0:3, 3]\n",
    "p2 = T02[0:3, 3]\n",
    "p3 = T03[0:3, 3]\n",
    "p4 = T04[0:3, 3]"
   ]
  },
  {
   "cell_type": "code",
   "execution_count": 12,
   "metadata": {},
   "outputs": [],
   "source": [
    "# Componentes del Jacobiano (velocidad lineal)\n",
    "Jv1 = sp.simplify(z0.cross(p4-p0))       # Artic. revolución\n",
    "Jv2 = sp.simplify(z1.cross(p4-p1))       # Artic. revolución\n",
    "Jv3 = sp.simplify(z2.cross(p4-p2))       # Artic. revolución\n",
    "Jv4 = sp.simplify(z3.cross(p4-p3))       # Artic. revolución\n",
    "# Componentes del Jacobiano (velocidad angular)\n",
    "Jw1 = z0          # Artic. revolución\n",
    "Jw2 = z1          # Artic. revolución \n",
    "Jw3 = z2          # Artic. revolución\n",
    "Jw4 = z3          # Artic. revolución\n",
    "\n",
    "# Columas del Jacobiano geométrico\n",
    "Jcol1 = sp.Matrix.vstack(Jv1, Jw1)\n",
    "Jcol2 = sp.Matrix.vstack(Jv2, Jw2)\n",
    "Jcol3 = sp.Matrix.vstack(Jv3, Jw3)\n",
    "Jcol4 = sp.Matrix.vstack(Jv4, Jw4)\n",
    "# Jacobiano geométrico\n",
    "J = sp.Matrix.hstack(Jcol1, Jcol2, Jcol3, Jcol4)"
   ]
  },
  {
   "cell_type": "code",
   "execution_count": 13,
   "metadata": {},
   "outputs": [
    {
     "name": "stdout",
     "output_type": "stream",
     "text": [
      "J1:\n"
     ]
    },
    {
     "data": {
      "text/latex": [
       "$\\displaystyle \\left[\\begin{matrix}- L \\left(\\left(\\sin{\\left(q_{1} \\right)} \\cos{\\left(q_{2} \\right)} \\cos{\\left(q_{3} \\right)} - \\sin{\\left(q_{3} \\right)} \\cos{\\left(q_{1} \\right)}\\right) \\cos{\\left(q_{4} \\right)} + \\sin{\\left(q_{1} \\right)} \\sin{\\left(q_{2} \\right)} \\sin{\\left(q_{4} \\right)} + \\sin{\\left(q_{1} \\right)} \\sin{\\left(q_{2} \\right)}\\right)\\\\L \\left(\\left(\\sin{\\left(q_{1} \\right)} \\sin{\\left(q_{3} \\right)} + \\cos{\\left(q_{1} \\right)} \\cos{\\left(q_{2} \\right)} \\cos{\\left(q_{3} \\right)}\\right) \\cos{\\left(q_{4} \\right)} + \\sin{\\left(q_{2} \\right)} \\sin{\\left(q_{4} \\right)} \\cos{\\left(q_{1} \\right)} + \\sin{\\left(q_{2} \\right)} \\cos{\\left(q_{1} \\right)}\\right)\\\\0\\\\0\\\\0\\\\1\\end{matrix}\\right]$"
      ],
      "text/plain": [
       "Matrix([\n",
       "[-L*((sin(q1)*cos(q2)*cos(q3) - sin(q3)*cos(q1))*cos(q4) + sin(q1)*sin(q2)*sin(q4) + sin(q1)*sin(q2))],\n",
       "[ L*((sin(q1)*sin(q3) + cos(q1)*cos(q2)*cos(q3))*cos(q4) + sin(q2)*sin(q4)*cos(q1) + sin(q2)*cos(q1))],\n",
       "[                                                                                                   0],\n",
       "[                                                                                                   0],\n",
       "[                                                                                                   0],\n",
       "[                                                                                                   1]])"
      ]
     },
     "metadata": {},
     "output_type": "display_data"
    },
    {
     "name": "stdout",
     "output_type": "stream",
     "text": [
      "J2:\n"
     ]
    },
    {
     "data": {
      "text/latex": [
       "$\\displaystyle \\left[\\begin{matrix}L \\left(- \\sin{\\left(q_{2} \\right)} \\cos{\\left(q_{3} \\right)} \\cos{\\left(q_{4} \\right)} + \\sin{\\left(q_{4} \\right)} \\cos{\\left(q_{2} \\right)} + \\cos{\\left(q_{2} \\right)}\\right) \\cos{\\left(q_{1} \\right)}\\\\L \\left(- \\sin{\\left(q_{2} \\right)} \\cos{\\left(q_{3} \\right)} \\cos{\\left(q_{4} \\right)} + \\sin{\\left(q_{4} \\right)} \\cos{\\left(q_{2} \\right)} + \\cos{\\left(q_{2} \\right)}\\right) \\sin{\\left(q_{1} \\right)}\\\\L \\left(\\sin{\\left(q_{2} \\right)} \\sin{\\left(q_{4} \\right)} + \\sin{\\left(q_{2} \\right)} + \\cos{\\left(q_{2} \\right)} \\cos{\\left(q_{3} \\right)} \\cos{\\left(q_{4} \\right)}\\right)\\\\\\sin{\\left(q_{1} \\right)}\\\\- \\cos{\\left(q_{1} \\right)}\\\\0\\end{matrix}\\right]$"
      ],
      "text/plain": [
       "Matrix([\n",
       "[L*(-sin(q2)*cos(q3)*cos(q4) + sin(q4)*cos(q2) + cos(q2))*cos(q1)],\n",
       "[L*(-sin(q2)*cos(q3)*cos(q4) + sin(q4)*cos(q2) + cos(q2))*sin(q1)],\n",
       "[         L*(sin(q2)*sin(q4) + sin(q2) + cos(q2)*cos(q3)*cos(q4))],\n",
       "[                                                         sin(q1)],\n",
       "[                                                        -cos(q1)],\n",
       "[                                                               0]])"
      ]
     },
     "metadata": {},
     "output_type": "display_data"
    },
    {
     "name": "stdout",
     "output_type": "stream",
     "text": [
      "J3:\n"
     ]
    },
    {
     "data": {
      "text/latex": [
       "$\\displaystyle \\left[\\begin{matrix}L \\left(\\sin{\\left(q_{1} \\right)} \\cos{\\left(q_{3} \\right)} - \\sin{\\left(q_{3} \\right)} \\cos{\\left(q_{1} \\right)} \\cos{\\left(q_{2} \\right)}\\right) \\cos{\\left(q_{4} \\right)}\\\\- L \\left(\\sin{\\left(q_{1} \\right)} \\sin{\\left(q_{3} \\right)} \\cos{\\left(q_{2} \\right)} + \\cos{\\left(q_{1} \\right)} \\cos{\\left(q_{3} \\right)}\\right) \\cos{\\left(q_{4} \\right)}\\\\- L \\sin{\\left(q_{2} \\right)} \\sin{\\left(q_{3} \\right)} \\cos{\\left(q_{4} \\right)}\\\\\\sin{\\left(q_{2} \\right)} \\cos{\\left(q_{1} \\right)}\\\\\\sin{\\left(q_{1} \\right)} \\sin{\\left(q_{2} \\right)}\\\\- \\cos{\\left(q_{2} \\right)}\\end{matrix}\\right]$"
      ],
      "text/plain": [
       "Matrix([\n",
       "[ L*(sin(q1)*cos(q3) - sin(q3)*cos(q1)*cos(q2))*cos(q4)],\n",
       "[-L*(sin(q1)*sin(q3)*cos(q2) + cos(q1)*cos(q3))*cos(q4)],\n",
       "[                            -L*sin(q2)*sin(q3)*cos(q4)],\n",
       "[                                       sin(q2)*cos(q1)],\n",
       "[                                       sin(q1)*sin(q2)],\n",
       "[                                              -cos(q2)]])"
      ]
     },
     "metadata": {},
     "output_type": "display_data"
    },
    {
     "name": "stdout",
     "output_type": "stream",
     "text": [
      "J4:\n"
     ]
    },
    {
     "data": {
      "text/latex": [
       "$\\displaystyle \\left[\\begin{matrix}L \\left(- \\sin{\\left(q_{1} \\right)} \\sin{\\left(q_{3} \\right)} \\sin{\\left(q_{4} \\right)} + \\sin{\\left(q_{2} \\right)} \\cos{\\left(q_{1} \\right)} \\cos{\\left(q_{4} \\right)} - \\sin{\\left(q_{4} \\right)} \\cos{\\left(q_{1} \\right)} \\cos{\\left(q_{2} \\right)} \\cos{\\left(q_{3} \\right)}\\right)\\\\L \\left(\\sin{\\left(q_{1} \\right)} \\sin{\\left(q_{2} \\right)} \\cos{\\left(q_{4} \\right)} - \\sin{\\left(q_{1} \\right)} \\sin{\\left(q_{4} \\right)} \\cos{\\left(q_{2} \\right)} \\cos{\\left(q_{3} \\right)} + \\sin{\\left(q_{3} \\right)} \\sin{\\left(q_{4} \\right)} \\cos{\\left(q_{1} \\right)}\\right)\\\\- L \\left(\\sin{\\left(q_{2} \\right)} \\sin{\\left(q_{4} \\right)} \\cos{\\left(q_{3} \\right)} + \\cos{\\left(q_{2} \\right)} \\cos{\\left(q_{4} \\right)}\\right)\\\\- \\sin{\\left(q_{1} \\right)} \\cos{\\left(q_{3} \\right)} + \\sin{\\left(q_{3} \\right)} \\cos{\\left(q_{1} \\right)} \\cos{\\left(q_{2} \\right)}\\\\\\sin{\\left(q_{1} \\right)} \\sin{\\left(q_{3} \\right)} \\cos{\\left(q_{2} \\right)} + \\cos{\\left(q_{1} \\right)} \\cos{\\left(q_{3} \\right)}\\\\\\sin{\\left(q_{2} \\right)} \\sin{\\left(q_{3} \\right)}\\end{matrix}\\right]$"
      ],
      "text/plain": [
       "Matrix([\n",
       "[L*(-sin(q1)*sin(q3)*sin(q4) + sin(q2)*cos(q1)*cos(q4) - sin(q4)*cos(q1)*cos(q2)*cos(q3))],\n",
       "[ L*(sin(q1)*sin(q2)*cos(q4) - sin(q1)*sin(q4)*cos(q2)*cos(q3) + sin(q3)*sin(q4)*cos(q1))],\n",
       "[                                          -L*(sin(q2)*sin(q4)*cos(q3) + cos(q2)*cos(q4))],\n",
       "[                                              -sin(q1)*cos(q3) + sin(q3)*cos(q1)*cos(q2)],\n",
       "[                                               sin(q1)*sin(q3)*cos(q2) + cos(q1)*cos(q3)],\n",
       "[                                                                         sin(q2)*sin(q3)]])"
      ]
     },
     "metadata": {},
     "output_type": "display_data"
    }
   ],
   "source": [
    "print(\"J1:\"); display(Jcol1)\n",
    "print(\"J2:\"); display(Jcol2)\n",
    "print(\"J3:\"); display(Jcol3)\n",
    "print(\"J4:\"); display(Jcol4)"
   ]
  },
  {
   "cell_type": "code",
   "execution_count": 14,
   "metadata": {},
   "outputs": [
    {
     "name": "stdout",
     "output_type": "stream",
     "text": [
      "J(q):\n"
     ]
    },
    {
     "data": {
      "text/latex": [
       "$\\displaystyle \\left[\\begin{matrix}0 & - \\sqrt{2} L & 0 & - \\frac{\\sqrt{2} L}{2}\\\\0 & 0 & - L & 0\\\\0 & 0 & 0 & - \\frac{\\sqrt{2} L}{2}\\\\0 & 0 & \\frac{\\sqrt{2}}{2} & 0\\\\0 & -1 & 0 & -1\\\\1 & 0 & \\frac{\\sqrt{2}}{2} & 0\\end{matrix}\\right]$"
      ],
      "text/plain": [
       "Matrix([\n",
       "[0, -sqrt(2)*L,         0, -sqrt(2)*L/2],\n",
       "[0,          0,        -L,            0],\n",
       "[0,          0,         0, -sqrt(2)*L/2],\n",
       "[0,          0, sqrt(2)/2,            0],\n",
       "[0,         -1,         0,           -1],\n",
       "[1,          0, sqrt(2)/2,            0]])"
      ]
     },
     "metadata": {},
     "output_type": "display_data"
    }
   ],
   "source": [
    "# Jacobiano en el punto dado:\n",
    "Js = J.subs({q1:0, q2:135*sp.pi/180, q3:sp.pi, q4:sp.pi})\n",
    "\n",
    "print(\"J(q):\"); display(Js)"
   ]
  },
  {
   "cell_type": "markdown",
   "metadata": {},
   "source": [
    "### Diap 40: Jacobiano analítico - Ejemplo 1"
   ]
  },
  {
   "cell_type": "code",
   "execution_count": 15,
   "metadata": {},
   "outputs": [],
   "source": [
    "q1, q2, l1, l2 = sp.symbols(\"q1 q2 l1 l2\")"
   ]
  },
  {
   "cell_type": "markdown",
   "metadata": {},
   "source": [
    "* **Forma 1** (simbólico):"
   ]
  },
  {
   "cell_type": "code",
   "execution_count": 16,
   "metadata": {},
   "outputs": [
    {
     "data": {
      "text/latex": [
       "$\\displaystyle \\left[\\begin{matrix}- l_{1} \\sin{\\left(q_{1} \\right)} - l_{2} \\sin{\\left(q_{1} + q_{2} \\right)} & - l_{2} \\sin{\\left(q_{1} + q_{2} \\right)}\\\\l_{1} \\cos{\\left(q_{1} \\right)} + l_{2} \\cos{\\left(q_{1} + q_{2} \\right)} & l_{2} \\cos{\\left(q_{1} + q_{2} \\right)}\\\\1 & 1\\end{matrix}\\right]$"
      ],
      "text/plain": [
       "Matrix([\n",
       "[-l1*sin(q1) - l2*sin(q1 + q2), -l2*sin(q1 + q2)],\n",
       "[ l1*cos(q1) + l2*cos(q1 + q2),  l2*cos(q1 + q2)],\n",
       "[                            1,                1]])"
      ]
     },
     "metadata": {},
     "output_type": "display_data"
    }
   ],
   "source": [
    "# Cinemática directa (término a término)\n",
    "x = l1*sp.cos(q1) + l2*sp.cos(q1+q2)\n",
    "y = l1*sp.sin(q1) + l2*sp.sin(q1+q2)\n",
    "phi = q1 + q2\n",
    "\n",
    "# Derivadas (término a término)\n",
    "dxdq1 = sp.diff(x, q1) \n",
    "dxdq2 = sp.diff(x, q2)\n",
    "dydq1 = sp.diff(y, q1) \n",
    "dydq2 = sp.diff(y, q2)\n",
    "dphidq1 = sp.diff(phi, q1) \n",
    "dphidq2 = sp.diff(phi, q2)\n",
    "\n",
    "# Jacobiano analitico\n",
    "Ja1 = sp.Matrix([[  dxdq1,   dxdq2],\n",
    "                [  dydq1,   dydq2],\n",
    "                [dphidq1, dphidq2]])\n",
    "display(Ja1)"
   ]
  },
  {
   "cell_type": "markdown",
   "metadata": {},
   "source": [
    "* **Forma 2** (simbólico):"
   ]
  },
  {
   "cell_type": "code",
   "execution_count": 17,
   "metadata": {},
   "outputs": [
    {
     "data": {
      "text/latex": [
       "$\\displaystyle \\left[\\begin{matrix}- l_{1} \\sin{\\left(q_{1} \\right)} - l_{2} \\sin{\\left(q_{1} + q_{2} \\right)} & - l_{2} \\sin{\\left(q_{1} + q_{2} \\right)}\\\\l_{1} \\cos{\\left(q_{1} \\right)} + l_{2} \\cos{\\left(q_{1} + q_{2} \\right)} & l_{2} \\cos{\\left(q_{1} + q_{2} \\right)}\\\\1 & 1\\end{matrix}\\right]$"
      ],
      "text/plain": [
       "Matrix([\n",
       "[-l1*sin(q1) - l2*sin(q1 + q2), -l2*sin(q1 + q2)],\n",
       "[ l1*cos(q1) + l2*cos(q1 + q2),  l2*cos(q1 + q2)],\n",
       "[                            1,                1]])"
      ]
     },
     "metadata": {},
     "output_type": "display_data"
    }
   ],
   "source": [
    "# Cinemática directa (como vector)\n",
    "X = sp. Matrix([[ l1*sp.cos(q1) + l2*sp.cos(q1+q2)],\n",
    "                [ l1*sp.sin(q1) + l2*sp.sin(q1+q2)],\n",
    "                [ q1 + q2]])\n",
    "\n",
    "# Vector de variables articulares\n",
    "q = sp.Matrix([q1,q2])\n",
    "\n",
    "# Jacobiano analítico (usando la función \"jacobian\")\n",
    "Ja1 = X.jacobian(q)\n",
    "display(Ja1)"
   ]
  },
  {
   "cell_type": "markdown",
   "metadata": {},
   "source": [
    "### Diap 42: Jacobiano analítico - Ejemplo 2"
   ]
  },
  {
   "cell_type": "code",
   "execution_count": 18,
   "metadata": {},
   "outputs": [
    {
     "data": {
      "text/latex": [
       "$\\displaystyle \\left[\\begin{matrix}- q_{3} \\sin{\\left(q_{1} \\right)} \\cos{\\left(q_{2} \\right)} & - q_{3} \\sin{\\left(q_{2} \\right)} \\cos{\\left(q_{1} \\right)} & \\cos{\\left(q_{1} \\right)} \\cos{\\left(q_{2} \\right)}\\\\q_{3} \\cos{\\left(q_{1} \\right)} \\cos{\\left(q_{2} \\right)} & - q_{3} \\sin{\\left(q_{1} \\right)} \\sin{\\left(q_{2} \\right)} & \\sin{\\left(q_{1} \\right)} \\cos{\\left(q_{2} \\right)}\\\\0 & q_{3} \\cos{\\left(q_{2} \\right)} & \\sin{\\left(q_{2} \\right)}\\end{matrix}\\right]$"
      ],
      "text/plain": [
       "Matrix([\n",
       "[-q3*sin(q1)*cos(q2), -q3*sin(q2)*cos(q1), cos(q1)*cos(q2)],\n",
       "[ q3*cos(q1)*cos(q2), -q3*sin(q1)*sin(q2), sin(q1)*cos(q2)],\n",
       "[                  0,          q3*cos(q2),         sin(q2)]])"
      ]
     },
     "metadata": {},
     "output_type": "display_data"
    }
   ],
   "source": [
    "q1, q2, q3, d1 = sp.symbols(\"q1 q2 q3 d1\")\n",
    "\n",
    "# Cinemática directa\n",
    "X = sp.Matrix([[q3*sp.cos(q2)*sp.cos(q1)],\n",
    "               [q3*sp.cos(q2)*sp.sin(q1)],\n",
    "               [d1 + q3*sp.sin(q2)]])\n",
    "\n",
    "# Variables articulares\n",
    "q = sp.Matrix([q1, q2, q3])\n",
    "\n",
    "# Jacobiano analítico\n",
    "Ja2 = X.jacobian(q)\n",
    "display(Ja2)"
   ]
  },
  {
   "cell_type": "markdown",
   "metadata": {},
   "source": [
    "### Diap 47: Singularidades Cinemáticas - Ejemplo 1"
   ]
  },
  {
   "cell_type": "markdown",
   "metadata": {},
   "source": [
    "Se considera solamente la parte correspondiente a la posición"
   ]
  },
  {
   "cell_type": "code",
   "execution_count": 19,
   "metadata": {},
   "outputs": [
    {
     "name": "stdout",
     "output_type": "stream",
     "text": [
      "El determinante es:\n"
     ]
    },
    {
     "data": {
      "text/latex": [
       "$\\displaystyle l_{1} l_{2} \\sin{\\left(q_{2} \\right)}$"
      ],
      "text/plain": [
       "l1*l2*sin(q2)"
      ]
     },
     "metadata": {},
     "output_type": "display_data"
    },
    {
     "name": "stdout",
     "output_type": "stream",
     "text": [
      "El rango es: 2\n"
     ]
    }
   ],
   "source": [
    "# Extraer solo la parte correspondiente a la posición\n",
    "Jaxy = Ja1[0:2,0:2]\n",
    "\n",
    "# Determinante\n",
    "det = sp.simplify(Jaxy.det())\n",
    "# Rango\n",
    "r = Jaxy.rank()\n",
    "\n",
    "print(\"El determinante es:\"); display(det)\n",
    "print(\"El rango es:\", r)"
   ]
  },
  {
   "cell_type": "markdown",
   "metadata": {},
   "source": [
    "* Caso singular 1: cuando $q_2=0$"
   ]
  },
  {
   "cell_type": "code",
   "execution_count": 20,
   "metadata": {},
   "outputs": [
    {
     "name": "stdout",
     "output_type": "stream",
     "text": [
      "Jacobiano analítico cuando q2=0:\n"
     ]
    },
    {
     "data": {
      "text/latex": [
       "$\\displaystyle \\left[\\begin{matrix}\\left(- l_{1} - l_{2}\\right) \\sin{\\left(q_{1} \\right)} & - l_{2} \\sin{\\left(q_{1} \\right)}\\\\\\left(l_{1} + l_{2}\\right) \\cos{\\left(q_{1} \\right)} & l_{2} \\cos{\\left(q_{1} \\right)}\\end{matrix}\\right]$"
      ],
      "text/plain": [
       "Matrix([\n",
       "[(-l1 - l2)*sin(q1), -l2*sin(q1)],\n",
       "[ (l1 + l2)*cos(q1),  l2*cos(q1)]])"
      ]
     },
     "metadata": {},
     "output_type": "display_data"
    },
    {
     "name": "stdout",
     "output_type": "stream",
     "text": [
      "Determinante cuando q2=0: 0\n",
      "Rango cuando q2=0: 1\n"
     ]
    }
   ],
   "source": [
    "J1 = sp.simplify(Jaxy.subs({q2: 0}))\n",
    "det1 = J1.det()\n",
    "r1 = J1.rank()\n",
    "\n",
    "print(\"Jacobiano analítico cuando q2=0:\"); display(J1)\n",
    "print(\"Determinante cuando q2=0:\", det1)\n",
    "print(\"Rango cuando q2=0:\", r1)"
   ]
  },
  {
   "cell_type": "markdown",
   "metadata": {},
   "source": [
    "* Caso singular 2: cuando $q_2=\\pi$"
   ]
  },
  {
   "cell_type": "code",
   "execution_count": 21,
   "metadata": {},
   "outputs": [
    {
     "name": "stdout",
     "output_type": "stream",
     "text": [
      "Jacobiano analítico cuando q2=pi:\n"
     ]
    },
    {
     "data": {
      "text/latex": [
       "$\\displaystyle \\left[\\begin{matrix}\\left(- l_{1} + l_{2}\\right) \\sin{\\left(q_{1} \\right)} & l_{2} \\sin{\\left(q_{1} \\right)}\\\\\\left(l_{1} - l_{2}\\right) \\cos{\\left(q_{1} \\right)} & - l_{2} \\cos{\\left(q_{1} \\right)}\\end{matrix}\\right]$"
      ],
      "text/plain": [
       "Matrix([\n",
       "[(-l1 + l2)*sin(q1),  l2*sin(q1)],\n",
       "[ (l1 - l2)*cos(q1), -l2*cos(q1)]])"
      ]
     },
     "metadata": {},
     "output_type": "display_data"
    },
    {
     "name": "stdout",
     "output_type": "stream",
     "text": [
      "Determinante cuando q2=pi: 0\n",
      "Rango cuando q2=pi: 1\n"
     ]
    }
   ],
   "source": [
    "J2 = sp.simplify(Jaxy.subs({q2:sp.pi}))\n",
    "det2 = J2.det()\n",
    "r2 = J2.rank()\n",
    "\n",
    "print(\"Jacobiano analítico cuando q2=pi:\"); display(J2)\n",
    "print(\"Determinante cuando q2=pi:\", det2)\n",
    "print(\"Rango cuando q2=pi:\", r2)"
   ]
  },
  {
   "cell_type": "markdown",
   "metadata": {},
   "source": [
    "### Diap 48: Singularidades cinemáticas - Ejemplo 2"
   ]
  },
  {
   "cell_type": "code",
   "execution_count": 22,
   "metadata": {},
   "outputs": [
    {
     "name": "stdout",
     "output_type": "stream",
     "text": [
      "El determinante es:\n"
     ]
    },
    {
     "data": {
      "text/latex": [
       "$\\displaystyle q_{3}^{2} \\cos{\\left(q_{2} \\right)}$"
      ],
      "text/plain": [
       "q3**2*cos(q2)"
      ]
     },
     "metadata": {},
     "output_type": "display_data"
    },
    {
     "name": "stdout",
     "output_type": "stream",
     "text": [
      "El rango es: 3\n"
     ]
    }
   ],
   "source": [
    "# Determinante\n",
    "det = sp.simplify(Ja2.det())\n",
    "# Rango\n",
    "r = Ja2.rank()\n",
    "\n",
    "print(\"El determinante es:\"); display(det)\n",
    "print(\"El rango es:\", r)"
   ]
  },
  {
   "cell_type": "code",
   "execution_count": 23,
   "metadata": {},
   "outputs": [
    {
     "name": "stdout",
     "output_type": "stream",
     "text": [
      "Jacobiano analítico cuando q2=pi:\n"
     ]
    },
    {
     "data": {
      "text/latex": [
       "$\\displaystyle \\left[\\begin{matrix}0 & - q_{3} \\cos{\\left(q_{1} \\right)} & 0\\\\0 & - q_{3} \\sin{\\left(q_{1} \\right)} & 0\\\\0 & 0 & 1\\end{matrix}\\right]$"
      ],
      "text/plain": [
       "Matrix([\n",
       "[0, -q3*cos(q1), 0],\n",
       "[0, -q3*sin(q1), 0],\n",
       "[0,           0, 1]])"
      ]
     },
     "metadata": {},
     "output_type": "display_data"
    },
    {
     "name": "stdout",
     "output_type": "stream",
     "text": [
      "Determinante: 0\n",
      "Rango: 2\n"
     ]
    }
   ],
   "source": [
    "# Singularidad 1: cuando q2=90\n",
    "J1 = sp.simplify(Ja2.subs({q2:sp.pi/2}))\n",
    "# Determinante\n",
    "det1 = J1.det()\n",
    "# Rango\n",
    "r1 = J1.rank()\n",
    "\n",
    "print(\"Jacobiano analítico cuando q2=pi:\"); display(J1)\n",
    "print(\"Determinante:\", det1)\n",
    "print(\"Rango:\", r1)"
   ]
  },
  {
   "cell_type": "markdown",
   "metadata": {},
   "source": [
    "* Singularidad 2: cuando $q_2 = -90$"
   ]
  },
  {
   "cell_type": "code",
   "execution_count": 24,
   "metadata": {},
   "outputs": [
    {
     "name": "stdout",
     "output_type": "stream",
     "text": [
      "Jacobiano analítico cuando q2=-pi:\n"
     ]
    },
    {
     "data": {
      "text/latex": [
       "$\\displaystyle \\left[\\begin{matrix}0 & q_{3} \\cos{\\left(q_{1} \\right)} & 0\\\\0 & q_{3} \\sin{\\left(q_{1} \\right)} & 0\\\\0 & 0 & -1\\end{matrix}\\right]$"
      ],
      "text/plain": [
       "Matrix([\n",
       "[0, q3*cos(q1),  0],\n",
       "[0, q3*sin(q1),  0],\n",
       "[0,          0, -1]])"
      ]
     },
     "metadata": {},
     "output_type": "display_data"
    },
    {
     "name": "stdout",
     "output_type": "stream",
     "text": [
      "Determinante: 0\n",
      "Rango: 2\n"
     ]
    }
   ],
   "source": [
    "J2 = sp.simplify(Ja2.subs({q2:-sp.pi/2}))\n",
    "det2 = J2.det()\n",
    "r2 = J2.rank()\n",
    "\n",
    "print(\"Jacobiano analítico cuando q2=-pi:\"); display(J2)\n",
    "print(\"Determinante:\", det2)\n",
    "print(\"Rango:\", r2)"
   ]
  },
  {
   "cell_type": "markdown",
   "metadata": {},
   "source": [
    "* Singularidad 3: cuando $q_3 = 0$"
   ]
  },
  {
   "cell_type": "code",
   "execution_count": 25,
   "metadata": {},
   "outputs": [
    {
     "name": "stdout",
     "output_type": "stream",
     "text": [
      "Jacobiano analítico cuando q3=0:\n"
     ]
    },
    {
     "data": {
      "text/latex": [
       "$\\displaystyle \\left[\\begin{matrix}0 & 0 & \\cos{\\left(q_{1} \\right)} \\cos{\\left(q_{2} \\right)}\\\\0 & 0 & \\sin{\\left(q_{1} \\right)} \\cos{\\left(q_{2} \\right)}\\\\0 & 0 & \\sin{\\left(q_{2} \\right)}\\end{matrix}\\right]$"
      ],
      "text/plain": [
       "Matrix([\n",
       "[0, 0, cos(q1)*cos(q2)],\n",
       "[0, 0, sin(q1)*cos(q2)],\n",
       "[0, 0,         sin(q2)]])"
      ]
     },
     "metadata": {},
     "output_type": "display_data"
    },
    {
     "name": "stdout",
     "output_type": "stream",
     "text": [
      "Determinante:\n"
     ]
    },
    {
     "data": {
      "text/latex": [
       "$\\displaystyle 0$"
      ],
      "text/plain": [
       "0"
      ]
     },
     "metadata": {},
     "output_type": "display_data"
    },
    {
     "name": "stdout",
     "output_type": "stream",
     "text": [
      "Rango: 1\n"
     ]
    }
   ],
   "source": [
    "J3 = sp.simplify(Ja2.subs({q3:0}))\n",
    "det3 = J3.det()\n",
    "r3 = J3.rank()\n",
    "\n",
    "print(\"Jacobiano analítico cuando q3=0:\"); display(J3)\n",
    "print(\"Determinante:\"); display(det3)\n",
    "print(\"Rango:\", r3)"
   ]
  },
  {
   "cell_type": "markdown",
   "metadata": {},
   "source": [
    "### Diap 51: Cinemática Diferencial Inversa - Ejemplo"
   ]
  },
  {
   "cell_type": "code",
   "execution_count": 26,
   "metadata": {},
   "outputs": [
    {
     "data": {
      "text/latex": [
       "$\\displaystyle \\left[\\begin{matrix}- L_{1} \\sin{\\left(q_{1} \\right)} - L_{2} \\sin{\\left(q_{1} + q_{2} \\right)} - L_{3} \\sin{\\left(q_{1} + q_{2} + q_{3} \\right)} & - L_{2} \\sin{\\left(q_{1} + q_{2} \\right)} - L_{3} \\sin{\\left(q_{1} + q_{2} + q_{3} \\right)} & - L_{3} \\sin{\\left(q_{1} + q_{2} + q_{3} \\right)}\\\\L_{1} \\cos{\\left(q_{1} \\right)} + L_{2} \\cos{\\left(q_{1} + q_{2} \\right)} + L_{3} \\cos{\\left(q_{1} + q_{2} + q_{3} \\right)} & L_{2} \\cos{\\left(q_{1} + q_{2} \\right)} + L_{3} \\cos{\\left(q_{1} + q_{2} + q_{3} \\right)} & L_{3} \\cos{\\left(q_{1} + q_{2} + q_{3} \\right)}\\\\1 & 1 & 1\\end{matrix}\\right]$"
      ],
      "text/plain": [
       "Matrix([\n",
       "[-L1*sin(q1) - L2*sin(q1 + q2) - L3*sin(q1 + q2 + q3), -L2*sin(q1 + q2) - L3*sin(q1 + q2 + q3), -L3*sin(q1 + q2 + q3)],\n",
       "[ L1*cos(q1) + L2*cos(q1 + q2) + L3*cos(q1 + q2 + q3),  L2*cos(q1 + q2) + L3*cos(q1 + q2 + q3),  L3*cos(q1 + q2 + q3)],\n",
       "[                                                   1,                                       1,                     1]])"
      ]
     },
     "execution_count": 26,
     "metadata": {},
     "output_type": "execute_result"
    }
   ],
   "source": [
    "q1, q2, q3, L1, L2, L3 = sp.symbols(\"q1 q2 q3 L1 L2 L3\")\n",
    "\n",
    "# Cinemática directa\n",
    "x = L1*sp.cos(q1) + L2*sp.cos(q1+q2) + L3*sp.cos(q1+q2+q3)\n",
    "y = L1*sp.sin(q1) + L2*sp.sin(q1+q2) + L3*sp.sin(q1+q2+q3)\n",
    "th = q1 + q2 + q3\n",
    "\n",
    "X = sp.Matrix([x, y, th])\n",
    "q = sp.Matrix([q1, q2, q3])\n",
    "\n",
    "# Jacobiano analítico\n",
    "Ja = X.jacobian(q)\n",
    "Ja"
   ]
  },
  {
   "cell_type": "code",
   "execution_count": 27,
   "metadata": {},
   "outputs": [
    {
     "data": {
      "text/latex": [
       "$\\displaystyle \\left[\\begin{matrix}0 & 0.25 \\sqrt{2} & 0.25 \\sqrt{2}\\\\0.5 \\sqrt{2} + 1 & 0.25 \\sqrt{2} + 1 & 0.25 \\sqrt{2}\\\\1 & 1 & 1\\end{matrix}\\right]$"
      ],
      "text/plain": [
       "Matrix([\n",
       "[              0,     0.25*sqrt(2), 0.25*sqrt(2)],\n",
       "[0.5*sqrt(2) + 1, 0.25*sqrt(2) + 1, 0.25*sqrt(2)],\n",
       "[              1,                1,            1]])"
      ]
     },
     "execution_count": 27,
     "metadata": {},
     "output_type": "execute_result"
    }
   ],
   "source": [
    "# Configuración\n",
    "qd = [sp.pi/4, -sp.pi/4, -sp.pi/4]\n",
    "\n",
    "# Reemplazando valores en el Jacobiano\n",
    "J = Ja.subs({q1: qd[0], q2: qd[1], q3: qd[2], L1:0.5, L2:1, L3:0.5})\n",
    "J"
   ]
  },
  {
   "cell_type": "code",
   "execution_count": 28,
   "metadata": {},
   "outputs": [
    {
     "name": "stdout",
     "output_type": "stream",
     "text": [
      "Velocidad articular deseada:\n"
     ]
    },
    {
     "data": {
      "text/latex": [
       "$\\displaystyle \\left[\\begin{matrix}-1.9799\\\\2.6799\\\\-0.7\\end{matrix}\\right]$"
      ],
      "text/plain": [
       "Matrix([\n",
       "[-1.9799],\n",
       "[ 2.6799],\n",
       "[   -0.7]])"
      ]
     },
     "metadata": {},
     "output_type": "display_data"
    }
   ],
   "source": [
    "# Velocidad deseada\n",
    "V = sp.Matrix([0.7, 0, 0])\n",
    "\n",
    "# Velocidad articular\n",
    "dq = J.inv()*V\n",
    "\n",
    "print(\"Velocidad articular deseada:\"); display( sp.N(dq, 6) )"
   ]
  },
  {
   "cell_type": "markdown",
   "metadata": {},
   "source": [
    "### Diap 55: Cinemática Diferencial Inversa - Ejemplo"
   ]
  },
  {
   "cell_type": "code",
   "execution_count": 29,
   "metadata": {},
   "outputs": [
    {
     "data": {
      "text/latex": [
       "$\\displaystyle \\left[\\begin{matrix}0 & - \\sqrt{2} & 0 & - \\frac{\\sqrt{2}}{2}\\\\0 & 0 & -1 & 0\\\\0 & 0 & 0 & - \\frac{\\sqrt{2}}{2}\\\\0 & 0 & \\frac{\\sqrt{2}}{2} & 0\\\\0 & -1 & 0 & -1\\\\1 & 0 & \\frac{\\sqrt{2}}{2} & 0\\end{matrix}\\right]$"
      ],
      "text/plain": [
       "Matrix([\n",
       "[0, -sqrt(2),         0, -sqrt(2)/2],\n",
       "[0,        0,        -1,          0],\n",
       "[0,        0,         0, -sqrt(2)/2],\n",
       "[0,        0, sqrt(2)/2,          0],\n",
       "[0,       -1,         0,         -1],\n",
       "[1,        0, sqrt(2)/2,          0]])"
      ]
     },
     "execution_count": 29,
     "metadata": {},
     "output_type": "execute_result"
    }
   ],
   "source": [
    "# Jacobiano\n",
    "J = sp.Matrix([[0, -sp.sqrt(2), 0, -sp.sqrt(2)/2],\n",
    "               [0, 0, -1, 0],\n",
    "               [0, 0, 0, -sp.sqrt(2)/2],\n",
    "               [0, 0, sp.sqrt(2)/2, 0],\n",
    "               [0, -1, 0, -1],\n",
    "               [1, 0, sp.sqrt(2)/2, 0]])\n",
    "J"
   ]
  },
  {
   "cell_type": "code",
   "execution_count": 30,
   "metadata": {},
   "outputs": [
    {
     "data": {
      "text/latex": [
       "$\\displaystyle \\left[\\begin{matrix}0 & \\frac{\\sqrt{2}}{3} & 0 & - \\frac{1}{3} & 0 & 1\\\\- \\frac{\\sqrt{2}}{2} & 0 & \\frac{\\sqrt{2}}{2} & 0 & 0 & 0\\\\0 & - \\frac{2}{3} & 0 & \\frac{\\sqrt{2}}{3} & 0 & 0\\\\\\frac{\\sqrt{2}}{4} & 0 & - \\frac{3 \\sqrt{2}}{4} & 0 & - \\frac{1}{2} & 0\\end{matrix}\\right]$"
      ],
      "text/plain": [
       "Matrix([\n",
       "[         0, sqrt(2)/3,            0,      -1/3,    0, 1],\n",
       "[-sqrt(2)/2,         0,    sqrt(2)/2,         0,    0, 0],\n",
       "[         0,      -2/3,            0, sqrt(2)/3,    0, 0],\n",
       "[ sqrt(2)/4,         0, -3*sqrt(2)/4,         0, -1/2, 0]])"
      ]
     },
     "execution_count": 30,
     "metadata": {},
     "output_type": "execute_result"
    }
   ],
   "source": [
    "# Pseudoinversa del Jacobiano (la matriz no es cuadrada)\n",
    "Jpinv = J.pinv()\n",
    "Jpinv"
   ]
  },
  {
   "cell_type": "code",
   "execution_count": 31,
   "metadata": {},
   "outputs": [
    {
     "data": {
      "text/latex": [
       "$\\displaystyle \\left[\\begin{matrix}0\\\\- \\frac{\\sqrt{2} L}{2}\\\\0\\\\\\frac{\\sqrt{2} \\cdot \\left(3 L + 1\\right)}{4}\\end{matrix}\\right]$"
      ],
      "text/plain": [
       "Matrix([\n",
       "[                  0],\n",
       "[       -sqrt(2)*L/2],\n",
       "[                  0],\n",
       "[sqrt(2)*(3*L + 1)/4]])"
      ]
     },
     "execution_count": 31,
     "metadata": {},
     "output_type": "execute_result"
    }
   ],
   "source": [
    "L = sp.symbols(\"L\")\n",
    "\n",
    "# Twist deseado\n",
    "xi = sp.Matrix([0, 0, -L, 0, -sp.sqrt(2)/2, 0])\n",
    "\n",
    "# Velocidad articular\n",
    "dq = sp.simplify(Jpinv * xi)\n",
    "dq"
   ]
  },
  {
   "cell_type": "markdown",
   "metadata": {},
   "source": [
    "**Nota**: si el Jacobiano es más complicado, no utilizar `pinv` sino la expresión explícita de la pseudoinversa:"
   ]
  },
  {
   "cell_type": "code",
   "execution_count": 32,
   "metadata": {},
   "outputs": [
    {
     "data": {
      "text/latex": [
       "$\\displaystyle \\left[\\begin{matrix}0 & \\frac{\\sqrt{2}}{3} & 0 & - \\frac{1}{3} & 0 & 1\\\\- \\frac{\\sqrt{2}}{2} & 0 & \\frac{\\sqrt{2}}{2} & 0 & 0 & 0\\\\0 & - \\frac{2}{3} & 0 & \\frac{\\sqrt{2}}{3} & 0 & 0\\\\\\frac{\\sqrt{2}}{4} & 0 & - \\frac{3 \\sqrt{2}}{4} & 0 & - \\frac{1}{2} & 0\\end{matrix}\\right]$"
      ],
      "text/plain": [
       "Matrix([\n",
       "[         0, sqrt(2)/3,            0,      -1/3,    0, 1],\n",
       "[-sqrt(2)/2,         0,    sqrt(2)/2,         0,    0, 0],\n",
       "[         0,      -2/3,            0, sqrt(2)/3,    0, 0],\n",
       "[ sqrt(2)/4,         0, -3*sqrt(2)/4,         0, -1/2, 0]])"
      ]
     },
     "execution_count": 32,
     "metadata": {},
     "output_type": "execute_result"
    }
   ],
   "source": [
    "Jpinv = sp.simplify((J.T*J).inv()*J.T)\n",
    "Jpinv"
   ]
  },
  {
   "cell_type": "markdown",
   "metadata": {},
   "source": [
    "### Diap 62: Toques y Fuerzas"
   ]
  },
  {
   "cell_type": "code",
   "execution_count": 33,
   "metadata": {},
   "outputs": [
    {
     "data": {
      "text/latex": [
       "$\\displaystyle \\left[\\begin{matrix}0\\\\- \\sqrt{2}\\\\0\\\\- \\frac{\\sqrt{2}}{2}\\end{matrix}\\right]$"
      ],
      "text/plain": [
       "Matrix([\n",
       "[         0],\n",
       "[  -sqrt(2)],\n",
       "[         0],\n",
       "[-sqrt(2)/2]])"
      ]
     },
     "execution_count": 33,
     "metadata": {},
     "output_type": "execute_result"
    }
   ],
   "source": [
    "F = sp.Matrix([1, 0, 0, 0, 0, 0])\n",
    "\n",
    "tau = J.T * F\n",
    "tau"
   ]
  }
 ],
 "metadata": {
  "kernelspec": {
   "display_name": "Python 3.9.12 ('base')",
   "language": "python",
   "name": "python3"
  },
  "language_info": {
   "codemirror_mode": {
    "name": "ipython",
    "version": 3
   },
   "file_extension": ".py",
   "mimetype": "text/x-python",
   "name": "python",
   "nbconvert_exporter": "python",
   "pygments_lexer": "ipython3",
   "version": "3.9.12"
  },
  "vscode": {
   "interpreter": {
    "hash": "470260c6919e9ff48e1a573ae64d2f776c76ca8b99100eba78f1a4e3574395cd"
   }
  }
 },
 "nbformat": 4,
 "nbformat_minor": 2
}
