{
 "cells": [
  {
   "cell_type": "markdown",
   "metadata": {},
   "source": [
    "# Ejercicios 2: Cinemática Inversa (soluciones)\n",
    "[![Open In Colab](https://colab.research.google.com/assets/colab-badge.svg)](https://colab.research.google.com/github/oscar-ramos/fundamentos-robotica-python/blob/main/5-Cinematica-Inversa/5-3-Ejercicios2-soluciones.ipynb)\n",
    "\n",
    "Oscar E. Ramos Ponce, Universidad de Ingeniería y Tecnología - UTEC\n",
    "Fundamentos de Robótica\n",
    "\n",
    "Este archivo contiene las soluciones del conjunto de Ejercicios: Cinemática Inversa"
   ]
  },
  {
   "cell_type": "code",
   "execution_count": 1,
   "metadata": {},
   "outputs": [],
   "source": [
    "import sympy as sp   # Para el cálculo simbólico\n",
    "import numpy as np   # Para el cálculo numérico"
   ]
  },
  {
   "cell_type": "markdown",
   "metadata": {},
   "source": [
    "### Pregunta 1"
   ]
  },
  {
   "cell_type": "markdown",
   "metadata": {},
   "source": [
    "Por comparación de términos se tiene:\n",
    "\n",
    "$q_1 = \\text{atan2}(a_y, a_x)$\n",
    "\n",
    "$q_3 = \\text{atan2}\\left(\\dfrac{n_y}{a_x}, \\dfrac{o_y}{a_x}\\right)$\n",
    "\n",
    "Para el cálculo de $q_2$, que es prismático, se despeja $q_2 \\cos(q_1)$ de la expresión de $p_y$, y se despeja $q_2 \\sin(q_1)$ de la expresión de $p_x$. Luego, ambos términos se elevan al cuadrado y se suman, para obtener $\\cos^2(q_1) + \\sin^2(q_1) = 1$ y despejar $q_2$, obteniéndose:\n",
    "\n",
    "$q_2 = \\pm \\sqrt{\\left(a_{3} \\sin{\\left(q_{1} \\right)} \\sin{\\left(q_{3} \\right)} + px\\right)^{2} + \\left(-a_{3} \\sin{\\left(q_{3} \\right)} \\cos{\\left(q_{1} \\right)} + py\\right)^{2}}$\n"
   ]
  },
  {
   "cell_type": "markdown",
   "metadata": {},
   "source": [
    "### Pregunta 2"
   ]
  },
  {
   "cell_type": "markdown",
   "metadata": {},
   "source": [
    "Ver la solución para examen parcial 2016-1"
   ]
  },
  {
   "cell_type": "markdown",
   "metadata": {},
   "source": [
    "### Pregunta 3"
   ]
  },
  {
   "cell_type": "markdown",
   "metadata": {},
   "source": [
    "Por comparación de términos se tiene:\n",
    "\n",
    "$\\theta_1 = \\text{atan2}(a_x, -a_y)$\n",
    "\n",
    "Para $\\theta_2$ se despeja $\\cos(\\theta_2)$ de la expresión asociada con el término $p_y$, considerando que ya se conoce el valor de $\\theta_1$. Luego, se despeja $\\sin(\\theta_2)$ de la expresión de $p_z$ y se reemplaza en el arcotangente:\n",
    "\n",
    "$\\theta_2 = \\text{atan2} \\left( \\dfrac{p_z}{L_2}, \\dfrac{p_y}{L_2\\sin(\\theta_1)}-\\dfrac{L_1}{L_2} \\right)$\n",
    "\n",
    "Usando los términos $n_z$ y $o_z$ se obtiene $\\theta_2 + \\theta_3$. Dado que ya se conoce $\\theta_2$, se puede despejar $\\theta_3$:\n",
    "\n",
    "$\\theta_3 = \\text{atan2}(n_z, o_z) - \\theta_2$"
   ]
  },
  {
   "cell_type": "markdown",
   "metadata": {},
   "source": [
    "### Pregunta 4\n"
   ]
  },
  {
   "cell_type": "code",
   "execution_count": 2,
   "metadata": {},
   "outputs": [
    {
     "data": {
      "text/latex": [
       "$\\displaystyle L^{2} + q_{2}^{2}$"
      ],
      "text/plain": [
       "L**2 + q2**2"
      ]
     },
     "execution_count": 2,
     "metadata": {},
     "output_type": "execute_result"
    }
   ],
   "source": [
    "# Para calcular q2\n",
    "L, q1, q2 = sp.symbols(\"L q1 q2\")\n",
    "\n",
    "x = L*sp.cos(q1) - q2*sp.sin(q1)\n",
    "y = L*sp.sin(q1) + q2*sp.cos(q1)\n",
    "\n",
    "sp.simplify(x**2 + y**2)"
   ]
  },
  {
   "cell_type": "markdown",
   "metadata": {},
   "source": [
    "Del resultado anterior, se despeja $q_2$:\n",
    "\n",
    "$q_2 = \\pm \\sqrt{ x^2 + y^2 - L^2 }$\n",
    "\n",
    "Para calcular $q_1$ se pude aprovechar que ya se conoce $q_2$, y que las expresiones de $x$ y de $y$ son lineales en $\\sin(q_1)$ y $\\cos(q_1)$. Así, se puede formar el siguiente  sistema de ecuaciones lineales:\n",
    "\n",
    "$\\begin{bmatrix}x \\\\ y\\end{bmatrix} = \\begin{bmatrix}-q_2 & l \\\\ l & q_2\\end{bmatrix} \\begin{bmatrix}\\sin(q_1) \\\\ \\cos(q_1)\\end{bmatrix}$"
   ]
  },
  {
   "cell_type": "code",
   "execution_count": 3,
   "metadata": {},
   "outputs": [
    {
     "name": "stdout",
     "output_type": "stream",
     "text": [
      "sen(q1):\n"
     ]
    },
    {
     "data": {
      "text/latex": [
       "$\\displaystyle \\frac{L y - q_{2} x}{L^{2} + q_{2}^{2}}$"
      ],
      "text/plain": [
       "(L*y - q2*x)/(L**2 + q2**2)"
      ]
     },
     "metadata": {},
     "output_type": "display_data"
    },
    {
     "name": "stdout",
     "output_type": "stream",
     "text": [
      "cos(q1):\n"
     ]
    },
    {
     "data": {
      "text/latex": [
       "$\\displaystyle \\frac{L x + q_{2} y}{L^{2} + q_{2}^{2}}$"
      ],
      "text/plain": [
       "(L*x + q2*y)/(L**2 + q2**2)"
      ]
     },
     "metadata": {},
     "output_type": "display_data"
    }
   ],
   "source": [
    "x, y = sp.symbols(\"x y\")\n",
    "# Matriz y vector\n",
    "A = sp.Matrix([[-q2, L], [L, q2]])\n",
    "b = sp.Matrix([[x], [y]])\n",
    "# Resolución para seno y coseno\n",
    "res = sp.simplify(A.inv() * b)\n",
    "s1 = res[0]\n",
    "c1 = res[1]\n",
    "print(\"sen(q1):\"); display(s1)\n",
    "print(\"cos(q1):\"); display(c1)"
   ]
  },
  {
   "cell_type": "markdown",
   "metadata": {},
   "source": [
    "De las expresiones anteriores, el valor de $q_1$ es\n",
    "\n",
    "$q_1 = \\text{atan2}\\left( \\dfrac{yl - q_2 x}{l^2 + q_2^2}, \\dfrac{xl + q_2 y}{l^2 + q_2^2} \\right)$"
   ]
  },
  {
   "cell_type": "markdown",
   "metadata": {},
   "source": [
    "### Pregunta 5"
   ]
  },
  {
   "cell_type": "markdown",
   "metadata": {},
   "source": [
    "a) El espacio de trabajo es el espacio contenido entre los círculos de radio 1.7 cm y el de radio 0.3.\n",
    "\n",
    "b) Se cubre todo el círculo interior (es un círculo con radio 1.7 cm"
   ]
  },
  {
   "cell_type": "markdown",
   "metadata": {},
   "source": [
    "### Pregunta 6"
   ]
  },
  {
   "cell_type": "code",
   "execution_count": 4,
   "metadata": {},
   "outputs": [],
   "source": [
    "def sTdh(d, th, a, alpha):\n",
    "    cth = sp.cos(th); sth = sp.sin(th)\n",
    "    ca = sp.cos(alpha); sa = sp.sin(alpha)\n",
    "    Tdh = sp.Matrix([[cth, -ca*sth,  sa*sth, a*cth],\n",
    "                     [sth,  ca*cth, -sa*cth, a*sth],\n",
    "                     [0,        sa,     ca,      d],\n",
    "                     [0,         0,      0,      1]])\n",
    "    return Tdh"
   ]
  },
  {
   "cell_type": "markdown",
   "metadata": {},
   "source": [
    "a) Parte a"
   ]
  },
  {
   "cell_type": "code",
   "execution_count": 5,
   "metadata": {},
   "outputs": [
    {
     "data": {
      "text/latex": [
       "$\\displaystyle \\left[\\begin{matrix}\\sin{\\left(q_{1} \\right)} & - \\cos{\\left(q_{1} \\right)} & 0 & d_{1} \\cos{\\left(q_{1} \\right)} - q_{2} \\sin{\\left(q_{1} \\right)} + q_{3} \\cos{\\left(q_{1} \\right)}\\\\- \\cos{\\left(q_{1} \\right)} & - \\sin{\\left(q_{1} \\right)} & 0 & d_{1} \\sin{\\left(q_{1} \\right)} + q_{2} \\cos{\\left(q_{1} \\right)} + q_{3} \\sin{\\left(q_{1} \\right)}\\\\0 & 0 & -1 & 0\\\\0 & 0 & 0 & 1\\end{matrix}\\right]$"
      ],
      "text/plain": [
       "Matrix([\n",
       "[ sin(q1), -cos(q1),  0, d1*cos(q1) - q2*sin(q1) + q3*cos(q1)],\n",
       "[-cos(q1), -sin(q1),  0, d1*sin(q1) + q2*cos(q1) + q3*sin(q1)],\n",
       "[       0,        0, -1,                                    0],\n",
       "[       0,        0,  0,                                    1]])"
      ]
     },
     "metadata": {},
     "output_type": "display_data"
    }
   ],
   "source": [
    "q1, q2, q3, d1 = sp.symbols(\"q1 q2 q3 d1\")\n",
    "T01 = sTdh(    0,       q1, d1,  -sp.pi/2)\n",
    "T12 = sTdh(   q2, -sp.pi/2,  0,  -sp.pi/2)\n",
    "T23 = sTdh(   q3,  sp.pi/2,  0,  -sp.pi/2)\n",
    "# Transformación homogénea final\n",
    "Tf = sp.simplify(T01*T12*T23)\n",
    "display(Tf)"
   ]
  },
  {
   "cell_type": "markdown",
   "metadata": {},
   "source": [
    "Por inspeccion:\n",
    "\n",
    "$q_1 = \\text{atan2}(n_x, -n_y)$"
   ]
  },
  {
   "cell_type": "code",
   "execution_count": 6,
   "metadata": {},
   "outputs": [
    {
     "data": {
      "text/latex": [
       "$\\displaystyle - q_{2}$"
      ],
      "text/plain": [
       "-q2"
      ]
     },
     "execution_count": 6,
     "metadata": {},
     "output_type": "execute_result"
    }
   ],
   "source": [
    "# Para q2:\n",
    "d1, q1, q2, q3 = sp.symbols(\"d1 q1 q2 q3\")\n",
    "\n",
    "px = d1*sp.cos(q1) - q2*sp.sin(q1) + q3*sp.cos(q1)\n",
    "py = d1*sp.sin(q1) + q2*sp.cos(q1) + q3*sp.sin(q1)\n",
    "\n",
    "# Luego: s1 px - c1 py\n",
    "sp.simplify(sp.sin(q1)*px - sp.cos(q1) * py)"
   ]
  },
  {
   "cell_type": "markdown",
   "metadata": {},
   "source": [
    "De la expresión anterior se tiene $-q_2 = p_x\\sin(q_1) - p_y \\cos(q_1)$, de donde se obtiene\n",
    "\n",
    "$q_2 = -p_xn_x - p_y n_y$\n",
    "\n",
    "Para $q_3$, se puede despejar la expresión de $p_x$ o de $p_y$. Por ejemplo, usando $p_x$ se obtiene\n",
    "\n",
    "$q_3 = \\dfrac{p_x + d_1n_y + q_2 n_x}{-n_y}$\n",
    "\n"
   ]
  },
  {
   "cell_type": "markdown",
   "metadata": {},
   "source": [
    "b) Parte b"
   ]
  },
  {
   "cell_type": "code",
   "execution_count": 7,
   "metadata": {},
   "outputs": [
    {
     "name": "stdout",
     "output_type": "stream",
     "text": [
      "[0.388 0.656 1.065]\n"
     ]
    }
   ],
   "source": [
    "# Método de Newton\n",
    "import numpy as np\n",
    "cos=np.cos; sin=np.sin\n",
    "\n",
    "d1 = 0.5\n",
    "xd = np.array([1.2, 1.2, 0]) # Valor deseado en el espacio cartesiano\n",
    "q  = np.array([0.5, 0.5, 0.5]) # Valor inicial en el espacio articular\n",
    "epsilon = 1e-3\n",
    "max_iter = 100  # Maximo numero de iteraciones\n",
    " \n",
    "# Iteraciones: Método de Newton\n",
    "for i in range(max_iter):\n",
    "    q1 = q[0]; q2 = q[1]; q3 = q[2]\n",
    "    J = np.array([  [-d1*sin(q1)-q2*cos(q1)-q3*sin(q1), -sin(q1), cos(q1)],\n",
    "                    [ d1*cos(q1)-q2*sin(q1)+q3*cos(q1),  cos(q1), sin(q1)], [0,0,0]])\n",
    "    #print(J)\n",
    "    f = np.array([d1*cos(q1)-q2*sin(q1)+q3*cos(q1), d1*sin(q1)+q2*cos(q1)+q3*sin(q1), 0])\n",
    "    e = xd-f\n",
    "    #print(e)\n",
    "    q = q + np.dot(np.linalg.pinv(J), e)\n",
    "    # Condicion de término\n",
    "    if (np.linalg.norm(e) < epsilon):\n",
    "        break\n",
    "print(np.round(q,3))"
   ]
  },
  {
   "cell_type": "code",
   "execution_count": 8,
   "metadata": {},
   "outputs": [
    {
     "name": "stdout",
     "output_type": "stream",
     "text": [
      "[[ 0.378 -0.926 -0.     1.2  ]\n",
      " [-0.926 -0.378  0.     1.199]\n",
      " [ 0.    -0.    -1.    -0.   ]\n",
      " [ 0.     0.     0.     1.   ]]\n"
     ]
    }
   ],
   "source": [
    "# Verificación\n",
    "def Tdh(d, th, a, alpha):\n",
    "    cth = np.cos(th);    sth = np.sin(th)\n",
    "    ca = np.cos(alpha);  sa = np.sin(alpha)\n",
    "    Tdh = np.array([[cth, -ca*sth,  sa*sth, a*cth],\n",
    "                    [sth,  ca*cth, -sa*cth, a*sth],\n",
    "                    [0,        sa,     ca,      d],\n",
    "                    [0,         0,      0,      1]])\n",
    "    return Tdh\n",
    "\n",
    "# Cinemática directa del robot\n",
    "def cdirecta_preg6(q, d1=0.5):\n",
    "    \"\"\" Retorna los sistemas de referencia de cada eslabón con respecto a la base\n",
    "    \"\"\"\n",
    "    q1 = q[0]; q2 = q[1]; q3 = q[2]\n",
    "    # Transformaciones homogéneas de DH\n",
    "    T01 = Tdh(  0,       q1, d1,  -np.pi/2)\n",
    "    T12 = Tdh( q2, -np.pi/2,  0,  -np.pi/2)\n",
    "    T23 = Tdh( q3,  np.pi/2,  0,  -np.pi/2)\n",
    "    # Efector final con respecto a la base\n",
    "    Tf = T01.dot(T12).dot(T23)\n",
    "    return Tf\n",
    "\n",
    "q = [0.388, 0.656, 1.065]\n",
    "Tout = cdirecta_preg6(q)\n",
    "print(np.round(Tout,3))"
   ]
  },
  {
   "cell_type": "markdown",
   "metadata": {},
   "source": [
    "### Pregunta 7"
   ]
  },
  {
   "cell_type": "code",
   "execution_count": 9,
   "metadata": {},
   "outputs": [
    {
     "name": "stdout",
     "output_type": "stream",
     "text": [
      "Tf:\n"
     ]
    },
    {
     "data": {
      "text/latex": [
       "$\\displaystyle \\left[\\begin{matrix}- \\cos{\\left(q_{1} \\right)} & - \\sin{\\left(q_{1} \\right)} & 0 & a_{1} \\cos{\\left(q_{1} \\right)} - q_{2} \\sin{\\left(q_{1} \\right)}\\\\- \\sin{\\left(q_{1} \\right)} & \\cos{\\left(q_{1} \\right)} & 0 & a_{1} \\sin{\\left(q_{1} \\right)} + q_{2} \\cos{\\left(q_{1} \\right)}\\\\0 & 0 & -1 & 0\\\\0 & 0 & 0 & 1\\end{matrix}\\right]$"
      ],
      "text/plain": [
       "Matrix([\n",
       "[-cos(q1), -sin(q1),  0, a1*cos(q1) - q2*sin(q1)],\n",
       "[-sin(q1),  cos(q1),  0, a1*sin(q1) + q2*cos(q1)],\n",
       "[       0,        0, -1,                       0],\n",
       "[       0,        0,  0,                       1]])"
      ]
     },
     "metadata": {},
     "output_type": "display_data"
    }
   ],
   "source": [
    "a1, q1, q2 = sp.symbols(\"a1 q1 q2\")\n",
    "T01 = sTdh( 0, q1, a1,  -sp.pi/2)\n",
    "T12 = sTdh(q2, sp.pi, 0, sp.pi/2)\n",
    "\n",
    "# Transformación homogénea final\n",
    "Tf = sp.simplify(T01*T12)\n",
    "\n",
    "# Mostrar las transformaciones homogéneas\n",
    "print(\"Tf:\"); display(Tf)"
   ]
  },
  {
   "cell_type": "markdown",
   "metadata": {},
   "source": [
    "a) Solución analítica"
   ]
  },
  {
   "cell_type": "code",
   "execution_count": 10,
   "metadata": {},
   "outputs": [
    {
     "name": "stdout",
     "output_type": "stream",
     "text": [
      "x^2+y^2 = \n"
     ]
    },
    {
     "data": {
      "text/latex": [
       "$\\displaystyle a_{1}^{2} + q_{2}^{2}$"
      ],
      "text/plain": [
       "a1**2 + q2**2"
      ]
     },
     "execution_count": 10,
     "metadata": {},
     "output_type": "execute_result"
    }
   ],
   "source": [
    "# Analíticamente:\n",
    "x = Tf[0,3]                                         \n",
    "y = Tf[1,3]\n",
    "print(\"x^2+y^2 = \"); sp.simplify(x**2+y**2)"
   ]
  },
  {
   "cell_type": "markdown",
   "metadata": {},
   "source": [
    "De aquí se puede despejar $q_2$ como:\n",
    "\n",
    "$q_2 = \\pm \\sqrt{x^2 + y^2 - a_1^2}$"
   ]
  },
  {
   "cell_type": "code",
   "execution_count": 11,
   "metadata": {},
   "outputs": [
    {
     "name": "stdout",
     "output_type": "stream",
     "text": [
      "sen(q1):\n"
     ]
    },
    {
     "data": {
      "text/latex": [
       "$\\displaystyle \\frac{a_{1} y - q_{2} x}{a_{1}^{2} + q_{2}^{2}}$"
      ],
      "text/plain": [
       "(a1*y - q2*x)/(a1**2 + q2**2)"
      ]
     },
     "metadata": {},
     "output_type": "display_data"
    },
    {
     "name": "stdout",
     "output_type": "stream",
     "text": [
      "cos(q1):\n"
     ]
    },
    {
     "data": {
      "text/latex": [
       "$\\displaystyle \\frac{a_{1} x + q_{2} y}{a_{1}^{2} + q_{2}^{2}}$"
      ],
      "text/plain": [
       "(a1*x + q2*y)/(a1**2 + q2**2)"
      ]
     },
     "metadata": {},
     "output_type": "display_data"
    }
   ],
   "source": [
    "# Para calcular q1 usando solo x, y, se encontrará los valores de sen(q1) y cos(q1) usando un sistema lineal\n",
    "x, y = sp.symbols(\"x y\")\n",
    "\n",
    "A = sp.Matrix([[-q2, a1],[a1, q2]])\n",
    "X = sp.Matrix([[x],[y]])\n",
    "\n",
    "res = sp.simplify(A.inv()*X)\n",
    "s1 = res[0]\n",
    "c1 = res[1]\n",
    "print(\"sen(q1):\"); display(s1)\n",
    "print(\"cos(q1):\"); display(c1)"
   ]
  },
  {
   "cell_type": "markdown",
   "metadata": {},
   "source": [
    "Usando estas expresiones, se obtiene $q_1$ como:\n",
    "\n",
    "$q_1 = \\text{atan2}\\left( \\dfrac{a_{1} y - q_{2} x}{a_{1}^{2} + q_{2}^{2}},  \\dfrac{a_{1} x + q_{2} y}{a_{1}^{2} + q_{2}^{2}}\\right)$"
   ]
  },
  {
   "cell_type": "code",
   "execution_count": 12,
   "metadata": {},
   "outputs": [
    {
     "name": "stdout",
     "output_type": "stream",
     "text": [
      "q2 = -3.6\n"
     ]
    }
   ],
   "source": [
    "# Para la posición deseada:\n",
    "xd = -2; yd = -3\n",
    "qq2 = - np.sqrt(xd**2 + yd**2 - 0.2**2)    # Nota: hay otra solución si se toma la raíz positiva\n",
    "print(\"q2 =\", qq2)"
   ]
  },
  {
   "cell_type": "code",
   "execution_count": 13,
   "metadata": {},
   "outputs": [
    {
     "data": {
      "text/latex": [
       "$\\displaystyle -0.643501108793284$"
      ],
      "text/plain": [
       "-0.643501108793284"
      ]
     },
     "execution_count": 13,
     "metadata": {},
     "output_type": "execute_result"
    }
   ],
   "source": [
    "q1 = sp.atan2(s1, c1)\n",
    "q1.subs({x:-2, y:-3, q2:-3.6, a1:0.2})"
   ]
  },
  {
   "cell_type": "markdown",
   "metadata": {},
   "source": [
    "c) Parte c"
   ]
  },
  {
   "cell_type": "code",
   "execution_count": 14,
   "metadata": {},
   "outputs": [
    {
     "name": "stdout",
     "output_type": "stream",
     "text": [
      "iteración: 0, error: 2.642642215175601\n",
      "iteración: 1, error: 1.3161336255899554\n",
      "iteración: 2, error: 0.24634626452899358\n",
      "iteración: 3, error: 0.00023212795062946596\n",
      "iteración: 4, error: 7.490642966856848e-09\n",
      "[-0.64350111 -3.6       ]\n"
     ]
    }
   ],
   "source": [
    "# Método de Newton\n",
    "cos=np.cos; sin=np.sin\n",
    "\n",
    "xd = np.array([-2, -3]) # Valor deseado en el espacio cartesiano\n",
    "q  = np.array([-0.5, -1]) # Valor inicial en el espacio articular\n",
    "epsilon = 1e-4\n",
    "max_iter = 100  # Maximo numero de iteraciones\n",
    " \n",
    "# Iteraciones: Método de Newton\n",
    "for i in range(max_iter):\n",
    "    q1 = q[0]; q2 = q[1];\n",
    "    J = np.array([\n",
    "            [-q2*cos(q1)-0.2*sin(q1), -sin(q1)],\n",
    "            [-q2*sin(q1)+0.2*cos(q1),  cos(q1)]])\n",
    "    f = np.array([-q2*sin(q1)+0.2*cos(q1), q2*cos(q1)+0.2*sin(q1)])\n",
    "    e = xd-f\n",
    "    q = q + np.dot(np.linalg.pinv(J), e)\n",
    "    print(\"iteración: {}, error: {}\".format(i, np.linalg.norm(e)))\n",
    "    # Condicion de término\n",
    "    if (np.linalg.norm(e) < epsilon):\n",
    "        break\n",
    "\n",
    "#print(np.round(q,3))\n",
    "print(q)"
   ]
  },
  {
   "cell_type": "code",
   "execution_count": 15,
   "metadata": {},
   "outputs": [
    {
     "name": "stdout",
     "output_type": "stream",
     "text": [
      "iteración: 0, error: 2.642642215175601\n",
      "iteración: 1, error: 2.3503757292184004\n",
      "iteración: 2, error: 2.1020340022157056\n",
      "iteración: 3, error: 1.8901856199595695\n",
      "iteración: 4, error: 1.70335636442845\n",
      "iteración: 5, error: 1.5353391300778954\n",
      "iteración: 6, error: 1.3835843804916528\n",
      "iteración: 7, error: 1.246575571916292\n",
      "iteración: 8, error: 1.1229736034470754\n",
      "iteración: 9, error: 1.0115219768195036\n",
      "iteración: 10, error: 0.9110594966973459\n",
      "iteración: 11, error: 0.8205240414438333\n",
      "iteración: 12, error: 0.738949042744266\n",
      "iteración: 13, error: 0.6654575359744698\n",
      "iteración: 14, error: 0.5992554321939662\n",
      "iteración: 15, error: 0.5396246674311829\n",
      "iteración: 16, error: 0.4859165516101722\n",
      "iteración: 17, error: 0.4375454777040838\n",
      "iteración: 18, error: 0.3939830632944996\n",
      "iteración: 19, error: 0.3547527478379523\n",
      "iteración: 20, error: 0.3194248420745781\n",
      "iteración: 21, error: 0.2876120115455792\n",
      "iteración: 22, error: 0.25896516880055814\n",
      "iteración: 23, error: 0.23316974558372902\n",
      "iteración: 24, error: 0.20994231537230185\n",
      "iteración: 25, error: 0.18902753709490797\n",
      "iteración: 26, error: 0.17019539208282447\n",
      "iteración: 27, error: 0.15323868794028442\n",
      "iteración: 28, error: 0.13797080484212\n",
      "iteración: 29, error: 0.12422366164405112\n",
      "iteración: 30, error: 0.11184588104247471\n",
      "iteración: 31, error: 0.10070113479976107\n",
      "iteración: 32, error: 0.09066665173151539\n",
      "iteración: 33, error: 0.08163187272109426\n",
      "iteración: 34, error: 0.07349723847929293\n",
      "iteración: 35, error: 0.06617309710403783\n",
      "iteración: 36, error: 0.05957871971992059\n",
      "iteración: 37, error: 0.053641413596030744\n",
      "iteración: 38, error: 0.04829572315940726\n",
      "iteración: 39, error: 0.04348271024749765\n",
      "iteración: 40, error: 0.039149305783441286\n",
      "iteración: 41, error: 0.03524772581964103\n",
      "iteración: 42, error: 0.031734945584740167\n",
      "iteración: 43, error: 0.028572225792900658\n",
      "iteración: 44, error: 0.025724686038254407\n",
      "iteración: 45, error: 0.023160920606853812\n",
      "iteración: 46, error: 0.02085265249854952\n",
      "iteración: 47, error: 0.01877442186652677\n",
      "iteración: 48, error: 0.016903305456965112\n",
      "iteración: 49, error: 0.015218663969364965\n",
      "iteración: 50, error: 0.013701914562958608\n",
      "iteración: 51, error: 0.012336326009547609\n",
      "iteración: 52, error: 0.011106834240940708\n",
      "iteración: 53, error: 0.00999987626255238\n",
      "iteración: 54, error: 0.009003240606100027\n",
      "iteración: 55, error: 0.008105932675712866\n",
      "iteración: 56, error: 0.007298053505308384\n",
      "iteración: 57, error: 0.006570690592347165\n",
      "iteración: 58, error: 0.005915819605791327\n",
      "iteración: 59, error: 0.0053262158856243235\n",
      "iteración: 60, error: 0.004795374758987841\n",
      "iteración: 61, error: 0.0043174397949489315\n",
      "iteración: 62, error: 0.003887138207305666\n",
      "iteración: 63, error: 0.0034997226934922886\n",
      "iteración: 64, error: 0.003150919068523306\n",
      "iteración: 65, error: 0.002836879116725595\n",
      "iteración: 66, error: 0.002554138141474256\n",
      "iteración: 67, error: 0.0022995767449140734\n",
      "iteración: 68, error: 0.0020703864162472255\n",
      "iteración: 69, error: 0.0018640385491350943\n",
      "iteración: 70, error: 0.0016782565465598715\n",
      "iteración: 71, error: 0.0015109907055171918\n",
      "iteración: 72, error: 0.0013603956045604745\n",
      "iteración: 73, error: 0.0012248097447991378\n",
      "iteración: 74, error: 0.0011027372198110772\n",
      "iteración: 75, error: 0.0009928312122839877\n",
      "[-0.644 -3.599]\n"
     ]
    }
   ],
   "source": [
    "# Descenso del gradiente\n",
    "xd = np.array([-2, -3]) # Valor deseado en el espacio cartesiano\n",
    "q  = np.array([-0.5, -1]) # Valor inicial en el espacio articular\n",
    "epsilon = 1e-3\n",
    "max_iter = 1000  # Máximo numero de iteraciones\n",
    "alpha = 0.1\n",
    "\n",
    "# Iteraciones\n",
    "for i in range(max_iter):\n",
    "    q1 = q[0]; q2 = q[1];\n",
    "    J = np.array([[-q2*cos(q1)-0.2*sin(q1), -sin(q1)],\n",
    "                  [-q2*sin(q1)+0.2*cos(q1),  cos(q1)]])\n",
    "    f = np.array([-q2*sin(q1)+0.2*cos(q1), q2*cos(q1)+0.2*sin(q1)])\n",
    "    e = xd-f\n",
    "    q = q + alpha*np.dot(J.T, e)\n",
    "    print(\"iteración: {}, error: {}\".format(i, np.linalg.norm(e)))\n",
    "    # Condicion de termino\n",
    "    if (np.linalg.norm(e) < epsilon):\n",
    "        break\n",
    "    if (i==max_iter-1):\n",
    "        print(\"No se llega al error deseado: escoger alpha más pequeño\")\n",
    "print(np.round(q,3))"
   ]
  }
 ],
 "metadata": {
  "kernelspec": {
   "display_name": "Python 3.9.12 ('base')",
   "language": "python",
   "name": "python3"
  },
  "language_info": {
   "codemirror_mode": {
    "name": "ipython",
    "version": 3
   },
   "file_extension": ".py",
   "mimetype": "text/x-python",
   "name": "python",
   "nbconvert_exporter": "python",
   "pygments_lexer": "ipython3",
   "version": "3.9.12"
  },
  "vscode": {
   "interpreter": {
    "hash": "470260c6919e9ff48e1a573ae64d2f776c76ca8b99100eba78f1a4e3574395cd"
   }
  }
 },
 "nbformat": 4,
 "nbformat_minor": 2
}
