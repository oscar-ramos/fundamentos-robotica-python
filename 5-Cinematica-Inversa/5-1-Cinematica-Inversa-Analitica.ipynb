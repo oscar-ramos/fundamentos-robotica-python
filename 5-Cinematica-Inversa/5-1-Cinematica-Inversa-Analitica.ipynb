{
 "cells": [
  {
   "cell_type": "markdown",
   "metadata": {},
   "source": [
    "# Cinemática Inversa: Ejemplos de soluciones analíticas\n",
    "[![Open In Colab](https://colab.research.google.com/assets/colab-badge.svg)](https://colab.research.google.com/github/oscar-ramos/fundamentos-robotica-python/blob/main/5-Cinematica-Invera/5-1-Cinematica-Inversa-Analitica.ipynb)\n",
    "\n",
    "Oscar E. Ramos Ponce, Universidad de Ingeniería y Tecnología - UTEC\n",
    "\n",
    "Fundamentos de Robótica\n",
    "\n",
    "Este archivo contiene algunos ejemplos de las diapositivas del curso"
   ]
  },
  {
   "cell_type": "code",
   "execution_count": 1,
   "metadata": {},
   "outputs": [],
   "source": [
    "import numpy as np"
   ]
  },
  {
   "cell_type": "markdown",
   "metadata": {},
   "source": [
    "### Diap 26: Solución Geométrica (analítica) - Robot RR"
   ]
  },
  {
   "cell_type": "markdown",
   "metadata": {},
   "source": [
    "La solución analítica usando un enfoque geométrico mostrada aquí corresponde al ejemplo de la diapositiva 26. La implementación no se encuentra \"optimizada\" ya que se está aplicando paso a paso las ecuaciones (solo con fines ilustrativos)."
   ]
  },
  {
   "cell_type": "code",
   "execution_count": 2,
   "metadata": {},
   "outputs": [],
   "source": [
    "def cinematica_inversa_RR_geom(x, y, L1, L2):\n",
    "    \"\"\"\n",
    "    Función que realiza el cálculo de la cinemática inversa (calculado usando geometría)\n",
    "    \"\"\"\n",
    "    c2 = (x**2+y**2-L1**2-L2**2)/(2*L1*L2)\n",
    "    s2a =  np.sqrt(1-c2**2)\n",
    "    s2b = -np.sqrt(1-c2**2)\n",
    "    \n",
    "    # Solución 1:\n",
    "    q2a = np.arctan2(s2a, c2)\n",
    "    q1a = np.arctan2(y,x) - np.arctan2(L2*s2a, L1+L2*c2)\n",
    "    \n",
    "    # Solución 2:\n",
    "    q2b = np.arctan2(s2b, c2)\n",
    "    q1b = np.arctan2(y,x) - np.arctan2(L2*s2b, L1+L2*c2)\n",
    "    \n",
    "    # Retornar ambas soluciones\n",
    "    return ((q1a, q2a), (q1b, q2b))"
   ]
  },
  {
   "cell_type": "markdown",
   "metadata": {},
   "source": [
    "Prueba de la cinemática inversa:"
   ]
  },
  {
   "cell_type": "code",
   "execution_count": 3,
   "metadata": {},
   "outputs": [
    {
     "name": "stdout",
     "output_type": "stream",
     "text": [
      "Solución 1: [0.2278 1.1152]\n",
      "Solución 2: [ 1.343  -1.1152]\n"
     ]
    }
   ],
   "source": [
    "# Longitudes fijas\n",
    "L1 = 1.0; L2 = 1.0\n",
    "\n",
    "# Valores cartesianos deseados (en x, en y)\n",
    "xdes = 1.2\n",
    "ydes = 1.2\n",
    "\n",
    "# Cálculo de la cinemática inversa\n",
    "Q = cinematica_inversa_RR_geom(xdes, ydes, L1, L2)\n",
    "\n",
    "print(\"Solución 1:\", np.round(Q[0], 4))\n",
    "print(\"Solución 2:\", np.round(Q[1], 4))"
   ]
  },
  {
   "cell_type": "markdown",
   "metadata": {},
   "source": [
    "Se verificará la solución utilizando la cinemática directa."
   ]
  },
  {
   "cell_type": "code",
   "execution_count": 4,
   "metadata": {},
   "outputs": [
    {
     "name": "stdout",
     "output_type": "stream",
     "text": [
      "Coordenada x,y obtenida: [1.2 1.2]\n",
      "Coordenada x,y obtenida: [1.2 1.2]\n"
     ]
    }
   ],
   "source": [
    "# Función que calcula la cinemática directa\n",
    "def cinematica_directa_RR(q, L1, L2):\n",
    "    q1 = q[0]; q2 = q[1]\n",
    "    x = L1*np.cos(q1) + L2*np.cos(q1+q2)\n",
    "    y = L1*np.sin(q1) + L2*np.sin(q1+q2)\n",
    "    return (x,y)\n",
    "\n",
    "# Verificación usando la cinemática directa: \n",
    "XY1 = cinematica_directa_RR(Q[0], L1, L2)\n",
    "XY2 = cinematica_directa_RR(Q[1], L1, L2)\n",
    "\n",
    "print(\"Coordenada x,y obtenida:\", np.round(XY1, 3))\n",
    "print(\"Coordenada x,y obtenida:\", np.round(XY2, 3))"
   ]
  },
  {
   "cell_type": "markdown",
   "metadata": {},
   "source": [
    "### Diap 28-29: Solución Algebraica (analítica) - Robot RR"
   ]
  },
  {
   "cell_type": "markdown",
   "metadata": {},
   "source": [
    "La solución analítica usada aquí a través de métodos algebraicos corresponde al ejemplo de las diapositivas 28 y 29"
   ]
  },
  {
   "cell_type": "code",
   "execution_count": 5,
   "metadata": {},
   "outputs": [],
   "source": [
    "def cinematica_inversa_RR_alg(x, y, L1, L2):\n",
    "    \"\"\"\n",
    "    Función que realiza el cálculo de la cinemática inversa (método algebraico)\n",
    "    \"\"\"   \n",
    "    c2 = (x**2+y**2-L1**2-L2**2)/(2*L1*L2)\n",
    "    s2a =  np.sqrt(1-c2**2)\n",
    "    s2b = -np.sqrt(1-c2**2)\n",
    "\n",
    "    # Dos valores para q2:\n",
    "    q2a = np.arctan2(s2a, c2)\n",
    "    q2b = np.arctan2(s2b, c2)\n",
    "\n",
    "    # Solución 1 para q1 (usando el primer valor posible de q2)\n",
    "    A = np.array([[L1+L2*c2,  -L2*s2a],\n",
    "                  [  L2*s2a, L1+L2*c2]])\n",
    "    v = np.dot( np.linalg.inv(A), np.array([x,y]) )\n",
    "    c1 = v[0]; s1 = v[1]\n",
    "    q1a = np.arctan2(s1, c1)\n",
    "\n",
    "    # Solución 2 para q1 (usando el segundo valor posible de q2)\n",
    "    A = np.array([[L1+L2*c2,  -L2*s2b],\n",
    "                  [  L2*s2b, L1+L2*c2]])\n",
    "    v = np.dot( np.linalg.inv(A), np.array([x,y]) )\n",
    "    c1 = v[0]; s1 = v[1]\n",
    "    q1b = np.arctan2(s1, c1)\n",
    "\n",
    "    # Retornar ambas soluciones\n",
    "    return ((q1a, q2a), (q1b, q2b))"
   ]
  },
  {
   "cell_type": "markdown",
   "metadata": {},
   "source": [
    "Prueba de la cinemática inversa:"
   ]
  },
  {
   "cell_type": "code",
   "execution_count": 6,
   "metadata": {},
   "outputs": [
    {
     "name": "stdout",
     "output_type": "stream",
     "text": [
      "Solución 1: [0.2278 1.1152]\n",
      "Solución 2: [ 1.343  -1.1152]\n"
     ]
    }
   ],
   "source": [
    "# Longitudes fijas\n",
    "L1 = 1.0; L2 = 1.0\n",
    "\n",
    "# Valores cartesianos deseados (en x, en y)\n",
    "xdes = 1.2\n",
    "ydes = 1.2\n",
    "\n",
    "# Cálculo de la cinemática inversa\n",
    "Q = cinematica_inversa_RR_alg(xdes, ydes, L1, L2)\n",
    "\n",
    "print(\"Solución 1:\", np.round(Q[0], 4))\n",
    "print(\"Solución 2:\", np.round(Q[1], 4))"
   ]
  },
  {
   "cell_type": "markdown",
   "metadata": {},
   "source": [
    "### Diap 30-31: Solución Algebraica (analítica) - Robot RPR "
   ]
  },
  {
   "cell_type": "markdown",
   "metadata": {},
   "source": [
    "La solución analítica mostrada aquí, calculada a partir de métodos analíticos, corresponde al ejemplo 2 de las diapositivas 30 y 31."
   ]
  },
  {
   "cell_type": "code",
   "execution_count": 7,
   "metadata": {},
   "outputs": [],
   "source": [
    "def cinematica_directa_RPR(q, a3, d1):\n",
    "    q1 = q[0]; q2 = q[1]; q3 = q[2]\n",
    "    q13 = q1+q3\n",
    "    T = np.array([[np.cos(q13), 0,  np.sin(q13), a3*np.cos(q13)+q2*np.sin(q1)],\n",
    "                  [np.sin(q13), 0, -np.cos(q13), a3*np.sin(q13)-q2*np.cos(q1)],\n",
    "                  [          0, 1,            0,                           d1],\n",
    "                  [          0, 0,            0,                            1]])\n",
    "    return T"
   ]
  },
  {
   "cell_type": "code",
   "execution_count": 8,
   "metadata": {},
   "outputs": [],
   "source": [
    "def cinematica_inversa_RPR(Tdes, a3, d1):\n",
    "    nx = Tdes[0,0]\n",
    "    ny = Tdes[1,0]\n",
    "    ax = Tdes[0,2]\n",
    "    px = Tdes[0,3]\n",
    "    py = Tdes[1,3]\n",
    "    # Valores articulares calculados\n",
    "    q1 = np.arctan2(px-a3*nx, a3*ny-py)\n",
    "    q3 = np.arctan2(ax, nx) - q1\n",
    "    q2 = px*np.sin(q1) - py*np.cos(q1) - a3*(nx*np.sin(q1)-ny*np.cos(q1))\n",
    "    # Resultado\n",
    "    return (q1, q2, q3)"
   ]
  },
  {
   "cell_type": "markdown",
   "metadata": {},
   "source": [
    "Se obtendrá una posición y orientación $T_{des}$ dada una configuración articular arbitraria"
   ]
  },
  {
   "cell_type": "code",
   "execution_count": 9,
   "metadata": {},
   "outputs": [
    {
     "name": "stdout",
     "output_type": "stream",
     "text": [
      "[[-0.27559025  0.          0.9612752   0.20383529]\n",
      " [ 0.9612752   0.          0.27559025  0.08369264]\n",
      " [ 0.          1.          0.          1.        ]\n",
      " [ 0.          0.          0.          1.        ]]\n"
     ]
    }
   ],
   "source": [
    "# Parámetros del robot\n",
    "a3 = 1; d1 = 1\n",
    "\n",
    "# Configuración articular arbitraria\n",
    "q = (0.5, 1.0, 1.35)\n",
    "\n",
    "# Posición y orientación correspondientes a q\n",
    "Tdes = cinematica_directa_RPR(q, 1, 1)\n",
    "print(Tdes)"
   ]
  },
  {
   "cell_type": "markdown",
   "metadata": {},
   "source": [
    "Utilizando $T_{des}$ se recuperará la configuración articular, usando cinemática inversa:"
   ]
  },
  {
   "cell_type": "code",
   "execution_count": 10,
   "metadata": {},
   "outputs": [
    {
     "name": "stdout",
     "output_type": "stream",
     "text": [
      "Valores articulares resultantes: (0.5, 1.0, 1.35)\n"
     ]
    }
   ],
   "source": [
    "q_new = cinematica_inversa_RPR(Tdes, a3, d1)\n",
    "\n",
    "print(\"Valores articulares resultantes:\", q_new)"
   ]
  }
 ],
 "metadata": {
  "kernelspec": {
   "display_name": "Python 3.9.12 ('base')",
   "language": "python",
   "name": "python3"
  },
  "language_info": {
   "codemirror_mode": {
    "name": "ipython",
    "version": 3
   },
   "file_extension": ".py",
   "mimetype": "text/x-python",
   "name": "python",
   "nbconvert_exporter": "python",
   "pygments_lexer": "ipython3",
   "version": "3.9.12"
  },
  "vscode": {
   "interpreter": {
    "hash": "470260c6919e9ff48e1a573ae64d2f776c76ca8b99100eba78f1a4e3574395cd"
   }
  }
 },
 "nbformat": 4,
 "nbformat_minor": 4
}
