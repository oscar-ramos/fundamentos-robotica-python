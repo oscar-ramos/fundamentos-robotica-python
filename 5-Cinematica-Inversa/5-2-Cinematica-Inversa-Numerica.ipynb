{
 "cells": [
  {
   "cell_type": "markdown",
   "metadata": {},
   "source": [
    "# Cinemática Inversa: Ejemplos de soluciones numérica\n",
    "[![Open In Colab](https://colab.research.google.com/assets/colab-badge.svg)](https://colab.research.google.com/github/oscar-ramos/fundamentos-robotica-python/blob/main/5-Cinematica-Inversa/5-2-Cinematica-Inversa-Numerica.ipynb)\n",
    "\n",
    "Oscar E. Ramos Ponce, Universidad de Ingeniería y Tecnología - UTEC\n",
    "\n",
    "Fundamentos de Robótica\n",
    "\n",
    "Este archivo contiene algunos ejemplos de las diapositivas del curso"
   ]
  },
  {
   "cell_type": "code",
   "execution_count": 1,
   "metadata": {},
   "outputs": [],
   "source": [
    "import numpy as np\n",
    "import matplotlib.pyplot as plt"
   ]
  },
  {
   "cell_type": "markdown",
   "metadata": {},
   "source": [
    "## 1.&nbsp;Método de Newton"
   ]
  },
  {
   "cell_type": "markdown",
   "metadata": {},
   "source": [
    "### 1.1.&nbsp;Ejemplo Robot RR (diap 41-43)"
   ]
  },
  {
   "cell_type": "markdown",
   "metadata": {},
   "source": [
    "Este ejemplo implementa el método de Newton de manera específica para el robot RR, tal como se desarrolla en las diapositivas del curso (41-43)."
   ]
  },
  {
   "cell_type": "code",
   "execution_count": 2,
   "metadata": {},
   "outputs": [
    {
     "name": "stdout",
     "output_type": "stream",
     "text": [
      "\n",
      "Valores articulares obtenidos: [0.2278 1.1152]\n"
     ]
    }
   ],
   "source": [
    "# Parámetros del robot\n",
    "L1 = 1; L2 = 1\n",
    "\n",
    "# Valor articular inicial\n",
    "q  = np.array([0.5, 0.5])\n",
    "\n",
    "# Valor x,y deseado (en el espacio cartesiano)\n",
    "xd = np.array([1.2, 1.2])\n",
    "\n",
    "# Hiperparámetros\n",
    "epsilon = 1e-4         # Máxima tolerancia del error\n",
    "max_iteraciones = 100  # Máximo número de iteraciones\n",
    " \n",
    "# Bucle principal\n",
    "for i in range(max_iteraciones):\n",
    "    q1 = q[0]; q2 = q[1]\n",
    "    # Jacobiano del robot RR\n",
    "    J = np.array([[-L1*np.sin(q1)-L2*np.sin(q1+q2), -L2*np.sin(q1+q2)],\n",
    "                  [ L1*np.cos(q1)+L2*np.cos(q1+q2),  L2*np.cos(q1+q2)]])\n",
    "    # Cinemática directa del robot RR\n",
    "    f = np.array([L1*np.cos(q1)+L2*np.cos(q1+q2), L1*np.sin(q1)+L2*np.sin(q1+q2)])\n",
    "    # Error\n",
    "    e = xd-f\n",
    "    # Actualización de q (método de Newton)\n",
    "    q = q + np.dot(np.linalg.pinv(J), e)\n",
    "\n",
    "    # Condición de término\n",
    "    if (np.linalg.norm(e) < epsilon):\n",
    "        break\n",
    " \n",
    "# Resultado de la cinemática inversa\n",
    "print(\"\\nValores articulares obtenidos:\", np.round(q,4))"
   ]
  },
  {
   "cell_type": "markdown",
   "metadata": {},
   "source": [
    "### 1.2.&nbsp;Ejemplo Robot RR - Implementación genérica"
   ]
  },
  {
   "cell_type": "markdown",
   "metadata": {},
   "source": [
    "Este ejemplo implementa el método de Newton de manera específica para el robot RR (el mismo de la sección anterior), pero separando las funciones del cálculo del jacobiano y de la cinemática directa, de tal modo que podría ser extendido a cualquier robot manipulador."
   ]
  },
  {
   "cell_type": "markdown",
   "metadata": {},
   "source": [
    "Funciones para el cálculo de la cinemática directa y del jacobiano. En este caso se muestran para el robot RR pero se podrían definir para cualquier manipulador."
   ]
  },
  {
   "cell_type": "code",
   "execution_count": 3,
   "metadata": {},
   "outputs": [],
   "source": [
    "def cinematica_directa_RR(q, L1=1, L2=1, all_links=False):\n",
    "    \"\"\"Calcula la cinemática directa del robot RR\n",
    "\n",
    "        q - Valores articulares (q1, q2)\n",
    "        L1, L2 - longitudes de cada eslabón\n",
    "        link1 - si True, retorna la posición de todos los eslabones\n",
    "    \"\"\"\n",
    "    q1 = q[0]; q2 = q[1]\n",
    "    x = L1*np.cos(q1) + L2*np.cos(q1+q2)   # x del eslabón 2 (efector final)\n",
    "    y = L1*np.sin(q1) + L2*np.sin(q1+q2)   # y del eslabón 2 (efector final)\n",
    "    if all_links:\n",
    "        x1 = L1*np.cos(q1)    # x del eslabón 1\n",
    "        y1 = L1*np.sin(q1)    # y del eslabón 1\n",
    "        return (x,y), (x1,y1)\n",
    "    else:\n",
    "        return np.array([x,y])\n",
    "\n",
    "def jacobiano_RR(q, L1=1, L2=1):\n",
    "    q1 = q[0]; q2 = q[1]\n",
    "    J = np.array([[-L1*np.sin(q1)-L2*np.sin(q1+q2), -L2*np.sin(q1+q2)],\n",
    "                  [ L1*np.cos(q1)+L2*np.cos(q1+q2),  L2*np.cos(q1+q2)]])\n",
    "    return J"
   ]
  },
  {
   "cell_type": "markdown",
   "metadata": {},
   "source": [
    "Función para el cálculo de la cinemática inversa (genérico)"
   ]
  },
  {
   "cell_type": "code",
   "execution_count": 4,
   "metadata": {},
   "outputs": [],
   "source": [
    "def cinematica_inversa_RR_Newton(Xdeseado, Qinicial, max_iter=100, epsilon=1e-4):\n",
    "    \"\"\"Cálculo de la cinemática inversa del robot RR usando el método de Newton\n",
    "       \n",
    "        Xdeseado - Posición deseada (x,y) del efector final \n",
    "        Qinicial - Configuración articular inicial\n",
    "        max_iter - número máximo de iteraciones\n",
    "        epsilon - tolerancia del error\n",
    "    \"\"\"\n",
    "    # Es importante usar \"copy\" para no sobrescribir el valor original\n",
    "    q = Qinicial.copy()\n",
    "    \n",
    "    # Almacenamiento del error\n",
    "    ee = []\n",
    "    \n",
    "    # Bucle principal\n",
    "    for i in range(max_iter):\n",
    "        J = jacobiano_RR(q)\n",
    "        f = cinematica_directa_RR(q)\n",
    "        # Error\n",
    "        e = Xdeseado-f\n",
    "        # Actualización de q (método de Newton)\n",
    "        q = q + np.dot(np.linalg.pinv(J), e)\n",
    "\n",
    "        # Norma del error\n",
    "        enorm = np.linalg.norm(e)\n",
    "        print(\"Error en la iteración {}: {}\".format(i, np.round(enorm,4)))\n",
    "        ee.append(enorm)    # Almacena los errores\n",
    "        \n",
    "        # Condición de término\n",
    "        if (np.linalg.norm(e) < epsilon):\n",
    "            break\n",
    "        if (i==max_iter-1):\n",
    "            print(\"El algoritmo no llegó al valor deseado\")\n",
    "\n",
    "    return q, ee"
   ]
  },
  {
   "cell_type": "markdown",
   "metadata": {},
   "source": [
    "**Prueba 1**: cinemática inversa con configuración inicial $q=(0.5, 0.5)$ y valor deseado $x_d=(1.2, 1.2)$:"
   ]
  },
  {
   "cell_type": "code",
   "execution_count": 5,
   "metadata": {},
   "outputs": [
    {
     "name": "stdout",
     "output_type": "stream",
     "text": [
      "Error en la iteración 0: 0.2492\n",
      "Error en la iteración 1: 0.2185\n",
      "Error en la iteración 2: 0.0204\n",
      "Error en la iteración 3: 0.0003\n",
      "Error en la iteración 4: 0.0\n",
      "\n",
      "Valores articulares obtenidos: [0.2278 1.1152]\n"
     ]
    }
   ],
   "source": [
    "# Valor articular inicial\n",
    "qinit  = np.array([0.5, 0.5])\n",
    "\n",
    "# Valor x,y deseado (en el espacio cartesiano)\n",
    "xd = np.array([1.2, 1.2])\n",
    "\n",
    "# Hiperparámetros\n",
    "epsilon = 1e-4         # Condición para el término\n",
    "max_iteraciones = 100  # Máximo número de iteraciones\n",
    " \n",
    "# Cinemática Inversa\n",
    "q, e = cinematica_inversa_RR_Newton(xd, qinit, max_iteraciones, epsilon)\n",
    "print(\"\\nValores articulares obtenidos:\", np.round(q,4))"
   ]
  },
  {
   "cell_type": "code",
   "execution_count": 6,
   "metadata": {},
   "outputs": [
    {
     "data": {
      "image/png": "[encoded data removed]",
      "text/plain": [
       "<Figure size 432x288 with 1 Axes>"
      ]
     },
     "metadata": {
      "needs_background": "light"
     },
     "output_type": "display_data"
    }
   ],
   "source": [
    "# Gráfico del error (debe ser decreciente)\n",
    "plt.plot(e,'b')\n",
    "plt.plot(e,'b.')\n",
    "plt.title(\"Evolución del error\"); plt.grid()\n",
    "plt.xlabel(\"Número de iteraciones\"); plt.ylabel(\"Norma del error\")\n",
    "plt.show()"
   ]
  },
  {
   "cell_type": "markdown",
   "metadata": {},
   "source": [
    "Verificación utilizando la cinemática directa:"
   ]
  },
  {
   "cell_type": "code",
   "execution_count": 7,
   "metadata": {},
   "outputs": [
    {
     "name": "stdout",
     "output_type": "stream",
     "text": [
      "Coordenada x,y obtenida: [1.2 1.2]\n"
     ]
    }
   ],
   "source": [
    "XY = cinematica_directa_RR(q)\n",
    "print(\"Coordenada x,y obtenida:\", np.round(XY, 4))"
   ]
  },
  {
   "cell_type": "markdown",
   "metadata": {},
   "source": [
    "Visualización de la configuración obtenida:"
   ]
  },
  {
   "cell_type": "code",
   "execution_count": 8,
   "metadata": {},
   "outputs": [
    {
     "data": {
      "image/png": "[encoded data removed]",
      "text/plain": [
       "<Figure size 432x288 with 1 Axes>"
      ]
     },
     "metadata": {
      "needs_background": "light"
     },
     "output_type": "display_data"
    }
   ],
   "source": [
    "# Posición del eslabón 1 y del eslabón 2\n",
    "XY2, XY1 = cinematica_directa_RR(q, all_links=True)\n",
    "\n",
    "# Gráfico de la configuración obtenida\n",
    "plt.plot([0, XY1[0]],[0, XY1[1]], 'b')\n",
    "plt.plot([XY1[0], XY2[0]],[XY1[1], XY2[1]], 'b')\n",
    "plt.axis('equal'); plt.grid()\n",
    "plt.show()"
   ]
  },
  {
   "cell_type": "markdown",
   "metadata": {},
   "source": [
    "**Prueba 2**: cinemática inversa con configuración inicial $q=(1, -1)$ y valor deseado $x_d=(1.2, 1.2)$:"
   ]
  },
  {
   "cell_type": "code",
   "execution_count": 9,
   "metadata": {},
   "outputs": [
    {
     "name": "stdout",
     "output_type": "stream",
     "text": [
      "Error en la iteración 0: 0.4943\n",
      "Error en la iteración 1: 0.0864\n",
      "Error en la iteración 2: 0.0044\n",
      "Error en la iteración 3: 0.0\n",
      "\n",
      "Valores articulares obtenidos: [ 1.343  -1.1152]\n"
     ]
    }
   ],
   "source": [
    "# Valor articular inicial\n",
    "qinit  = np.array([1, -1])\n",
    "\n",
    "# Cinemática Inversa\n",
    "q, e = cinematica_inversa_RR_Newton(xd, qinit)\n",
    "print(\"\\nValores articulares obtenidos:\", np.round(q,4))"
   ]
  },
  {
   "cell_type": "markdown",
   "metadata": {},
   "source": [
    "Verificación usando la cinemática directa:"
   ]
  },
  {
   "cell_type": "code",
   "execution_count": 10,
   "metadata": {},
   "outputs": [
    {
     "name": "stdout",
     "output_type": "stream",
     "text": [
      "Coordenada x,y obtenida: [1.2 1.2]\n"
     ]
    }
   ],
   "source": [
    "XY = cinematica_directa_RR(q)\n",
    "print(\"Coordenada x,y obtenida:\", np.round(XY, 4))"
   ]
  },
  {
   "cell_type": "code",
   "execution_count": 11,
   "metadata": {},
   "outputs": [
    {
     "data": {
      "image/png": "[encoded data removed]",
      "text/plain": [
       "<Figure size 432x288 with 1 Axes>"
      ]
     },
     "metadata": {
      "needs_background": "light"
     },
     "output_type": "display_data"
    }
   ],
   "source": [
    "# Posición del eslabón 1 y del eslabón 2\n",
    "XY2, XY1 = cinematica_directa_RR(q, all_links=True)\n",
    "\n",
    "# Gráfico de la configuración obtenida\n",
    "plt.plot([0, XY1[0]],[0, XY1[1]], 'b')\n",
    "plt.plot([XY1[0], XY2[0]],[XY1[1], XY2[1]], 'b')\n",
    "plt.axis('equal'); plt.grid()\n",
    "plt.show()"
   ]
  },
  {
   "cell_type": "markdown",
   "metadata": {},
   "source": [
    "## 2.&nbsp;Método del Descenso del Gradiente"
   ]
  },
  {
   "cell_type": "markdown",
   "metadata": {},
   "source": [
    "### 2.1.&nbsp;Ejemplo Robot RR (diap 47-49)"
   ]
  },
  {
   "cell_type": "markdown",
   "metadata": {},
   "source": [
    "Este ejemplo implementa el método del descenso del gradiente (o máximo decrecimiento) de manera específica para el robot RR, tal como se desarrolla en las diapositivas del curso (47-49)."
   ]
  },
  {
   "cell_type": "code",
   "execution_count": 12,
   "metadata": {},
   "outputs": [
    {
     "name": "stdout",
     "output_type": "stream",
     "text": [
      "Cinemática inversa: solución obtenida\n",
      "Valores articulares obtenidos: [0.2279 1.115 ]\n"
     ]
    }
   ],
   "source": [
    "# Parámetros del robot\n",
    "L1 = 1; L2 = 1\n",
    "\n",
    "# Valor articular inicial\n",
    "q  = np.array([0.5, 0.5])\n",
    "\n",
    "# Valor x,y deseado (en el espacio cartesiano)\n",
    "Xd = np.array([1.2, 1.2])\n",
    "\n",
    "# Hiperparámetros\n",
    "epsilon = 1e-4          # Máximo error admisible (condición para el término)\n",
    "max_iteraciones = 1000  # Máximo número de iteraciones\n",
    "alfa = 0.5\n",
    "\n",
    "# Bucle principal\n",
    "for i in range(max_iteraciones):\n",
    "    q1 = q[0]; q2 = q[1]\n",
    "    \n",
    "    # Jacobiano\n",
    "    J = np.array([[-L1*np.sin(q1)-L2*np.sin(q1+q2), -L2*np.sin(q1+q2)],\n",
    "                  [ L1*np.cos(q1)+L2*np.cos(q1+q2),  L2*np.cos(q1+q2)]])\n",
    "    # Posición del efector final (cinemática directa)\n",
    "    f = np.array([L1*np.cos(q1)+L2*np.cos(q1+q2), \n",
    "                  L1*np.sin(q1)+L2*np.sin(q1+q2)])\n",
    "    # Error\n",
    "    e = Xd-f\n",
    "    # Actualización del valor articular (descenso del gradiente)\n",
    "    q = q + alfa*np.dot(J.T, e)\n",
    "\n",
    "    # Condición de término\n",
    "    if (np.linalg.norm(e) < epsilon):\n",
    "        print(\"Cinemática inversa: solución obtenida\")\n",
    "        break\n",
    "\n",
    "print(\"Valores articulares obtenidos:\", np.round(q,4))"
   ]
  },
  {
   "cell_type": "markdown",
   "metadata": {},
   "source": [
    "### 2.2.&nbsp;Ejemplo Robot RR - Implementación genérica"
   ]
  },
  {
   "cell_type": "markdown",
   "metadata": {},
   "source": [
    "Este ejemplo implementa el método del descenso del gradiente (máximo decrecimiento / \"gradient descent\") de manera específica para el robot RR (el mismo de la sección anterior), pero separando las funciones del cálculo del jacobiano y de la cinemática directa, de tal modo que podría ser extendido a cualquier robot manipulador.\n",
    "\n",
    "Se hace uso de las funciones de cinemática directa y jacobiano (del robot RR) definidas al inicio de la sección 1.2."
   ]
  },
  {
   "cell_type": "code",
   "execution_count": 13,
   "metadata": {},
   "outputs": [],
   "source": [
    "def cinematica_inversa_RR_Gradiente(Xdeseado, Qinicial, alfa=0.5, max_iter=100, epsilon=1e-4):\n",
    "    \"\"\"Cálculo de la cinemática inversa usando el método del descenso del gradiente\n",
    "       \n",
    "        Xdeseado - Posición deseada (x,y) del efector final \n",
    "        Qinicial - Configuración articular inicial\n",
    "        alfa - tamaño de paso (\"learning rate\")\n",
    "        max_iter - número máximo de iteraciones\n",
    "        epsilon - tolerancia del error\n",
    "    \"\"\"\n",
    "    # Es importante usar \"copy\" para no sobrescribir el valor original\n",
    "    q = Qinicial.copy()\n",
    "    # Almacenamiento del error\n",
    "    ee = []\n",
    "    \n",
    "    # Bucle principal\n",
    "    for i in range(max_iter):\n",
    "        J = jacobiano_RR(q)\n",
    "        f = cinematica_directa_RR(q)\n",
    "        # Error\n",
    "        e = Xdeseado-f\n",
    "        # Actualización de q\n",
    "        q = q + alfa*np.dot(J.T, e)\n",
    "\n",
    "        # Norma del error\n",
    "        enorm = np.linalg.norm(e)\n",
    "        # print(\"Error en la iteración {}: {}\".format(i, np.round(enorm,4)))\n",
    "        ee.append(enorm)    # Almacena los errores\n",
    "        \n",
    "        # Condición de término\n",
    "        if (np.linalg.norm(e) < epsilon):\n",
    "            print(\"Cinemática inversa: solución obtenida\")\n",
    "            break\n",
    "        if (i==max_iter-1):\n",
    "            print(\"No se llegó a la solución deseada: modificar el valor de alfa\")\n",
    "    return q, ee"
   ]
  },
  {
   "cell_type": "markdown",
   "metadata": {},
   "source": [
    "Prueba de la cinemática inversa:"
   ]
  },
  {
   "cell_type": "code",
   "execution_count": 14,
   "metadata": {},
   "outputs": [
    {
     "name": "stdout",
     "output_type": "stream",
     "text": [
      "Cinemática inversa: solución obtenida\n",
      "Valores articulares obtenidos: [0.2279 1.115 ]\n"
     ]
    }
   ],
   "source": [
    "# Valor articular inicial\n",
    "qinit  = np.array([0.5, 0.5])\n",
    "\n",
    "# Valor x,y deseado (en el espacio cartesiano)\n",
    "xd = np.array([1.2, 1.2])\n",
    "\n",
    "# Hiperparámetros\n",
    "epsilon = 1e-4          # Condición para el término\n",
    "max_iteraciones = 1000  # Máximo número de iteraciones\n",
    "alfa = 0.5\n",
    "    \n",
    "# Cinemática Inversa\n",
    "q, e = cinematica_inversa_RR_Gradiente(xd, qinit, alfa, max_iteraciones, epsilon)\n",
    "print(\"Valores articulares obtenidos:\", np.round(q,4))"
   ]
  },
  {
   "cell_type": "markdown",
   "metadata": {},
   "source": [
    "Verificación usando la cinemática directa:"
   ]
  },
  {
   "cell_type": "code",
   "execution_count": 15,
   "metadata": {},
   "outputs": [
    {
     "name": "stdout",
     "output_type": "stream",
     "text": [
      "Coordenada x,y obtenida: [1.2    1.2001]\n"
     ]
    }
   ],
   "source": [
    "XY = cinematica_directa_RR(q)\n",
    "print(\"Coordenada x,y obtenida:\", np.round(XY, 4))"
   ]
  },
  {
   "cell_type": "markdown",
   "metadata": {},
   "source": [
    "**Gráfico de la evolución del error**: Se podrá observar que se requiere más iteraciones que el método de Newton. Se puede variar el valor de `alfa` para observar el efecto que tiene sobre la rapidez de convergencia y sobre la convergencia misma."
   ]
  },
  {
   "cell_type": "code",
   "execution_count": 16,
   "metadata": {},
   "outputs": [
    {
     "data": {
      "image/png": "[encoded data removed]",
      "text/plain": [
       "<Figure size 432x288 with 1 Axes>"
      ]
     },
     "metadata": {
      "needs_background": "light"
     },
     "output_type": "display_data"
    }
   ],
   "source": [
    "# Gráfico del error\n",
    "plt.plot(e,'b')\n",
    "plt.plot(e,'b.')\n",
    "plt.title(\"Evolución del error\"); plt.grid()\n",
    "plt.xlabel(\"Número de iteraciones\"); plt.ylabel(\"Norma del error\");"
   ]
  },
  {
   "cell_type": "markdown",
   "metadata": {},
   "source": [
    "## 3.&nbsp;Cálculo Numérico del Jacobiano"
   ]
  },
  {
   "cell_type": "markdown",
   "metadata": {},
   "source": [
    "### 3.1.&nbsp;Ejemplo Robot RR (diap 53-56)"
   ]
  },
  {
   "cell_type": "markdown",
   "metadata": {},
   "source": [
    "Se utilizará la función `cinematica_directa_RR`, definida anteriormente, para el robot RR."
   ]
  },
  {
   "cell_type": "code",
   "execution_count": 17,
   "metadata": {},
   "outputs": [
    {
     "name": "stdout",
     "output_type": "stream",
     "text": [
      "[-1.47739444  0.94758115]\n",
      "[-0.99753019  0.07023844]\n"
     ]
    }
   ],
   "source": [
    "# Configuración articular\n",
    "q = (0.5, 1.0)\n",
    "q1 = q[0]; q2 = q[1]\n",
    "\n",
    "# Valor pequeño para la diferenciación por diferencias finitas\n",
    "delta = 0.001\n",
    "\n",
    "# Columna con incremento de q1\n",
    "col1 = 1/delta * (cinematica_directa_RR([q1+delta, q2]) - cinematica_directa_RR([q1,q2]))\n",
    "# Columna con incremento de q2\n",
    "col2 = 1/delta * (cinematica_directa_RR([q1, q2+delta]) - cinematica_directa_RR([q1,q2]))\n",
    "\n",
    "print(col1)\n",
    "print(col2)"
   ]
  },
  {
   "cell_type": "code",
   "execution_count": 18,
   "metadata": {},
   "outputs": [
    {
     "name": "stdout",
     "output_type": "stream",
     "text": [
      "[[-1.47739444]\n",
      " [ 0.94758115]]\n",
      "[[-0.99753019]\n",
      " [ 0.07023844]]\n"
     ]
    }
   ],
   "source": [
    "# Arreglar el tamaño de las columnas (2x1)\n",
    "col1 = col1.reshape(2,1)\n",
    "col2 = col2.reshape(2,1)\n",
    "\n",
    "print(col1)\n",
    "print(col2)"
   ]
  },
  {
   "cell_type": "code",
   "execution_count": 19,
   "metadata": {},
   "outputs": [
    {
     "name": "stdout",
     "output_type": "stream",
     "text": [
      "[[-1.4774 -0.9975]\n",
      " [ 0.9476  0.0702]]\n"
     ]
    }
   ],
   "source": [
    "# Jacobiano: usando ambas columnas\n",
    "J = np.hstack((col1, col2))\n",
    "\n",
    "print(np.round(J,4))"
   ]
  },
  {
   "cell_type": "markdown",
   "metadata": {},
   "source": [
    "### 3.2.&nbsp;Ejemplo de cálculo genérico"
   ]
  },
  {
   "cell_type": "markdown",
   "metadata": {},
   "source": [
    "Se utilizará como ejemplo el jacobiano del robot RR. Se utilizará la función de cinemática directa de este robot, definida anteriormente."
   ]
  },
  {
   "cell_type": "code",
   "execution_count": 20,
   "metadata": {},
   "outputs": [],
   "source": [
    "def jacobian(q, delta=0.001):\n",
    "    \"\"\"\n",
    "    Jacobiano para el robot RR\n",
    "    \"\"\"\n",
    "    # Alocar espacio: matriz de ceros del tamaño adecuado (2x2 para XY del robot RR)\n",
    "    J = np.zeros((2,2))\n",
    "    # Posición en la configuración q\n",
    "    x = cinematica_directa_RR(q)\n",
    "    \n",
    "    # Iteraciones para las derivadas columna por columna\n",
    "    for i in range(2):\n",
    "        # Copiar la configuracion articular inicial (importante)\n",
    "        dq = np.copy(q)\n",
    "        \n",
    "        # Incrementar la articulacion i-esima usando un delta: qi+delta\n",
    "        dq[i] = dq[i] + delta\n",
    "        # Posición luego del incremento (con qi+delta)\n",
    "        dx = cinematica_directa_RR(dq)\n",
    "        \n",
    "        # Columna i usando diferencias finitas\n",
    "        columna_i = 1/delta * (dx-x)\n",
    "        # Almacenamiento de la columna i\n",
    "        J[:,i] = columna_i\n",
    "\n",
    "    return J"
   ]
  },
  {
   "cell_type": "markdown",
   "metadata": {},
   "source": [
    "Ejemplo de uso:"
   ]
  },
  {
   "cell_type": "code",
   "execution_count": 21,
   "metadata": {},
   "outputs": [
    {
     "name": "stdout",
     "output_type": "stream",
     "text": [
      "[[-1.4774 -0.9975]\n",
      " [ 0.9476  0.0702]]\n"
     ]
    }
   ],
   "source": [
    "q = (0.5, 1.0)\n",
    "J = jacobian(q)\n",
    "\n",
    "print(np.round(J,4))"
   ]
  },
  {
   "cell_type": "markdown",
   "metadata": {},
   "source": [
    "**Nota**: la cinemática directa utilizada en la función `jacobian` retorna directamente las posiciones `x`, `y`. En casos más genéricos, la cinemática directa retorna una transformación homogénea, de la cual se debe extraer los componentes de posición (cuarta columna)."
   ]
  }
 ],
 "metadata": {
  "kernelspec": {
   "display_name": "Python 3.9.12 ('base')",
   "language": "python",
   "name": "python3"
  },
  "language_info": {
   "codemirror_mode": {
    "name": "ipython",
    "version": 3
   },
   "file_extension": ".py",
   "mimetype": "text/x-python",
   "name": "python",
   "nbconvert_exporter": "python",
   "pygments_lexer": "ipython3",
   "version": "3.9.12"
  },
  "vscode": {
   "interpreter": {
    "hash": "470260c6919e9ff48e1a573ae64d2f776c76ca8b99100eba78f1a4e3574395cd"
   }
  }
 },
 "nbformat": 4,
 "nbformat_minor": 4
}
